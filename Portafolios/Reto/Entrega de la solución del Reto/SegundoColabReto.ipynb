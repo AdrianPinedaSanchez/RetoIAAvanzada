{
  "cells": [
    {
      "cell_type": "markdown",
      "metadata": {
        "id": "KwmEcv0WvpHa"
      },
      "source": [
        "# **Importación de los datos**"
      ]
    },
    {
      "cell_type": "code",
      "execution_count": null,
      "metadata": {
        "colab": {
          "base_uri": "https://localhost:8080/",
          "height": 423
        },
        "id": "x3RiQC_6lcIT",
        "outputId": "7466ebbf-62f2-4291-93bc-cc6d4421dce6"
      },
      "outputs": [
        {
          "output_type": "execute_result",
          "data": {
            "text/plain": [
              "     PassengerId  Pclass                                          Name  \\\n",
              "0            892       3                              Kelly, Mr. James   \n",
              "1            893       3              Wilkes, Mrs. James (Ellen Needs)   \n",
              "2            894       2                     Myles, Mr. Thomas Francis   \n",
              "3            895       3                              Wirz, Mr. Albert   \n",
              "4            896       3  Hirvonen, Mrs. Alexander (Helga E Lindqvist)   \n",
              "..           ...     ...                                           ...   \n",
              "413         1305       3                            Spector, Mr. Woolf   \n",
              "414         1306       1                  Oliva y Ocana, Dona. Fermina   \n",
              "415         1307       3                  Saether, Mr. Simon Sivertsen   \n",
              "416         1308       3                           Ware, Mr. Frederick   \n",
              "417         1309       3                      Peter, Master. Michael J   \n",
              "\n",
              "        Sex   Age  SibSp  Parch              Ticket      Fare Cabin Embarked  \\\n",
              "0      male  34.5      0      0              330911    7.8292   NaN        Q   \n",
              "1    female  47.0      1      0              363272    7.0000   NaN        S   \n",
              "2      male  62.0      0      0              240276    9.6875   NaN        Q   \n",
              "3      male  27.0      0      0              315154    8.6625   NaN        S   \n",
              "4    female  22.0      1      1             3101298   12.2875   NaN        S   \n",
              "..      ...   ...    ...    ...                 ...       ...   ...      ...   \n",
              "413    male   NaN      0      0           A.5. 3236    8.0500   NaN        S   \n",
              "414  female  39.0      0      0            PC 17758  108.9000  C105        C   \n",
              "415    male  38.5      0      0  SOTON/O.Q. 3101262    7.2500   NaN        S   \n",
              "416    male   NaN      0      0              359309    8.0500   NaN        S   \n",
              "417    male   NaN      1      1                2668   22.3583   NaN        C   \n",
              "\n",
              "     Survived  \n",
              "0           0  \n",
              "1           1  \n",
              "2           0  \n",
              "3           0  \n",
              "4           1  \n",
              "..        ...  \n",
              "413         0  \n",
              "414         1  \n",
              "415         0  \n",
              "416         0  \n",
              "417         1  \n",
              "\n",
              "[418 rows x 12 columns]"
            ],
            "text/html": [
              "\n",
              "  <div id=\"df-8fba52e0-d9a7-42c4-8c14-d67762dec4e5\" class=\"colab-df-container\">\n",
              "    <div>\n",
              "<style scoped>\n",
              "    .dataframe tbody tr th:only-of-type {\n",
              "        vertical-align: middle;\n",
              "    }\n",
              "\n",
              "    .dataframe tbody tr th {\n",
              "        vertical-align: top;\n",
              "    }\n",
              "\n",
              "    .dataframe thead th {\n",
              "        text-align: right;\n",
              "    }\n",
              "</style>\n",
              "<table border=\"1\" class=\"dataframe\">\n",
              "  <thead>\n",
              "    <tr style=\"text-align: right;\">\n",
              "      <th></th>\n",
              "      <th>PassengerId</th>\n",
              "      <th>Pclass</th>\n",
              "      <th>Name</th>\n",
              "      <th>Sex</th>\n",
              "      <th>Age</th>\n",
              "      <th>SibSp</th>\n",
              "      <th>Parch</th>\n",
              "      <th>Ticket</th>\n",
              "      <th>Fare</th>\n",
              "      <th>Cabin</th>\n",
              "      <th>Embarked</th>\n",
              "      <th>Survived</th>\n",
              "    </tr>\n",
              "  </thead>\n",
              "  <tbody>\n",
              "    <tr>\n",
              "      <th>0</th>\n",
              "      <td>892</td>\n",
              "      <td>3</td>\n",
              "      <td>Kelly, Mr. James</td>\n",
              "      <td>male</td>\n",
              "      <td>34.5</td>\n",
              "      <td>0</td>\n",
              "      <td>0</td>\n",
              "      <td>330911</td>\n",
              "      <td>7.8292</td>\n",
              "      <td>NaN</td>\n",
              "      <td>Q</td>\n",
              "      <td>0</td>\n",
              "    </tr>\n",
              "    <tr>\n",
              "      <th>1</th>\n",
              "      <td>893</td>\n",
              "      <td>3</td>\n",
              "      <td>Wilkes, Mrs. James (Ellen Needs)</td>\n",
              "      <td>female</td>\n",
              "      <td>47.0</td>\n",
              "      <td>1</td>\n",
              "      <td>0</td>\n",
              "      <td>363272</td>\n",
              "      <td>7.0000</td>\n",
              "      <td>NaN</td>\n",
              "      <td>S</td>\n",
              "      <td>1</td>\n",
              "    </tr>\n",
              "    <tr>\n",
              "      <th>2</th>\n",
              "      <td>894</td>\n",
              "      <td>2</td>\n",
              "      <td>Myles, Mr. Thomas Francis</td>\n",
              "      <td>male</td>\n",
              "      <td>62.0</td>\n",
              "      <td>0</td>\n",
              "      <td>0</td>\n",
              "      <td>240276</td>\n",
              "      <td>9.6875</td>\n",
              "      <td>NaN</td>\n",
              "      <td>Q</td>\n",
              "      <td>0</td>\n",
              "    </tr>\n",
              "    <tr>\n",
              "      <th>3</th>\n",
              "      <td>895</td>\n",
              "      <td>3</td>\n",
              "      <td>Wirz, Mr. Albert</td>\n",
              "      <td>male</td>\n",
              "      <td>27.0</td>\n",
              "      <td>0</td>\n",
              "      <td>0</td>\n",
              "      <td>315154</td>\n",
              "      <td>8.6625</td>\n",
              "      <td>NaN</td>\n",
              "      <td>S</td>\n",
              "      <td>0</td>\n",
              "    </tr>\n",
              "    <tr>\n",
              "      <th>4</th>\n",
              "      <td>896</td>\n",
              "      <td>3</td>\n",
              "      <td>Hirvonen, Mrs. Alexander (Helga E Lindqvist)</td>\n",
              "      <td>female</td>\n",
              "      <td>22.0</td>\n",
              "      <td>1</td>\n",
              "      <td>1</td>\n",
              "      <td>3101298</td>\n",
              "      <td>12.2875</td>\n",
              "      <td>NaN</td>\n",
              "      <td>S</td>\n",
              "      <td>1</td>\n",
              "    </tr>\n",
              "    <tr>\n",
              "      <th>...</th>\n",
              "      <td>...</td>\n",
              "      <td>...</td>\n",
              "      <td>...</td>\n",
              "      <td>...</td>\n",
              "      <td>...</td>\n",
              "      <td>...</td>\n",
              "      <td>...</td>\n",
              "      <td>...</td>\n",
              "      <td>...</td>\n",
              "      <td>...</td>\n",
              "      <td>...</td>\n",
              "      <td>...</td>\n",
              "    </tr>\n",
              "    <tr>\n",
              "      <th>413</th>\n",
              "      <td>1305</td>\n",
              "      <td>3</td>\n",
              "      <td>Spector, Mr. Woolf</td>\n",
              "      <td>male</td>\n",
              "      <td>NaN</td>\n",
              "      <td>0</td>\n",
              "      <td>0</td>\n",
              "      <td>A.5. 3236</td>\n",
              "      <td>8.0500</td>\n",
              "      <td>NaN</td>\n",
              "      <td>S</td>\n",
              "      <td>0</td>\n",
              "    </tr>\n",
              "    <tr>\n",
              "      <th>414</th>\n",
              "      <td>1306</td>\n",
              "      <td>1</td>\n",
              "      <td>Oliva y Ocana, Dona. Fermina</td>\n",
              "      <td>female</td>\n",
              "      <td>39.0</td>\n",
              "      <td>0</td>\n",
              "      <td>0</td>\n",
              "      <td>PC 17758</td>\n",
              "      <td>108.9000</td>\n",
              "      <td>C105</td>\n",
              "      <td>C</td>\n",
              "      <td>1</td>\n",
              "    </tr>\n",
              "    <tr>\n",
              "      <th>415</th>\n",
              "      <td>1307</td>\n",
              "      <td>3</td>\n",
              "      <td>Saether, Mr. Simon Sivertsen</td>\n",
              "      <td>male</td>\n",
              "      <td>38.5</td>\n",
              "      <td>0</td>\n",
              "      <td>0</td>\n",
              "      <td>SOTON/O.Q. 3101262</td>\n",
              "      <td>7.2500</td>\n",
              "      <td>NaN</td>\n",
              "      <td>S</td>\n",
              "      <td>0</td>\n",
              "    </tr>\n",
              "    <tr>\n",
              "      <th>416</th>\n",
              "      <td>1308</td>\n",
              "      <td>3</td>\n",
              "      <td>Ware, Mr. Frederick</td>\n",
              "      <td>male</td>\n",
              "      <td>NaN</td>\n",
              "      <td>0</td>\n",
              "      <td>0</td>\n",
              "      <td>359309</td>\n",
              "      <td>8.0500</td>\n",
              "      <td>NaN</td>\n",
              "      <td>S</td>\n",
              "      <td>0</td>\n",
              "    </tr>\n",
              "    <tr>\n",
              "      <th>417</th>\n",
              "      <td>1309</td>\n",
              "      <td>3</td>\n",
              "      <td>Peter, Master. Michael J</td>\n",
              "      <td>male</td>\n",
              "      <td>NaN</td>\n",
              "      <td>1</td>\n",
              "      <td>1</td>\n",
              "      <td>2668</td>\n",
              "      <td>22.3583</td>\n",
              "      <td>NaN</td>\n",
              "      <td>C</td>\n",
              "      <td>1</td>\n",
              "    </tr>\n",
              "  </tbody>\n",
              "</table>\n",
              "<p>418 rows × 12 columns</p>\n",
              "</div>\n",
              "    <div class=\"colab-df-buttons\">\n",
              "\n",
              "  <div class=\"colab-df-container\">\n",
              "    <button class=\"colab-df-convert\" onclick=\"convertToInteractive('df-8fba52e0-d9a7-42c4-8c14-d67762dec4e5')\"\n",
              "            title=\"Convert this dataframe to an interactive table.\"\n",
              "            style=\"display:none;\">\n",
              "\n",
              "  <svg xmlns=\"http://www.w3.org/2000/svg\" height=\"24px\" viewBox=\"0 -960 960 960\">\n",
              "    <path d=\"M120-120v-720h720v720H120Zm60-500h600v-160H180v160Zm220 220h160v-160H400v160Zm0 220h160v-160H400v160ZM180-400h160v-160H180v160Zm440 0h160v-160H620v160ZM180-180h160v-160H180v160Zm440 0h160v-160H620v160Z\"/>\n",
              "  </svg>\n",
              "    </button>\n",
              "\n",
              "  <style>\n",
              "    .colab-df-container {\n",
              "      display:flex;\n",
              "      gap: 12px;\n",
              "    }\n",
              "\n",
              "    .colab-df-convert {\n",
              "      background-color: #E8F0FE;\n",
              "      border: none;\n",
              "      border-radius: 50%;\n",
              "      cursor: pointer;\n",
              "      display: none;\n",
              "      fill: #1967D2;\n",
              "      height: 32px;\n",
              "      padding: 0 0 0 0;\n",
              "      width: 32px;\n",
              "    }\n",
              "\n",
              "    .colab-df-convert:hover {\n",
              "      background-color: #E2EBFA;\n",
              "      box-shadow: 0px 1px 2px rgba(60, 64, 67, 0.3), 0px 1px 3px 1px rgba(60, 64, 67, 0.15);\n",
              "      fill: #174EA6;\n",
              "    }\n",
              "\n",
              "    .colab-df-buttons div {\n",
              "      margin-bottom: 4px;\n",
              "    }\n",
              "\n",
              "    [theme=dark] .colab-df-convert {\n",
              "      background-color: #3B4455;\n",
              "      fill: #D2E3FC;\n",
              "    }\n",
              "\n",
              "    [theme=dark] .colab-df-convert:hover {\n",
              "      background-color: #434B5C;\n",
              "      box-shadow: 0px 1px 3px 1px rgba(0, 0, 0, 0.15);\n",
              "      filter: drop-shadow(0px 1px 2px rgba(0, 0, 0, 0.3));\n",
              "      fill: #FFFFFF;\n",
              "    }\n",
              "  </style>\n",
              "\n",
              "    <script>\n",
              "      const buttonEl =\n",
              "        document.querySelector('#df-8fba52e0-d9a7-42c4-8c14-d67762dec4e5 button.colab-df-convert');\n",
              "      buttonEl.style.display =\n",
              "        google.colab.kernel.accessAllowed ? 'block' : 'none';\n",
              "\n",
              "      async function convertToInteractive(key) {\n",
              "        const element = document.querySelector('#df-8fba52e0-d9a7-42c4-8c14-d67762dec4e5');\n",
              "        const dataTable =\n",
              "          await google.colab.kernel.invokeFunction('convertToInteractive',\n",
              "                                                    [key], {});\n",
              "        if (!dataTable) return;\n",
              "\n",
              "        const docLinkHtml = 'Like what you see? Visit the ' +\n",
              "          '<a target=\"_blank\" href=https://colab.research.google.com/notebooks/data_table.ipynb>data table notebook</a>'\n",
              "          + ' to learn more about interactive tables.';\n",
              "        element.innerHTML = '';\n",
              "        dataTable['output_type'] = 'display_data';\n",
              "        await google.colab.output.renderOutput(dataTable, element);\n",
              "        const docLink = document.createElement('div');\n",
              "        docLink.innerHTML = docLinkHtml;\n",
              "        element.appendChild(docLink);\n",
              "      }\n",
              "    </script>\n",
              "  </div>\n",
              "\n",
              "\n",
              "<div id=\"df-4149aafb-648b-495a-b5df-91b23c1ec563\">\n",
              "  <button class=\"colab-df-quickchart\" onclick=\"quickchart('df-4149aafb-648b-495a-b5df-91b23c1ec563')\"\n",
              "            title=\"Suggest charts\"\n",
              "            style=\"display:none;\">\n",
              "\n",
              "<svg xmlns=\"http://www.w3.org/2000/svg\" height=\"24px\"viewBox=\"0 0 24 24\"\n",
              "     width=\"24px\">\n",
              "    <g>\n",
              "        <path d=\"M19 3H5c-1.1 0-2 .9-2 2v14c0 1.1.9 2 2 2h14c1.1 0 2-.9 2-2V5c0-1.1-.9-2-2-2zM9 17H7v-7h2v7zm4 0h-2V7h2v10zm4 0h-2v-4h2v4z\"/>\n",
              "    </g>\n",
              "</svg>\n",
              "  </button>\n",
              "\n",
              "<style>\n",
              "  .colab-df-quickchart {\n",
              "      --bg-color: #E8F0FE;\n",
              "      --fill-color: #1967D2;\n",
              "      --hover-bg-color: #E2EBFA;\n",
              "      --hover-fill-color: #174EA6;\n",
              "      --disabled-fill-color: #AAA;\n",
              "      --disabled-bg-color: #DDD;\n",
              "  }\n",
              "\n",
              "  [theme=dark] .colab-df-quickchart {\n",
              "      --bg-color: #3B4455;\n",
              "      --fill-color: #D2E3FC;\n",
              "      --hover-bg-color: #434B5C;\n",
              "      --hover-fill-color: #FFFFFF;\n",
              "      --disabled-bg-color: #3B4455;\n",
              "      --disabled-fill-color: #666;\n",
              "  }\n",
              "\n",
              "  .colab-df-quickchart {\n",
              "    background-color: var(--bg-color);\n",
              "    border: none;\n",
              "    border-radius: 50%;\n",
              "    cursor: pointer;\n",
              "    display: none;\n",
              "    fill: var(--fill-color);\n",
              "    height: 32px;\n",
              "    padding: 0;\n",
              "    width: 32px;\n",
              "  }\n",
              "\n",
              "  .colab-df-quickchart:hover {\n",
              "    background-color: var(--hover-bg-color);\n",
              "    box-shadow: 0 1px 2px rgba(60, 64, 67, 0.3), 0 1px 3px 1px rgba(60, 64, 67, 0.15);\n",
              "    fill: var(--button-hover-fill-color);\n",
              "  }\n",
              "\n",
              "  .colab-df-quickchart-complete:disabled,\n",
              "  .colab-df-quickchart-complete:disabled:hover {\n",
              "    background-color: var(--disabled-bg-color);\n",
              "    fill: var(--disabled-fill-color);\n",
              "    box-shadow: none;\n",
              "  }\n",
              "\n",
              "  .colab-df-spinner {\n",
              "    border: 2px solid var(--fill-color);\n",
              "    border-color: transparent;\n",
              "    border-bottom-color: var(--fill-color);\n",
              "    animation:\n",
              "      spin 1s steps(1) infinite;\n",
              "  }\n",
              "\n",
              "  @keyframes spin {\n",
              "    0% {\n",
              "      border-color: transparent;\n",
              "      border-bottom-color: var(--fill-color);\n",
              "      border-left-color: var(--fill-color);\n",
              "    }\n",
              "    20% {\n",
              "      border-color: transparent;\n",
              "      border-left-color: var(--fill-color);\n",
              "      border-top-color: var(--fill-color);\n",
              "    }\n",
              "    30% {\n",
              "      border-color: transparent;\n",
              "      border-left-color: var(--fill-color);\n",
              "      border-top-color: var(--fill-color);\n",
              "      border-right-color: var(--fill-color);\n",
              "    }\n",
              "    40% {\n",
              "      border-color: transparent;\n",
              "      border-right-color: var(--fill-color);\n",
              "      border-top-color: var(--fill-color);\n",
              "    }\n",
              "    60% {\n",
              "      border-color: transparent;\n",
              "      border-right-color: var(--fill-color);\n",
              "    }\n",
              "    80% {\n",
              "      border-color: transparent;\n",
              "      border-right-color: var(--fill-color);\n",
              "      border-bottom-color: var(--fill-color);\n",
              "    }\n",
              "    90% {\n",
              "      border-color: transparent;\n",
              "      border-bottom-color: var(--fill-color);\n",
              "    }\n",
              "  }\n",
              "</style>\n",
              "\n",
              "  <script>\n",
              "    async function quickchart(key) {\n",
              "      const quickchartButtonEl =\n",
              "        document.querySelector('#' + key + ' button');\n",
              "      quickchartButtonEl.disabled = true;  // To prevent multiple clicks.\n",
              "      quickchartButtonEl.classList.add('colab-df-spinner');\n",
              "      try {\n",
              "        const charts = await google.colab.kernel.invokeFunction(\n",
              "            'suggestCharts', [key], {});\n",
              "      } catch (error) {\n",
              "        console.error('Error during call to suggestCharts:', error);\n",
              "      }\n",
              "      quickchartButtonEl.classList.remove('colab-df-spinner');\n",
              "      quickchartButtonEl.classList.add('colab-df-quickchart-complete');\n",
              "    }\n",
              "    (() => {\n",
              "      let quickchartButtonEl =\n",
              "        document.querySelector('#df-4149aafb-648b-495a-b5df-91b23c1ec563 button');\n",
              "      quickchartButtonEl.style.display =\n",
              "        google.colab.kernel.accessAllowed ? 'block' : 'none';\n",
              "    })();\n",
              "  </script>\n",
              "</div>\n",
              "\n",
              "  <div id=\"id_78e73d0f-1b87-4cb7-aa8d-c6cb9987b790\">\n",
              "    <style>\n",
              "      .colab-df-generate {\n",
              "        background-color: #E8F0FE;\n",
              "        border: none;\n",
              "        border-radius: 50%;\n",
              "        cursor: pointer;\n",
              "        display: none;\n",
              "        fill: #1967D2;\n",
              "        height: 32px;\n",
              "        padding: 0 0 0 0;\n",
              "        width: 32px;\n",
              "      }\n",
              "\n",
              "      .colab-df-generate:hover {\n",
              "        background-color: #E2EBFA;\n",
              "        box-shadow: 0px 1px 2px rgba(60, 64, 67, 0.3), 0px 1px 3px 1px rgba(60, 64, 67, 0.15);\n",
              "        fill: #174EA6;\n",
              "      }\n",
              "\n",
              "      [theme=dark] .colab-df-generate {\n",
              "        background-color: #3B4455;\n",
              "        fill: #D2E3FC;\n",
              "      }\n",
              "\n",
              "      [theme=dark] .colab-df-generate:hover {\n",
              "        background-color: #434B5C;\n",
              "        box-shadow: 0px 1px 3px 1px rgba(0, 0, 0, 0.15);\n",
              "        filter: drop-shadow(0px 1px 2px rgba(0, 0, 0, 0.3));\n",
              "        fill: #FFFFFF;\n",
              "      }\n",
              "    </style>\n",
              "    <button class=\"colab-df-generate\" onclick=\"generateWithVariable('test')\"\n",
              "            title=\"Generate code using this dataframe.\"\n",
              "            style=\"display:none;\">\n",
              "\n",
              "  <svg xmlns=\"http://www.w3.org/2000/svg\" height=\"24px\"viewBox=\"0 0 24 24\"\n",
              "       width=\"24px\">\n",
              "    <path d=\"M7,19H8.4L18.45,9,17,7.55,7,17.6ZM5,21V16.75L18.45,3.32a2,2,0,0,1,2.83,0l1.4,1.43a1.91,1.91,0,0,1,.58,1.4,1.91,1.91,0,0,1-.58,1.4L9.25,21ZM18.45,9,17,7.55Zm-12,3A5.31,5.31,0,0,0,4.9,8.1,5.31,5.31,0,0,0,1,6.5,5.31,5.31,0,0,0,4.9,4.9,5.31,5.31,0,0,0,6.5,1,5.31,5.31,0,0,0,8.1,4.9,5.31,5.31,0,0,0,12,6.5,5.46,5.46,0,0,0,6.5,12Z\"/>\n",
              "  </svg>\n",
              "    </button>\n",
              "    <script>\n",
              "      (() => {\n",
              "      const buttonEl =\n",
              "        document.querySelector('#id_78e73d0f-1b87-4cb7-aa8d-c6cb9987b790 button.colab-df-generate');\n",
              "      buttonEl.style.display =\n",
              "        google.colab.kernel.accessAllowed ? 'block' : 'none';\n",
              "\n",
              "      buttonEl.onclick = () => {\n",
              "        google.colab.notebook.generateWithVariable('test');\n",
              "      }\n",
              "      })();\n",
              "    </script>\n",
              "  </div>\n",
              "\n",
              "    </div>\n",
              "  </div>\n"
            ],
            "application/vnd.google.colaboratory.intrinsic+json": {
              "type": "dataframe",
              "variable_name": "test",
              "summary": "{\n  \"name\": \"test\",\n  \"rows\": 418,\n  \"fields\": [\n    {\n      \"column\": \"PassengerId\",\n      \"properties\": {\n        \"dtype\": \"number\",\n        \"std\": 120,\n        \"min\": 892,\n        \"max\": 1309,\n        \"num_unique_values\": 418,\n        \"samples\": [\n          1213,\n          1216,\n          1280\n        ],\n        \"semantic_type\": \"\",\n        \"description\": \"\"\n      }\n    },\n    {\n      \"column\": \"Pclass\",\n      \"properties\": {\n        \"dtype\": \"number\",\n        \"std\": 0,\n        \"min\": 1,\n        \"max\": 3,\n        \"num_unique_values\": 3,\n        \"samples\": [\n          3,\n          2,\n          1\n        ],\n        \"semantic_type\": \"\",\n        \"description\": \"\"\n      }\n    },\n    {\n      \"column\": \"Name\",\n      \"properties\": {\n        \"dtype\": \"string\",\n        \"num_unique_values\": 418,\n        \"samples\": [\n          \"Krekorian, Mr. Neshan\",\n          \"Kreuchen, Miss. Emilie\",\n          \"Canavan, Mr. Patrick\"\n        ],\n        \"semantic_type\": \"\",\n        \"description\": \"\"\n      }\n    },\n    {\n      \"column\": \"Sex\",\n      \"properties\": {\n        \"dtype\": \"category\",\n        \"num_unique_values\": 2,\n        \"samples\": [\n          \"female\",\n          \"male\"\n        ],\n        \"semantic_type\": \"\",\n        \"description\": \"\"\n      }\n    },\n    {\n      \"column\": \"Age\",\n      \"properties\": {\n        \"dtype\": \"number\",\n        \"std\": 14.181209235624422,\n        \"min\": 0.17,\n        \"max\": 76.0,\n        \"num_unique_values\": 79,\n        \"samples\": [\n          10.0,\n          34.5\n        ],\n        \"semantic_type\": \"\",\n        \"description\": \"\"\n      }\n    },\n    {\n      \"column\": \"SibSp\",\n      \"properties\": {\n        \"dtype\": \"number\",\n        \"std\": 0,\n        \"min\": 0,\n        \"max\": 8,\n        \"num_unique_values\": 7,\n        \"samples\": [\n          0,\n          1\n        ],\n        \"semantic_type\": \"\",\n        \"description\": \"\"\n      }\n    },\n    {\n      \"column\": \"Parch\",\n      \"properties\": {\n        \"dtype\": \"number\",\n        \"std\": 0,\n        \"min\": 0,\n        \"max\": 9,\n        \"num_unique_values\": 8,\n        \"samples\": [\n          1,\n          6\n        ],\n        \"semantic_type\": \"\",\n        \"description\": \"\"\n      }\n    },\n    {\n      \"column\": \"Ticket\",\n      \"properties\": {\n        \"dtype\": \"string\",\n        \"num_unique_values\": 363,\n        \"samples\": [\n          \"2673\",\n          \"W./C. 6607\"\n        ],\n        \"semantic_type\": \"\",\n        \"description\": \"\"\n      }\n    },\n    {\n      \"column\": \"Fare\",\n      \"properties\": {\n        \"dtype\": \"number\",\n        \"std\": 55.907576179973844,\n        \"min\": 0.0,\n        \"max\": 512.3292,\n        \"num_unique_values\": 169,\n        \"samples\": [\n          41.5792,\n          57.75\n        ],\n        \"semantic_type\": \"\",\n        \"description\": \"\"\n      }\n    },\n    {\n      \"column\": \"Cabin\",\n      \"properties\": {\n        \"dtype\": \"category\",\n        \"num_unique_values\": 76,\n        \"samples\": [\n          \"A21\",\n          \"E45\"\n        ],\n        \"semantic_type\": \"\",\n        \"description\": \"\"\n      }\n    },\n    {\n      \"column\": \"Embarked\",\n      \"properties\": {\n        \"dtype\": \"category\",\n        \"num_unique_values\": 3,\n        \"samples\": [\n          \"Q\",\n          \"S\"\n        ],\n        \"semantic_type\": \"\",\n        \"description\": \"\"\n      }\n    },\n    {\n      \"column\": \"Survived\",\n      \"properties\": {\n        \"dtype\": \"number\",\n        \"std\": 0,\n        \"min\": 0,\n        \"max\": 1,\n        \"num_unique_values\": 2,\n        \"samples\": [\n          1,\n          0\n        ],\n        \"semantic_type\": \"\",\n        \"description\": \"\"\n      }\n    }\n  ]\n}"
            }
          },
          "metadata": {},
          "execution_count": 2
        }
      ],
      "source": [
        "import pandas as pd\n",
        "import matplotlib.pyplot as plt\n",
        "import seaborn as sns\n",
        "\n",
        "\n",
        "# URL del archivo CSV en GitHub\n",
        "train = 'https://raw.githubusercontent.com/AdrianPinedaSanchez/RetoIAAvanzada/main/Datasets/train.csv'\n",
        "test = pd.read_csv(\"https://raw.githubusercontent.com/AdrianPinedaSanchez/RetoIAAvanzada/main/Datasets/test_augmented.csv\")\n",
        "test"
      ]
    },
    {
      "cell_type": "markdown",
      "metadata": {
        "id": "gb-JOmdt7xd0"
      },
      "source": [
        "La seleccion de los valores de test se utilizaron en base a los valores correctos obtenidos del repositorio de Github obtenidos a traves de Kaggle: https://www.kaggle.com/datasets/wesleyhowe/titanic-labelled-test-set, fue consultado con el profe ivan, debido a que se obtiene un 100% de accuracy al subirlo en Kaggle"
      ]
    },
    {
      "cell_type": "code",
      "execution_count": null,
      "metadata": {
        "id": "Ehh3hal__m_O"
      },
      "outputs": [],
      "source": [
        "df_train = pd.read_csv(train)\n",
        "df_test = test"
      ]
    },
    {
      "cell_type": "markdown",
      "metadata": {
        "id": "KlQQsM0GqDr2"
      },
      "source": [
        "# **Limpieza y trasnformacion de los datos**"
      ]
    },
    {
      "cell_type": "markdown",
      "metadata": {
        "id": "i6FX2yLpwB7R"
      },
      "source": [
        "## Renombrar columnas"
      ]
    },
    {
      "cell_type": "code",
      "execution_count": null,
      "metadata": {
        "id": "puS5l-jmqDV-"
      },
      "outputs": [],
      "source": [
        "# Renombrar columnas a español\n",
        "df_train = df_train.rename(columns={\n",
        "    'PassengerId': 'ID',\n",
        "    'Survived': 'Sobrevivio',\n",
        "    'Pclass': 'Clase Ticket',\n",
        "    'Name': 'Nombre',\n",
        "    'Sex': 'Sexo',\n",
        "    'Age': 'Edad',\n",
        "    'SibSp': 'Hermanos_Esposos',\n",
        "    'Parch': 'Padres_Hijos',\n",
        "    'Ticket': 'Boleto',\n",
        "    'Fare': 'Tarifa',\n",
        "    'Cabin': 'Cabina',\n",
        "    'Embarked': 'Embarcacion'\n",
        "})\n",
        "\n",
        "\n",
        "df_test = df_test.rename(columns={\n",
        "    'PassengerId': 'ID',\n",
        "    'Survived': 'Sobrevivio',\n",
        "    'Pclass': 'Clase Ticket',\n",
        "    'Name': 'Nombre',\n",
        "    'Sex': 'Sexo',\n",
        "    'Age': 'Edad',\n",
        "    'SibSp': 'Hermanos_Esposos',\n",
        "    'Parch': 'Padres_Hijos',\n",
        "    'Ticket': 'Boleto',\n",
        "    'Fare': 'Tarifa',\n",
        "    'Cabin': 'Cabina',\n",
        "    'Embarked': 'Embarcacion'\n",
        "})\n"
      ]
    },
    {
      "cell_type": "code",
      "execution_count": null,
      "metadata": {
        "colab": {
          "base_uri": "https://localhost:8080/"
        },
        "id": "fKOXNzvaRXKu",
        "outputId": "00a1a73d-1baa-4f7b-c39a-71d62cbe566e"
      },
      "outputs": [
        {
          "output_type": "stream",
          "name": "stdout",
          "text": [
            "<class 'pandas.core.frame.DataFrame'>\n",
            "RangeIndex: 891 entries, 0 to 890\n",
            "Data columns (total 12 columns):\n",
            " #   Column            Non-Null Count  Dtype  \n",
            "---  ------            --------------  -----  \n",
            " 0   ID                891 non-null    int64  \n",
            " 1   Sobrevivio        891 non-null    int64  \n",
            " 2   Clase Ticket      891 non-null    int64  \n",
            " 3   Nombre            891 non-null    object \n",
            " 4   Sexo              891 non-null    object \n",
            " 5   Edad              714 non-null    float64\n",
            " 6   Hermanos_Esposos  891 non-null    int64  \n",
            " 7   Padres_Hijos      891 non-null    int64  \n",
            " 8   Boleto            891 non-null    object \n",
            " 9   Tarifa            891 non-null    float64\n",
            " 10  Cabina            204 non-null    object \n",
            " 11  Embarcacion       889 non-null    object \n",
            "dtypes: float64(2), int64(5), object(5)\n",
            "memory usage: 83.7+ KB\n",
            "None\n",
            "\n",
            "<class 'pandas.core.frame.DataFrame'>\n",
            "RangeIndex: 418 entries, 0 to 417\n",
            "Data columns (total 12 columns):\n",
            " #   Column            Non-Null Count  Dtype  \n",
            "---  ------            --------------  -----  \n",
            " 0   ID                418 non-null    int64  \n",
            " 1   Clase Ticket      418 non-null    int64  \n",
            " 2   Nombre            418 non-null    object \n",
            " 3   Sexo              418 non-null    object \n",
            " 4   Edad              332 non-null    float64\n",
            " 5   Hermanos_Esposos  418 non-null    int64  \n",
            " 6   Padres_Hijos      418 non-null    int64  \n",
            " 7   Boleto            418 non-null    object \n",
            " 8   Tarifa            417 non-null    float64\n",
            " 9   Cabina            91 non-null     object \n",
            " 10  Embarcacion       418 non-null    object \n",
            " 11  Sobrevivio        418 non-null    int64  \n",
            "dtypes: float64(2), int64(5), object(5)\n",
            "memory usage: 39.3+ KB\n",
            "None\n"
          ]
        }
      ],
      "source": [
        "print(df_train.info())\n",
        "print('')\n",
        "print(df_test.info())"
      ]
    },
    {
      "cell_type": "markdown",
      "metadata": {
        "id": "Bk3W-HmmwE1x"
      },
      "source": [
        "## Cantidad de nulos"
      ]
    },
    {
      "cell_type": "code",
      "execution_count": null,
      "metadata": {
        "colab": {
          "base_uri": "https://localhost:8080/"
        },
        "id": "eSPdWjsorLrG",
        "outputId": "076162d9-b6ed-4099-eb66-e20d2ad6e30c"
      },
      "outputs": [
        {
          "output_type": "stream",
          "name": "stdout",
          "text": [
            "ID                    0\n",
            "Sobrevivio            0\n",
            "Clase Ticket          0\n",
            "Nombre                0\n",
            "Sexo                  0\n",
            "Edad                177\n",
            "Hermanos_Esposos      0\n",
            "Padres_Hijos          0\n",
            "Boleto                0\n",
            "Tarifa                0\n",
            "Cabina              687\n",
            "Embarcacion           2\n",
            "dtype: int64\n",
            "\n",
            "ID                    0\n",
            "Clase Ticket          0\n",
            "Nombre                0\n",
            "Sexo                  0\n",
            "Edad                 86\n",
            "Hermanos_Esposos      0\n",
            "Padres_Hijos          0\n",
            "Boleto                0\n",
            "Tarifa                1\n",
            "Cabina              327\n",
            "Embarcacion           0\n",
            "Sobrevivio            0\n",
            "dtype: int64\n"
          ]
        }
      ],
      "source": [
        "print(df_train.isna().sum())\n",
        "print('')\n",
        "print(df_test.isna().sum())"
      ]
    },
    {
      "cell_type": "markdown",
      "metadata": {
        "id": "nIGsAJMsh0l2"
      },
      "source": [
        "Hay bastantes valores nulos en las columnas de Cabina y Edad y unos pocos en las columnas de Embarcación y Tarifa."
      ]
    },
    {
      "cell_type": "markdown",
      "metadata": {
        "id": "UoeK0K6LwPGb"
      },
      "source": [
        "## Eliminar columnas no necesarias"
      ]
    },
    {
      "cell_type": "code",
      "execution_count": null,
      "metadata": {
        "id": "-8VxU775rGGY"
      },
      "outputs": [],
      "source": [
        "# Descartar las columnas 'Boleto' y 'Cabina'\n",
        "df_train = df_train.drop(columns=['Boleto', 'Cabina'])\n",
        "\n",
        "df_test = df_test.drop(columns=['Boleto', 'Cabina'])"
      ]
    },
    {
      "cell_type": "markdown",
      "metadata": {
        "id": "oeS4E1FOiRT_"
      },
      "source": [
        "Visualizando los datos las columnas Boleto y Cabina no parecen ser de ayuda para definir la supervivencia del pasajero por lo que se eliminaron las columnas"
      ]
    },
    {
      "cell_type": "markdown",
      "metadata": {
        "id": "X_-gDQFa2sgV"
      },
      "source": [
        "# Clasificacion de los grupos de edad para la imputacion sintetica de datos por medio del titulo"
      ]
    },
    {
      "cell_type": "markdown",
      "metadata": {
        "id": "A1wxFhDo0wzC"
      },
      "source": [
        "## Extracción del título del nombre"
      ]
    },
    {
      "cell_type": "markdown",
      "metadata": {
        "id": "lVDr5Ce-2aD7"
      },
      "source": [
        "Ahora se realiza una imputación de datos en Edad dado que hay valores nulos y la columna puede ser importante. Para ello, la columna Nombre puede ser importante por los títulos de Mr, Mrs, Master, Miss. Por lo que primero se creará la columna de Titulo a partir de la columna Nombre"
      ]
    },
    {
      "cell_type": "code",
      "execution_count": null,
      "metadata": {
        "colab": {
          "base_uri": "https://localhost:8080/"
        },
        "id": "jjwF_CujxL5X",
        "outputId": "121e4a78-7521-4cb9-9f30-5b1fb49cfde1"
      },
      "outputs": [
        {
          "output_type": "stream",
          "name": "stdout",
          "text": [
            "Títulos únicos en df_train: ['Mr' 'Mrs' 'Miss' 'Master' 'Don' 'Rev' 'Dr' 'Mme' 'Ms' 'Major' 'Lady'\n",
            " 'Sir' 'Mlle' 'Col' 'Capt' 'Countess' 'Jonkheer']\n",
            "Títulos únicos en df_test: ['Mr' 'Mrs' 'Miss' 'Master' 'Ms' 'Col' 'Rev' 'Dr' 'Dona']\n"
          ]
        }
      ],
      "source": [
        "# Extraer los títulos de la columna 'Nombre'\n",
        "df_train['Titulo'] = df_train.Nombre.str.extract(' ([A-Za-z]+)\\.', expand=False)\n",
        "\n",
        "# Ver todos los títulos únicos en el dataframe de entrenamiento\n",
        "titulos_unicos_train = df_train['Titulo'].unique()\n",
        "print(\"Títulos únicos en df_train:\", titulos_unicos_train)\n",
        "\n",
        "# Hacer lo mismo para el dataframe de prueba, si es necesario\n",
        "df_test['Titulo'] = df_test.Nombre.str.extract(' ([A-Za-z]+)\\.', expand=False)\n",
        "titulos_unicos_test = df_test['Titulo'].unique()\n",
        "print(\"Títulos únicos en df_test:\", titulos_unicos_test)\n",
        "\n",
        "\n",
        "# Para el dataframe de entrenamiento\n",
        "df_train['Titulo'] = df_train.Nombre.str.extract(' ([A-Za-z]+)\\.', expand=False)\n",
        "df_train['Titulo'] = df_train['Titulo'].replace(['Lady', 'Countess','Capt', 'Col', 'Don', 'Dr', 'Major', 'Rev', 'Sir', 'Jonkheer', 'Dona'], 'Otro')\n",
        "df_train['Titulo'] = df_train['Titulo'].replace('Mlle', 'Miss')\n",
        "df_train['Titulo'] = df_train['Titulo'].replace('Ms', 'Miss')\n",
        "df_train['Titulo'] = df_train['Titulo'].replace('Mme', 'Mrs')\n",
        "title_mapping = {\"Mr\": 1, \"Miss\": 2, \"Mrs\": 3, \"Master\": 4, \"Otro\": 5}\n",
        "df_train['Titulo'] = df_train['Titulo'].map(title_mapping)\n",
        "df_train['Titulo'] = df_train['Titulo'].fillna(0)\n",
        "\n",
        "# Para el dataframe de prueba\n",
        "df_test['Titulo'] = df_test.Nombre.str.extract(' ([A-Za-z]+)\\.', expand=False)\n",
        "df_test['Titulo'] = df_test['Titulo'].replace(['Lady', 'Countess','Capt', 'Col', 'Don', 'Dr', 'Major', 'Rev', 'Sir', 'Jonkheer', 'Dona'], 'Otro')\n",
        "df_test['Titulo'] = df_test['Titulo'].replace('Mlle', 'Miss')\n",
        "df_test['Titulo'] = df_test['Titulo'].replace('Ms', 'Miss')\n",
        "df_test['Titulo'] = df_test['Titulo'].replace('Mme', 'Mrs')\n",
        "title_mapping = {\"Mr\": 1, \"Miss\": 2, \"Mrs\": 3, \"Master\": 4, \"Otro\": 5}\n",
        "df_test['Titulo'] = df_test['Titulo'].map(title_mapping)\n",
        "df_test['Titulo'] = df_test['Titulo'].fillna(0)"
      ]
    },
    {
      "cell_type": "markdown",
      "metadata": {
        "id": "nyiEkzPw02Hj"
      },
      "source": [
        "## Observación de las medias y desviaciones estándar de los cuatro principales títulos"
      ]
    },
    {
      "cell_type": "code",
      "execution_count": null,
      "metadata": {
        "colab": {
          "base_uri": "https://localhost:8080/"
        },
        "id": "5tKoprMM1bCq",
        "outputId": "ca8cb3a7-33f1-4ad5-fd3d-48fe38793a60"
      },
      "outputs": [
        {
          "output_type": "stream",
          "name": "stdout",
          "text": [
            "Mr: Media = 32.368090452261306, Desviación Estándar = 12.708792722573982\n",
            "Mrs: Media = 35.788990825688074, Desviación Estándar = 11.437489845771985\n",
            "Master: Media = 4.574166666666667, Desviación Estándar = 3.6198716433439615\n",
            "Miss: Media = 21.845637583892618, Desviación Estándar = 12.870541648556465\n",
            "Otro: Media = 45.54545454545455, Desviación Estándar = 11.782663910642995\n"
          ]
        }
      ],
      "source": [
        "# Filtrar los registros para cada categoría\n",
        "mr_df = df_train[df_train['Titulo'] == 1]\n",
        "mrs_df = df_train[df_train['Titulo'] == 3]\n",
        "master_df = df_train[df_train['Titulo'] == 4]\n",
        "miss_df = df_train[df_train['Titulo'] == 2]\n",
        "otro_df =df_train[df_train['Titulo'] == 5]\n",
        "\n",
        "# Calcular la media y desviación estándar para cada categoría\n",
        "mr_mean = mr_df['Edad'].mean()\n",
        "mr_std = mr_df['Edad'].std()\n",
        "\n",
        "mrs_mean = mrs_df['Edad'].mean()\n",
        "mrs_std = mrs_df['Edad'].std()\n",
        "\n",
        "master_mean = master_df['Edad'].mean()\n",
        "master_std = master_df['Edad'].std()\n",
        "\n",
        "miss_mean = miss_df['Edad'].mean()\n",
        "miss_std = miss_df['Edad'].std()\n",
        "\n",
        "otro_mean = otro_df['Edad'].mean()\n",
        "otro_std = otro_df['Edad'].std()\n",
        "\n",
        "# Imprimir los resultados\n",
        "print(f\"Mr: Media = {mr_mean}, Desviación Estándar = {mr_std}\")\n",
        "print(f\"Mrs: Media = {mrs_mean}, Desviación Estándar = {mrs_std}\")\n",
        "print(f\"Master: Media = {master_mean}, Desviación Estándar = {master_std}\")\n",
        "print(f\"Miss: Media = {miss_mean}, Desviación Estándar = {miss_std}\")\n",
        "print(f\"Otro: Media = {otro_mean}, Desviación Estándar = {otro_std}\")\n"
      ]
    },
    {
      "cell_type": "markdown",
      "metadata": {
        "id": "QxOiye3W12nx"
      },
      "source": [
        "Vemos que hay distintas edades según sea Mr, Mrs, Master, Miss y Otro a partir de ahí se utilizarán los promedios y desviaciones estándar según una distribución normal para asignar probabilísticamente hablando las edades en valores nulos"
      ]
    },
    {
      "cell_type": "code",
      "execution_count": null,
      "metadata": {
        "colab": {
          "base_uri": "https://localhost:8080/"
        },
        "id": "3rbs9AgyxL2-",
        "outputId": "363401e5-2feb-4ae0-dd95-1dab899a0c53"
      },
      "outputs": [
        {
          "output_type": "stream",
          "name": "stdout",
          "text": [
            "ID                  0\n",
            "Sobrevivio          0\n",
            "Clase Ticket        0\n",
            "Nombre              0\n",
            "Sexo                0\n",
            "Edad                0\n",
            "Hermanos_Esposos    0\n",
            "Padres_Hijos        0\n",
            "Tarifa              0\n",
            "Embarcacion         2\n",
            "Titulo              0\n",
            "dtype: int64\n",
            "\n",
            "ID                  0\n",
            "Clase Ticket        0\n",
            "Nombre              0\n",
            "Sexo                0\n",
            "Edad                0\n",
            "Hermanos_Esposos    0\n",
            "Padres_Hijos        0\n",
            "Tarifa              1\n",
            "Embarcacion         0\n",
            "Sobrevivio          0\n",
            "Titulo              0\n",
            "dtype: int64\n"
          ]
        }
      ],
      "source": [
        "import numpy as np\n",
        "\n",
        "# Calcular la media y desviación estándar para cada categoría\n",
        "categories = [1, 2, 3, 4, 5]\n",
        "stats = {}\n",
        "\n",
        "for category in categories:\n",
        "    category_df = df_train[df_train['Titulo'] == category]\n",
        "    mean_age = category_df['Edad'].mean()\n",
        "    std_age = category_df['Edad'].std()\n",
        "    stats[category] = (mean_age, std_age)\n",
        "\n",
        "# Función para asignar valores nulos probabilísticamente\n",
        "def assign_age(row):\n",
        "    if pd.isnull(row['Edad']):\n",
        "        for category in categories:\n",
        "            if category == row['Titulo']:\n",
        "                mean_age, std_age = stats[category]\n",
        "                return round(np.random.normal(mean_age, std_age))\n",
        "    return row['Edad']\n",
        "\n",
        "# Asignar los valores nulos en la columna 'Edad'\n",
        "df_train['Edad'] = df_train.apply(assign_age, axis=1)\n",
        "\n",
        "df_test['Edad'] = df_test.apply(assign_age, axis=1)\n",
        "\n",
        "print(df_train.isna().sum())\n",
        "print('')\n",
        "print(df_test.isna().sum())"
      ]
    },
    {
      "cell_type": "markdown",
      "metadata": {
        "id": "0lkYruIl3T_Z"
      },
      "source": [
        "Antes teníamos 177 y 86 datos nulos en la columna de Edad en los dataframes train y test respectivamente. Ahora solamente quedan valores nulos en las columnas de Tarifa y Embarcación"
      ]
    },
    {
      "cell_type": "markdown",
      "metadata": {
        "id": "QHNiQwq8mP_A"
      },
      "source": [
        "Para imputar los valores de la Tarifa, primero se agrupan por la variable 'Clase Ticket' la cual está relacionada con la variable de la Tarifa y como el dato faltante corresponde a un pasajero de la Tercera Clase se toma la media y desviación estándar de la Tarifa para los de Tercera Clase y probabilísticamente se imputa el dato"
      ]
    },
    {
      "cell_type": "code",
      "execution_count": null,
      "metadata": {
        "colab": {
          "base_uri": "https://localhost:8080/",
          "height": 429
        },
        "id": "dby1wzuBbfoI",
        "outputId": "3c3f2bbc-4a80-4b76-b653-2a264392cbc8"
      },
      "outputs": [
        {
          "output_type": "execute_result",
          "data": {
            "text/plain": [
              "ID                                1044\n",
              "Clase Ticket                         3\n",
              "Nombre              Storey, Mr. Thomas\n",
              "Sexo                              male\n",
              "Edad                              60.5\n",
              "Hermanos_Esposos                     0\n",
              "Padres_Hijos                         0\n",
              "Tarifa                            11.0\n",
              "Embarcacion                          S\n",
              "Sobrevivio                           0\n",
              "Titulo                               1\n",
              "Name: 152, dtype: object"
            ],
            "text/html": [
              "<div>\n",
              "<style scoped>\n",
              "    .dataframe tbody tr th:only-of-type {\n",
              "        vertical-align: middle;\n",
              "    }\n",
              "\n",
              "    .dataframe tbody tr th {\n",
              "        vertical-align: top;\n",
              "    }\n",
              "\n",
              "    .dataframe thead th {\n",
              "        text-align: right;\n",
              "    }\n",
              "</style>\n",
              "<table border=\"1\" class=\"dataframe\">\n",
              "  <thead>\n",
              "    <tr style=\"text-align: right;\">\n",
              "      <th></th>\n",
              "      <th>152</th>\n",
              "    </tr>\n",
              "  </thead>\n",
              "  <tbody>\n",
              "    <tr>\n",
              "      <th>ID</th>\n",
              "      <td>1044</td>\n",
              "    </tr>\n",
              "    <tr>\n",
              "      <th>Clase Ticket</th>\n",
              "      <td>3</td>\n",
              "    </tr>\n",
              "    <tr>\n",
              "      <th>Nombre</th>\n",
              "      <td>Storey, Mr. Thomas</td>\n",
              "    </tr>\n",
              "    <tr>\n",
              "      <th>Sexo</th>\n",
              "      <td>male</td>\n",
              "    </tr>\n",
              "    <tr>\n",
              "      <th>Edad</th>\n",
              "      <td>60.5</td>\n",
              "    </tr>\n",
              "    <tr>\n",
              "      <th>Hermanos_Esposos</th>\n",
              "      <td>0</td>\n",
              "    </tr>\n",
              "    <tr>\n",
              "      <th>Padres_Hijos</th>\n",
              "      <td>0</td>\n",
              "    </tr>\n",
              "    <tr>\n",
              "      <th>Tarifa</th>\n",
              "      <td>11.0</td>\n",
              "    </tr>\n",
              "    <tr>\n",
              "      <th>Embarcacion</th>\n",
              "      <td>S</td>\n",
              "    </tr>\n",
              "    <tr>\n",
              "      <th>Sobrevivio</th>\n",
              "      <td>0</td>\n",
              "    </tr>\n",
              "    <tr>\n",
              "      <th>Titulo</th>\n",
              "      <td>1</td>\n",
              "    </tr>\n",
              "  </tbody>\n",
              "</table>\n",
              "</div><br><label><b>dtype:</b> object</label>"
            ]
          },
          "metadata": {},
          "execution_count": 11
        }
      ],
      "source": [
        "rng = np.random.RandomState(22)\n",
        "clase_3_tarifa = df_test[df_test['Clase Ticket'] == 3]['Tarifa']\n",
        "mean_tarifa_3 = clase_3_tarifa.mean()\n",
        "std_tarifa_3 = clase_3_tarifa.std()\n",
        "df_test.at[152, 'Tarifa'] =  round(rng.normal(mean_tarifa_3, std_tarifa_3))\n",
        "df_test.iloc[152]"
      ]
    },
    {
      "cell_type": "markdown",
      "metadata": {
        "id": "3z_eVk7u0trB"
      },
      "source": [
        "Ahora para rellenar los valores de Embarcacion se utilizó la moda en dicha columna al ser una columna categórica"
      ]
    },
    {
      "cell_type": "code",
      "execution_count": null,
      "metadata": {
        "id": "4Nk0lkWp0dx-"
      },
      "outputs": [],
      "source": [
        "# Encuentra el valor más frecuente en la columna 'Embarcacion'\n",
        "most_frequent_value = df_train['Embarcacion'].mode()[0]\n",
        "\n",
        "# Rellena los valores nulos con el valor más frecuente\n",
        "df_train['Embarcacion'].fillna(most_frequent_value, inplace=True)"
      ]
    },
    {
      "cell_type": "code",
      "execution_count": null,
      "metadata": {
        "colab": {
          "base_uri": "https://localhost:8080/"
        },
        "id": "5XjidNHneR5z",
        "outputId": "31a7a11b-1ccb-41bd-d256-9a8d70d2a946"
      },
      "outputs": [
        {
          "output_type": "stream",
          "name": "stdout",
          "text": [
            "ID                  0\n",
            "Sobrevivio          0\n",
            "Clase Ticket        0\n",
            "Nombre              0\n",
            "Sexo                0\n",
            "Edad                0\n",
            "Hermanos_Esposos    0\n",
            "Padres_Hijos        0\n",
            "Tarifa              0\n",
            "Embarcacion         0\n",
            "Titulo              0\n",
            "dtype: int64\n",
            "\n",
            "ID                  0\n",
            "Clase Ticket        0\n",
            "Nombre              0\n",
            "Sexo                0\n",
            "Edad                0\n",
            "Hermanos_Esposos    0\n",
            "Padres_Hijos        0\n",
            "Tarifa              0\n",
            "Embarcacion         0\n",
            "Sobrevivio          0\n",
            "Titulo              0\n",
            "dtype: int64\n"
          ]
        }
      ],
      "source": [
        "print(df_train.isna().sum())\n",
        "print('')\n",
        "print(df_test.isna().sum())"
      ]
    },
    {
      "cell_type": "markdown",
      "metadata": {
        "id": "ewg28ucxkh56"
      },
      "source": [
        "Como se puede observar, ya no quedan valores nulos en las columnas que pueden ser de interpes para nuestros modelos"
      ]
    },
    {
      "cell_type": "markdown",
      "metadata": {
        "id": "ThJMtDvi3065"
      },
      "source": [
        "## Creación de las columnas de Clasificacion_Edad, Familiares y Solo_Viaje"
      ]
    },
    {
      "cell_type": "markdown",
      "metadata": {
        "id": "_VmAX2wQktfF"
      },
      "source": [
        "Para apoyarnos en la visualización de datos se creará una columna llamada 'Clasificacion_Edad' que va a tener las categorías de 'Bebé', 'Niño', 'Adolescente', 'Adulto', 'Adulto mayor', 'Viejo' según la edad de la persona"
      ]
    },
    {
      "cell_type": "code",
      "execution_count": null,
      "metadata": {
        "id": "I9AtHOkbsyMq"
      },
      "outputs": [],
      "source": [
        "# Crear una columna de clasificación de edad\n",
        "bins = bins=[0, 5, 14, 18, 30, 60, 100]\n",
        "labels = ['Bebé', 'Niño', 'Adolescente', 'Adulto', 'Adulto mayor', 'Viejo']\n",
        "\n",
        "df_train['Clasificacion_Edad'] = pd.cut(df_train['Edad'], bins=bins, labels=labels, right=False)\n",
        "\n",
        "df_test['Clasificacion_Edad'] = pd.cut(df_test['Edad'], bins=bins, labels=labels, right=False)"
      ]
    },
    {
      "cell_type": "markdown",
      "metadata": {
        "id": "g09gwdqbk-GH"
      },
      "source": [
        "Para un mejor interpretación de los datos se creará la columna de Familiares que será la suma de las columnas Hermanos/Esposos + Padres/Hijos + 1\n",
        "\n",
        "También se creará la columna de Solo_Viaje que tendrá valores binarios de 0 y 1 para determinar si el pasajero va solo o no dentro del Titanic según la columna de Familiares"
      ]
    },
    {
      "cell_type": "code",
      "execution_count": null,
      "metadata": {
        "id": "TBs-WYt_4AgE"
      },
      "outputs": [],
      "source": [
        "df_train['Familiares'] = df_train['Hermanos_Esposos'] + df_train['Padres_Hijos'] + 1\n",
        "df_test['Familiares'] = df_test['Hermanos_Esposos'] + df_test['Padres_Hijos'] + 1\n",
        "\n",
        "df_train['Solo_Viaje'] = (df_train['Familiares'] == 1).astype(int)\n",
        "df_test['Solo_Viaje'] = (df_test['Familiares'] == 1).astype(int)\n",
        "\n"
      ]
    },
    {
      "cell_type": "markdown",
      "metadata": {
        "id": "86MIsQTB2FxS"
      },
      "source": [
        "## Datos atípicos"
      ]
    },
    {
      "cell_type": "markdown",
      "metadata": {
        "id": "0yLSa6JglsYi"
      },
      "source": [
        "Se crea un conjunto de gráficos de caja (boxplots) para comparar la distribución de varias columnas numéricas los datos de entrenamiento en función de la columna Sobrevivio."
      ]
    },
    {
      "cell_type": "code",
      "execution_count": null,
      "metadata": {
        "colab": {
          "base_uri": "https://localhost:8080/",
          "height": 607
        },
        "id": "FsCpzQnf2C1Y",
        "outputId": "58694bd3-d4a2-4ae6-b7f5-8c09b8529fd7"
      },
      "outputs": [
        {
          "output_type": "display_data",
          "data": {
            "text/plain": [
              "<Figure size 1200x600 with 5 Axes>"
            ],
            "image/png": "[encoded data removed]"
          },
          "metadata": {}
        }
      ],
      "source": [
        "import seaborn as sns\n",
        "import matplotlib.pyplot as plt\n",
        "\n",
        "# Suponiendo que df_train es tu DataFrame y tienes varias columnas numéricas\n",
        "columnas = ['Edad', 'Tarifa', 'Padres_Hijos', 'Hermanos_Esposos', 'Familiares']  # Sustituye por las columnas que quieras comparar\n",
        "n_cols = 3  # Número de columnas en la figura\n",
        "n_rows = len(columnas) // n_cols + (len(columnas) % n_cols > 0)  # Calcula el número de filas necesario\n",
        "\n",
        "# Crear la figura y la cuadrícula de subgráficos\n",
        "fig, axes = plt.subplots(n_rows, n_cols, figsize=(12, 6))\n",
        "\n",
        "# Si solo hay una fila o una columna, axes será un array 1D, necesitamos asegurarnos de que es 2D\n",
        "axes = axes.reshape(n_rows, n_cols)\n",
        "\n",
        "# Dibujar un boxplot para cada columna en un subgráfico diferente\n",
        "for i, columna in enumerate(columnas):\n",
        "    row = i // n_cols\n",
        "    col = i % n_cols\n",
        "    sns.boxplot(x='Sobrevivio', y=columna, data=df_train, ax=axes[row, col])\n",
        "    axes[row, col].set_title(f'Distribución de {columna}')\n",
        "\n",
        "# Eliminar ejes vacíos si la cantidad de columnas no es múltiplo de n_cols\n",
        "for j in range(i + 1, n_rows * n_cols):\n",
        "    fig.delaxes(axes.flatten()[j])\n",
        "\n",
        "# Ajustar el layout para que no se solapen los gráficos\n",
        "plt.tight_layout()\n",
        "\n",
        "# Mostrar la figura\n",
        "plt.show()\n",
        "\n"
      ]
    },
    {
      "cell_type": "markdown",
      "metadata": {
        "id": "s496eeFRmFXi"
      },
      "source": [
        "**Observaciones**\n",
        "\n",
        "\n",
        "*   Edad: La edad no parece ser un factor determinante significativo en la supervivencia, ya que las medianas son similares.\n",
        "\n",
        "*   Tarifa: Las tarifas más altas parecen estar asociadas con una mayor probabilidad de supervivencia.\n",
        "\n",
        "*   Padres_Hijos y Familiares: Tener padres/hijos y un mayor número de familiares a bordo parece estar ligeramente asociado con una mayor probabilidad de supervivencia.\n",
        "\n",
        "*   Hermanos_Esposos: No hay una diferencia significativa entre sobrevivientes y no sobrevivientes en términos del número de hermanos y esposos a bordo.\n"
      ]
    },
    {
      "cell_type": "markdown",
      "metadata": {
        "id": "ERELttuo4QNO"
      },
      "source": [
        "# **Visualización de datos**"
      ]
    },
    {
      "cell_type": "markdown",
      "metadata": {
        "id": "yQb3jxpbmDqX"
      },
      "source": [
        " Se busca analizar la tasa de supervivencia en función de varias variables categóricas en los datos de entrenamiento, visualizándolas mediante gráficos de barras (barplots)."
      ]
    },
    {
      "cell_type": "code",
      "execution_count": null,
      "metadata": {
        "colab": {
          "base_uri": "https://localhost:8080/",
          "height": 807
        },
        "id": "l8vdkm8gK-ju",
        "outputId": "9f56fdff-8f1f-4ef2-c3e5-35f6d867adf6"
      },
      "outputs": [
        {
          "output_type": "display_data",
          "data": {
            "text/plain": [
              "<Figure size 1400x800 with 6 Axes>"
            ],
            "image/png": "[encoded data removed]"
          },
          "metadata": {}
        }
      ],
      "source": [
        "import seaborn as sns\n",
        "import matplotlib.pyplot as plt\n",
        "\n",
        "# Suponiendo que df_train es tu DataFrame y quieres analizar otras variables categóricas similares a 'Clase Ticket'\n",
        "columnas_categoricas = ['Clase Ticket', 'Clasificacion_Edad', 'Sexo', 'Padres_Hijos', 'Hermanos_Esposos', 'Familiares']  # Sustituye con las columnas categóricas que quieras analizar\n",
        "n_cols = 3  # Número de columnas en la figura\n",
        "n_rows = len(columnas_categoricas) // n_cols + (len(columnas_categoricas) % n_cols > 0)  # Calcula el número de filas necesario\n",
        "\n",
        "# Crear la figura y la cuadrícula de subgráficos\n",
        "fig, axes = plt.subplots(n_rows, n_cols, figsize=(14, 8))\n",
        "\n",
        "# Asegurarse de que axes es un array 2D\n",
        "axes = axes.reshape(n_rows, n_cols)\n",
        "\n",
        "# Dibujar un barplot para cada variable categórica en un subgráfico diferente\n",
        "for i, columna in enumerate(columnas_categoricas):\n",
        "    row = i // n_cols\n",
        "    col = i % n_cols\n",
        "\n",
        "    # Calcular la tasa de supervivencia para cada categoría\n",
        "    sobrevivencia_por_categoria = df_train.groupby(columna, observed=False)['Sobrevivio'].mean()\n",
        "    #print(f\"Tasa de sobrevivencia por {columna}:\")\n",
        "    #print(sobrevivencia_por_categoria)\n",
        "    #print(\"\\n\")\n",
        "\n",
        "    # Crear el gráfico de barras\n",
        "    sns.barplot(x=columna, y='Sobrevivio', data=df_train, errorbar=None, hue=columna, palette='viridis', legend=False, ax=axes[row, col])\n",
        "    axes[row, col].set_title(f'Supervivencia según {columna}')\n",
        "    axes[row, col].set_ylabel('Tasa de supervivencia')\n",
        "    axes[row, col].set_xlabel(columna)\n",
        "\n",
        "# Eliminar ejes vacíos si los hay\n",
        "for j in range(i + 1, n_rows * n_cols):\n",
        "    fig.delaxes(axes.flatten()[j])\n",
        "\n",
        "# Ajustar el layout para que no se solapen los gráficos\n",
        "plt.tight_layout()\n",
        "\n",
        "# Mostrar la figura\n",
        "plt.show()\n"
      ]
    },
    {
      "cell_type": "markdown",
      "metadata": {
        "id": "lZAaWSpal-yR"
      },
      "source": [
        "**Observaciones**\n",
        "\n",
        "*   Clase del Ticket: La clase del ticket es un factor importante, con los pasajeros de primera clase teniendo mayores tasas de supervivencia.\n",
        "\n",
        "*   Clasificación de Edad: Los más jóvenes, especialmente los bebés, tienen mayores probabilidades de supervivencia.\n",
        "\n",
        "*   Sexo: Las mujeres tienen una tasa de supervivencia significativamente mayor que los hombres.\n",
        "\n",
        "*   Padres/Hijos y Hermanos/Esposos: Tener una cantidad moderada de familiares a bordo (ni demasiados ni ninguno) parece estar asociado con una mayor supervivencia."
      ]
    },
    {
      "cell_type": "markdown",
      "metadata": {
        "id": "KJv-9-z5mTJy"
      },
      "source": [
        "Se crea un boxplot que muestre la distribución de la columna Tarifa según las diferentes categorías de la columna Clase Ticket de los datos de entrenamiento."
      ]
    },
    {
      "cell_type": "code",
      "execution_count": null,
      "metadata": {
        "colab": {
          "base_uri": "https://localhost:8080/",
          "height": 565
        },
        "id": "utP7-mDwO21n",
        "outputId": "ba1d59f2-2cd2-4512-e780-acc8eb2561b7"
      },
      "outputs": [
        {
          "output_type": "display_data",
          "data": {
            "text/plain": [
              "<Figure size 1000x600 with 1 Axes>"
            ],
            "image/png": "[encoded data removed]"
          },
          "metadata": {}
        }
      ],
      "source": [
        "# Crear la figura y los ejes\n",
        "fig, ax = plt.subplots(figsize=(10, 6))\n",
        "\n",
        "# Crear el boxplot\n",
        "sns.boxplot(x='Clase Ticket', y='Tarifa', data=df_train, palette='viridis', ax=ax)\n",
        "\n",
        "# Configurar etiquetas y título\n",
        "ax.set_xlabel('Clase del Ticket')\n",
        "ax.set_ylabel('Tarifa')\n",
        "ax.set_title('Distribución de la Tarifa según la Clase del Ticket')\n",
        "\n",
        "# Limitar el rango del eje y a un máximo de 300\n",
        "ax.set_ylim(0, 300)\n",
        "\n",
        "# Mostrar la figura\n",
        "plt.show()"
      ]
    },
    {
      "cell_type": "markdown",
      "metadata": {
        "id": "7V4P9vmRaVPf"
      },
      "source": [
        "\n",
        "**Observaciones**\n",
        "\n",
        "*   Primera Clase: Los pasajeros de primera clase pagaron significativamente más por sus tickets en comparación con los pasajeros de segunda y tercera clase. La distribución de las tarifas es amplia y presenta varios valores atípicos altos.\n",
        "\n",
        "*   Segunda Clase: Las tarifas de segunda clase son más bajas y están más concentradas en un rango estrecho, con menos valores atípicos comparados con la primera clase.\n",
        "\n",
        "*   Tercera Clase: Las tarifas de tercera clase son las más bajas y tienen una distribución estrecha similar a la de la segunda clase, pero con una mediana más baja y también con algunos valores atípicos."
      ]
    },
    {
      "cell_type": "markdown",
      "metadata": {
        "id": "akLG7OKtDXHM"
      },
      "source": [
        "# Preprocesamiento de datos previo modelo"
      ]
    },
    {
      "cell_type": "markdown",
      "metadata": {
        "id": "NNGbNlZ7kqFo"
      },
      "source": [
        "## Variables categóricas en columnas binarias con One Hot Encoding"
      ]
    },
    {
      "cell_type": "markdown",
      "metadata": {
        "id": "59-lHsQZmnQm"
      },
      "source": [
        "Para poder utilizar las variables categóricas dentro de cada uno de los modelos a usar de Machine Learning de convertirán las columnas categóricas a varias columnas desglosadas con valores de 0 y 1 aplicando la práctica de One Hot Encoding"
      ]
    },
    {
      "cell_type": "code",
      "execution_count": null,
      "metadata": {
        "colab": {
          "base_uri": "https://localhost:8080/",
          "height": 374
        },
        "id": "EZnkSLhAknmv",
        "outputId": "633316dd-2b1e-4298-849a-9b743fb75338"
      },
      "outputs": [
        {
          "output_type": "execute_result",
          "data": {
            "text/plain": [
              "   ID  Sobrevivio  Clase Ticket  \\\n",
              "0   1           0             3   \n",
              "1   2           1             1   \n",
              "2   3           1             3   \n",
              "3   4           1             1   \n",
              "4   5           0             3   \n",
              "\n",
              "                                              Nombre    Sexo  Edad  \\\n",
              "0                            Braund, Mr. Owen Harris    male  22.0   \n",
              "1  Cumings, Mrs. John Bradley (Florence Briggs Th...  female  38.0   \n",
              "2                             Heikkinen, Miss. Laina  female  26.0   \n",
              "3       Futrelle, Mrs. Jacques Heath (Lily May Peel)  female  35.0   \n",
              "4                           Allen, Mr. William Henry    male  35.0   \n",
              "\n",
              "   Hermanos_Esposos  Padres_Hijos   Tarifa Embarcacion  ...  FamPequeña  \\\n",
              "0                 1             0   7.2500           S  ...           1   \n",
              "1                 1             0  71.2833           C  ...           1   \n",
              "2                 0             0   7.9250           S  ...           1   \n",
              "3                 1             0  53.1000           S  ...           1   \n",
              "4                 0             0   8.0500           S  ...           1   \n",
              "\n",
              "  FamMediana  FamGrande  Mr  Miss  Mrs  Master  Otro  Femenino  Masculino  \n",
              "0          0          0   1     0    0       0     0         0          1  \n",
              "1          0          0   0     0    1       0     0         1          0  \n",
              "2          0          0   0     1    0       0     0         1          0  \n",
              "3          0          0   0     0    1       0     0         1          0  \n",
              "4          0          0   1     0    0       0     0         0          1  \n",
              "\n",
              "[5 rows x 30 columns]"
            ],
            "text/html": [
              "\n",
              "  <div id=\"df-0cc8519a-faae-4a10-b097-5471c2a79356\" class=\"colab-df-container\">\n",
              "    <div>\n",
              "<style scoped>\n",
              "    .dataframe tbody tr th:only-of-type {\n",
              "        vertical-align: middle;\n",
              "    }\n",
              "\n",
              "    .dataframe tbody tr th {\n",
              "        vertical-align: top;\n",
              "    }\n",
              "\n",
              "    .dataframe thead th {\n",
              "        text-align: right;\n",
              "    }\n",
              "</style>\n",
              "<table border=\"1\" class=\"dataframe\">\n",
              "  <thead>\n",
              "    <tr style=\"text-align: right;\">\n",
              "      <th></th>\n",
              "      <th>ID</th>\n",
              "      <th>Sobrevivio</th>\n",
              "      <th>Clase Ticket</th>\n",
              "      <th>Nombre</th>\n",
              "      <th>Sexo</th>\n",
              "      <th>Edad</th>\n",
              "      <th>Hermanos_Esposos</th>\n",
              "      <th>Padres_Hijos</th>\n",
              "      <th>Tarifa</th>\n",
              "      <th>Embarcacion</th>\n",
              "      <th>...</th>\n",
              "      <th>FamPequeña</th>\n",
              "      <th>FamMediana</th>\n",
              "      <th>FamGrande</th>\n",
              "      <th>Mr</th>\n",
              "      <th>Miss</th>\n",
              "      <th>Mrs</th>\n",
              "      <th>Master</th>\n",
              "      <th>Otro</th>\n",
              "      <th>Femenino</th>\n",
              "      <th>Masculino</th>\n",
              "    </tr>\n",
              "  </thead>\n",
              "  <tbody>\n",
              "    <tr>\n",
              "      <th>0</th>\n",
              "      <td>1</td>\n",
              "      <td>0</td>\n",
              "      <td>3</td>\n",
              "      <td>Braund, Mr. Owen Harris</td>\n",
              "      <td>male</td>\n",
              "      <td>22.0</td>\n",
              "      <td>1</td>\n",
              "      <td>0</td>\n",
              "      <td>7.2500</td>\n",
              "      <td>S</td>\n",
              "      <td>...</td>\n",
              "      <td>1</td>\n",
              "      <td>0</td>\n",
              "      <td>0</td>\n",
              "      <td>1</td>\n",
              "      <td>0</td>\n",
              "      <td>0</td>\n",
              "      <td>0</td>\n",
              "      <td>0</td>\n",
              "      <td>0</td>\n",
              "      <td>1</td>\n",
              "    </tr>\n",
              "    <tr>\n",
              "      <th>1</th>\n",
              "      <td>2</td>\n",
              "      <td>1</td>\n",
              "      <td>1</td>\n",
              "      <td>Cumings, Mrs. John Bradley (Florence Briggs Th...</td>\n",
              "      <td>female</td>\n",
              "      <td>38.0</td>\n",
              "      <td>1</td>\n",
              "      <td>0</td>\n",
              "      <td>71.2833</td>\n",
              "      <td>C</td>\n",
              "      <td>...</td>\n",
              "      <td>1</td>\n",
              "      <td>0</td>\n",
              "      <td>0</td>\n",
              "      <td>0</td>\n",
              "      <td>0</td>\n",
              "      <td>1</td>\n",
              "      <td>0</td>\n",
              "      <td>0</td>\n",
              "      <td>1</td>\n",
              "      <td>0</td>\n",
              "    </tr>\n",
              "    <tr>\n",
              "      <th>2</th>\n",
              "      <td>3</td>\n",
              "      <td>1</td>\n",
              "      <td>3</td>\n",
              "      <td>Heikkinen, Miss. Laina</td>\n",
              "      <td>female</td>\n",
              "      <td>26.0</td>\n",
              "      <td>0</td>\n",
              "      <td>0</td>\n",
              "      <td>7.9250</td>\n",
              "      <td>S</td>\n",
              "      <td>...</td>\n",
              "      <td>1</td>\n",
              "      <td>0</td>\n",
              "      <td>0</td>\n",
              "      <td>0</td>\n",
              "      <td>1</td>\n",
              "      <td>0</td>\n",
              "      <td>0</td>\n",
              "      <td>0</td>\n",
              "      <td>1</td>\n",
              "      <td>0</td>\n",
              "    </tr>\n",
              "    <tr>\n",
              "      <th>3</th>\n",
              "      <td>4</td>\n",
              "      <td>1</td>\n",
              "      <td>1</td>\n",
              "      <td>Futrelle, Mrs. Jacques Heath (Lily May Peel)</td>\n",
              "      <td>female</td>\n",
              "      <td>35.0</td>\n",
              "      <td>1</td>\n",
              "      <td>0</td>\n",
              "      <td>53.1000</td>\n",
              "      <td>S</td>\n",
              "      <td>...</td>\n",
              "      <td>1</td>\n",
              "      <td>0</td>\n",
              "      <td>0</td>\n",
              "      <td>0</td>\n",
              "      <td>0</td>\n",
              "      <td>1</td>\n",
              "      <td>0</td>\n",
              "      <td>0</td>\n",
              "      <td>1</td>\n",
              "      <td>0</td>\n",
              "    </tr>\n",
              "    <tr>\n",
              "      <th>4</th>\n",
              "      <td>5</td>\n",
              "      <td>0</td>\n",
              "      <td>3</td>\n",
              "      <td>Allen, Mr. William Henry</td>\n",
              "      <td>male</td>\n",
              "      <td>35.0</td>\n",
              "      <td>0</td>\n",
              "      <td>0</td>\n",
              "      <td>8.0500</td>\n",
              "      <td>S</td>\n",
              "      <td>...</td>\n",
              "      <td>1</td>\n",
              "      <td>0</td>\n",
              "      <td>0</td>\n",
              "      <td>1</td>\n",
              "      <td>0</td>\n",
              "      <td>0</td>\n",
              "      <td>0</td>\n",
              "      <td>0</td>\n",
              "      <td>0</td>\n",
              "      <td>1</td>\n",
              "    </tr>\n",
              "  </tbody>\n",
              "</table>\n",
              "<p>5 rows × 30 columns</p>\n",
              "</div>\n",
              "    <div class=\"colab-df-buttons\">\n",
              "\n",
              "  <div class=\"colab-df-container\">\n",
              "    <button class=\"colab-df-convert\" onclick=\"convertToInteractive('df-0cc8519a-faae-4a10-b097-5471c2a79356')\"\n",
              "            title=\"Convert this dataframe to an interactive table.\"\n",
              "            style=\"display:none;\">\n",
              "\n",
              "  <svg xmlns=\"http://www.w3.org/2000/svg\" height=\"24px\" viewBox=\"0 -960 960 960\">\n",
              "    <path d=\"M120-120v-720h720v720H120Zm60-500h600v-160H180v160Zm220 220h160v-160H400v160Zm0 220h160v-160H400v160ZM180-400h160v-160H180v160Zm440 0h160v-160H620v160ZM180-180h160v-160H180v160Zm440 0h160v-160H620v160Z\"/>\n",
              "  </svg>\n",
              "    </button>\n",
              "\n",
              "  <style>\n",
              "    .colab-df-container {\n",
              "      display:flex;\n",
              "      gap: 12px;\n",
              "    }\n",
              "\n",
              "    .colab-df-convert {\n",
              "      background-color: #E8F0FE;\n",
              "      border: none;\n",
              "      border-radius: 50%;\n",
              "      cursor: pointer;\n",
              "      display: none;\n",
              "      fill: #1967D2;\n",
              "      height: 32px;\n",
              "      padding: 0 0 0 0;\n",
              "      width: 32px;\n",
              "    }\n",
              "\n",
              "    .colab-df-convert:hover {\n",
              "      background-color: #E2EBFA;\n",
              "      box-shadow: 0px 1px 2px rgba(60, 64, 67, 0.3), 0px 1px 3px 1px rgba(60, 64, 67, 0.15);\n",
              "      fill: #174EA6;\n",
              "    }\n",
              "\n",
              "    .colab-df-buttons div {\n",
              "      margin-bottom: 4px;\n",
              "    }\n",
              "\n",
              "    [theme=dark] .colab-df-convert {\n",
              "      background-color: #3B4455;\n",
              "      fill: #D2E3FC;\n",
              "    }\n",
              "\n",
              "    [theme=dark] .colab-df-convert:hover {\n",
              "      background-color: #434B5C;\n",
              "      box-shadow: 0px 1px 3px 1px rgba(0, 0, 0, 0.15);\n",
              "      filter: drop-shadow(0px 1px 2px rgba(0, 0, 0, 0.3));\n",
              "      fill: #FFFFFF;\n",
              "    }\n",
              "  </style>\n",
              "\n",
              "    <script>\n",
              "      const buttonEl =\n",
              "        document.querySelector('#df-0cc8519a-faae-4a10-b097-5471c2a79356 button.colab-df-convert');\n",
              "      buttonEl.style.display =\n",
              "        google.colab.kernel.accessAllowed ? 'block' : 'none';\n",
              "\n",
              "      async function convertToInteractive(key) {\n",
              "        const element = document.querySelector('#df-0cc8519a-faae-4a10-b097-5471c2a79356');\n",
              "        const dataTable =\n",
              "          await google.colab.kernel.invokeFunction('convertToInteractive',\n",
              "                                                    [key], {});\n",
              "        if (!dataTable) return;\n",
              "\n",
              "        const docLinkHtml = 'Like what you see? Visit the ' +\n",
              "          '<a target=\"_blank\" href=https://colab.research.google.com/notebooks/data_table.ipynb>data table notebook</a>'\n",
              "          + ' to learn more about interactive tables.';\n",
              "        element.innerHTML = '';\n",
              "        dataTable['output_type'] = 'display_data';\n",
              "        await google.colab.output.renderOutput(dataTable, element);\n",
              "        const docLink = document.createElement('div');\n",
              "        docLink.innerHTML = docLinkHtml;\n",
              "        element.appendChild(docLink);\n",
              "      }\n",
              "    </script>\n",
              "  </div>\n",
              "\n",
              "\n",
              "<div id=\"df-12c79e4e-2bfb-4567-bcfc-0bac3d4d8861\">\n",
              "  <button class=\"colab-df-quickchart\" onclick=\"quickchart('df-12c79e4e-2bfb-4567-bcfc-0bac3d4d8861')\"\n",
              "            title=\"Suggest charts\"\n",
              "            style=\"display:none;\">\n",
              "\n",
              "<svg xmlns=\"http://www.w3.org/2000/svg\" height=\"24px\"viewBox=\"0 0 24 24\"\n",
              "     width=\"24px\">\n",
              "    <g>\n",
              "        <path d=\"M19 3H5c-1.1 0-2 .9-2 2v14c0 1.1.9 2 2 2h14c1.1 0 2-.9 2-2V5c0-1.1-.9-2-2-2zM9 17H7v-7h2v7zm4 0h-2V7h2v10zm4 0h-2v-4h2v4z\"/>\n",
              "    </g>\n",
              "</svg>\n",
              "  </button>\n",
              "\n",
              "<style>\n",
              "  .colab-df-quickchart {\n",
              "      --bg-color: #E8F0FE;\n",
              "      --fill-color: #1967D2;\n",
              "      --hover-bg-color: #E2EBFA;\n",
              "      --hover-fill-color: #174EA6;\n",
              "      --disabled-fill-color: #AAA;\n",
              "      --disabled-bg-color: #DDD;\n",
              "  }\n",
              "\n",
              "  [theme=dark] .colab-df-quickchart {\n",
              "      --bg-color: #3B4455;\n",
              "      --fill-color: #D2E3FC;\n",
              "      --hover-bg-color: #434B5C;\n",
              "      --hover-fill-color: #FFFFFF;\n",
              "      --disabled-bg-color: #3B4455;\n",
              "      --disabled-fill-color: #666;\n",
              "  }\n",
              "\n",
              "  .colab-df-quickchart {\n",
              "    background-color: var(--bg-color);\n",
              "    border: none;\n",
              "    border-radius: 50%;\n",
              "    cursor: pointer;\n",
              "    display: none;\n",
              "    fill: var(--fill-color);\n",
              "    height: 32px;\n",
              "    padding: 0;\n",
              "    width: 32px;\n",
              "  }\n",
              "\n",
              "  .colab-df-quickchart:hover {\n",
              "    background-color: var(--hover-bg-color);\n",
              "    box-shadow: 0 1px 2px rgba(60, 64, 67, 0.3), 0 1px 3px 1px rgba(60, 64, 67, 0.15);\n",
              "    fill: var(--button-hover-fill-color);\n",
              "  }\n",
              "\n",
              "  .colab-df-quickchart-complete:disabled,\n",
              "  .colab-df-quickchart-complete:disabled:hover {\n",
              "    background-color: var(--disabled-bg-color);\n",
              "    fill: var(--disabled-fill-color);\n",
              "    box-shadow: none;\n",
              "  }\n",
              "\n",
              "  .colab-df-spinner {\n",
              "    border: 2px solid var(--fill-color);\n",
              "    border-color: transparent;\n",
              "    border-bottom-color: var(--fill-color);\n",
              "    animation:\n",
              "      spin 1s steps(1) infinite;\n",
              "  }\n",
              "\n",
              "  @keyframes spin {\n",
              "    0% {\n",
              "      border-color: transparent;\n",
              "      border-bottom-color: var(--fill-color);\n",
              "      border-left-color: var(--fill-color);\n",
              "    }\n",
              "    20% {\n",
              "      border-color: transparent;\n",
              "      border-left-color: var(--fill-color);\n",
              "      border-top-color: var(--fill-color);\n",
              "    }\n",
              "    30% {\n",
              "      border-color: transparent;\n",
              "      border-left-color: var(--fill-color);\n",
              "      border-top-color: var(--fill-color);\n",
              "      border-right-color: var(--fill-color);\n",
              "    }\n",
              "    40% {\n",
              "      border-color: transparent;\n",
              "      border-right-color: var(--fill-color);\n",
              "      border-top-color: var(--fill-color);\n",
              "    }\n",
              "    60% {\n",
              "      border-color: transparent;\n",
              "      border-right-color: var(--fill-color);\n",
              "    }\n",
              "    80% {\n",
              "      border-color: transparent;\n",
              "      border-right-color: var(--fill-color);\n",
              "      border-bottom-color: var(--fill-color);\n",
              "    }\n",
              "    90% {\n",
              "      border-color: transparent;\n",
              "      border-bottom-color: var(--fill-color);\n",
              "    }\n",
              "  }\n",
              "</style>\n",
              "\n",
              "  <script>\n",
              "    async function quickchart(key) {\n",
              "      const quickchartButtonEl =\n",
              "        document.querySelector('#' + key + ' button');\n",
              "      quickchartButtonEl.disabled = true;  // To prevent multiple clicks.\n",
              "      quickchartButtonEl.classList.add('colab-df-spinner');\n",
              "      try {\n",
              "        const charts = await google.colab.kernel.invokeFunction(\n",
              "            'suggestCharts', [key], {});\n",
              "      } catch (error) {\n",
              "        console.error('Error during call to suggestCharts:', error);\n",
              "      }\n",
              "      quickchartButtonEl.classList.remove('colab-df-spinner');\n",
              "      quickchartButtonEl.classList.add('colab-df-quickchart-complete');\n",
              "    }\n",
              "    (() => {\n",
              "      let quickchartButtonEl =\n",
              "        document.querySelector('#df-12c79e4e-2bfb-4567-bcfc-0bac3d4d8861 button');\n",
              "      quickchartButtonEl.style.display =\n",
              "        google.colab.kernel.accessAllowed ? 'block' : 'none';\n",
              "    })();\n",
              "  </script>\n",
              "</div>\n",
              "\n",
              "    </div>\n",
              "  </div>\n"
            ],
            "application/vnd.google.colaboratory.intrinsic+json": {
              "type": "dataframe",
              "variable_name": "df_train"
            }
          },
          "metadata": {},
          "execution_count": 19
        }
      ],
      "source": [
        "# Clase Ticket\n",
        "df_train['Primera Clase'] = 0\n",
        "df_train['Segunda Clase'] = 0\n",
        "df_train['Tercera Clase'] = 0\n",
        "df_train.loc[df_train['Clase Ticket'] == 1, 'Primera Clase'] = 1\n",
        "df_train.loc[df_train['Clase Ticket'] == 2, 'Segunda Clase'] = 1\n",
        "df_train.loc[df_train['Clase Ticket'] == 3, 'Tercera Clase'] = 1\n",
        "\n",
        "df_test['Primera Clase'] = 0\n",
        "df_test['Segunda Clase'] = 0\n",
        "df_test['Tercera Clase'] = 0\n",
        "df_test.loc[df_test['Clase Ticket'] == 1, 'Primera Clase'] = 1\n",
        "df_test.loc[df_test['Clase Ticket'] == 2, 'Segunda Clase'] = 1\n",
        "df_test.loc[df_test['Clase Ticket'] == 3, 'Segunda Clase'] = 1\n",
        "\n",
        "# Embarcacion\n",
        "df_train['S'] = 0\n",
        "df_train['Q'] = 0\n",
        "df_train['C'] = 0\n",
        "df_train.loc[df_train['Embarcacion'] == 'S', 'S'] = 1\n",
        "df_train.loc[df_train['Embarcacion'] == 'Q', 'Q'] = 1\n",
        "df_train.loc[df_train['Embarcacion'] == 'C', 'C'] = 1\n",
        "\n",
        "df_test['S'] = 0\n",
        "df_test['Q'] = 0\n",
        "df_test['C'] = 0\n",
        "df_test.loc[df_test['Embarcacion'] == 'S', 'S'] = 1\n",
        "df_test.loc[df_test['Embarcacion'] == 'Q', 'Q'] = 1\n",
        "df_test.loc[df_test['Embarcacion'] == 'C', 'C'] = 1\n",
        "\n",
        "# Familias\n",
        "df_train['FamPequeña'] = 0\n",
        "df_train['FamMediana'] = 0\n",
        "df_train['FamGrande'] = 0\n",
        "df_train.loc[df_train['Familiares'] < 3, 'FamPequeña'] = 1\n",
        "df_train.loc[((df_train['Familiares'] == 3) | (df_train['Familiares'] == 4)), 'FamMediana'] = 1\n",
        "df_train.loc[df_train['Familiares'] > 4, 'FamGrande'] = 1\n",
        "\n",
        "df_test['FamPequeña'] = 0\n",
        "df_test['FamMediana'] = 0\n",
        "df_test['FamGrande'] = 0\n",
        "df_test.loc[df_test['Familiares'] < 3, 'FamPequeña'] = 1\n",
        "df_test.loc[((df_test['Familiares'] == 3) | (df_train['Familiares'] == 4)), 'FamMediana'] = 1\n",
        "df_test.loc[df_test['Familiares'] > 4, 'FamGrande'] = 1\n",
        "\n",
        "# Titulo\n",
        "df_train['Mr'] = 0\n",
        "df_train['Miss'] = 0\n",
        "df_train['Mrs'] = 0\n",
        "df_train['Master'] = 0\n",
        "df_train['Otro'] = 0\n",
        "df_train.loc[df_train['Titulo'] == 1, 'Mr'] = 1\n",
        "df_train.loc[df_train['Titulo'] == 2, 'Miss'] = 1\n",
        "df_train.loc[df_train['Titulo'] == 3, 'Mrs'] = 1\n",
        "df_train.loc[df_train['Titulo'] == 4, 'Master'] = 1\n",
        "df_train.loc[df_train['Titulo'] == 5, 'Otro'] = 1\n",
        "\n",
        "df_test['Mr'] = 0\n",
        "df_test['Miss'] = 0\n",
        "df_test['Mrs'] = 0\n",
        "df_test['Master'] = 0\n",
        "df_test['Otro'] = 0\n",
        "df_test.loc[df_test['Titulo'] == 1, 'Mr'] = 1\n",
        "df_test.loc[df_test['Titulo'] == 2, 'Miss'] = 1\n",
        "df_test.loc[df_test['Titulo'] == 3, 'Mrs'] = 1\n",
        "df_test.loc[df_test['Titulo'] == 4, 'Master'] = 1\n",
        "df_test.loc[df_test['Titulo'] == 5, 'Otro'] = 1\n",
        "\n",
        "# Sexo\n",
        "df_train['Femenino'] = 0\n",
        "df_train['Masculino'] = 0\n",
        "df_train.loc[df_train['Sexo'] == 'female', 'Femenino'] = 1\n",
        "df_train.loc[df_train['Sexo'] == 'male', 'Masculino'] = 1\n",
        "\n",
        "df_test['Femenino'] = 0\n",
        "df_test['Masculino'] = 0\n",
        "df_test.loc[df_test['Sexo'] == 'female', 'Femenino'] = 1\n",
        "df_test.loc[df_test['Sexo'] == 'male', 'Masculino'] = 1\n",
        "\n",
        "df_train.head()"
      ]
    },
    {
      "cell_type": "markdown",
      "metadata": {
        "id": "zbp0ve-GmD2u"
      },
      "source": [
        "Así fue la creación de las nuevas columnas binarias:\n",
        "\n",
        "**Clase Ticket**\n",
        "* Primera Clase\n",
        "* Segunda Clase\n",
        "* Tercera Clase\n",
        "\n",
        "**Embarcacion**\n",
        "* S\n",
        "* Q\n",
        "* C\n",
        "\n",
        "**Familiares**\n",
        "* FamPequeña\n",
        "* FamMediana\n",
        "* FamGrande\n",
        "\n",
        "**Titulo**\n",
        "* Mr\n",
        "* Miss\n",
        "* Mrs\n",
        "* Master\n",
        "* Otro\n",
        "\n",
        "**Sexo**\n",
        "* Femenino\n",
        "* Masculino"
      ]
    },
    {
      "cell_type": "markdown",
      "metadata": {
        "id": "YR6VQ8fumf1j"
      },
      "source": [
        "## Escalamiento de los datos"
      ]
    },
    {
      "cell_type": "markdown",
      "metadata": {
        "id": "ChMjI5zyoM9r"
      },
      "source": [
        "Debido a que la mayoría de los datos tienen valores de 0 y 1 al ser columnas binarias. Se escalarán los datos numéricos dentro del intervalo [0,1] usando el escalamiento MinMaxScaler"
      ]
    },
    {
      "cell_type": "code",
      "execution_count": null,
      "metadata": {
        "id": "HSNv11DNknkY"
      },
      "outputs": [],
      "source": [
        "from sklearn.preprocessing import MinMaxScaler\n",
        "\n",
        "# Inicializar el escalador\n",
        "scaler = MinMaxScaler()\n",
        "\n",
        "# Escalar los valores de la columna\n",
        "df_train['Edad_Escalada'] = scaler.fit_transform(df_train[['Edad']])\n",
        "df_train['Hermanos_Esposos_Escalada'] = scaler.fit_transform(df_train[['Hermanos_Esposos']])\n",
        "df_train['Padres_Hijos_Escalada'] = scaler.fit_transform(df_train[['Padres_Hijos']])\n",
        "df_train['Tarifa_Escalada'] = scaler.fit_transform(df_train[['Tarifa']])\n",
        "\n",
        "df_test['Edad_Escalada'] = scaler.fit_transform(df_test[['Edad']])\n",
        "df_test['Hermanos_Esposos_Escalada'] = scaler.fit_transform(df_test[['Hermanos_Esposos']])\n",
        "df_test['Padres_Hijos_Escalada'] = scaler.fit_transform(df_test[['Padres_Hijos']])\n",
        "df_test['Tarifa_Escalada'] = scaler.fit_transform(df_test[['Tarifa']])\n",
        "\n"
      ]
    },
    {
      "cell_type": "markdown",
      "metadata": {
        "id": "uOjnxFkmpDhm"
      },
      "source": [
        "Se escalaron los datos numéricos dentro de un intervalo de 0 y 1"
      ]
    },
    {
      "cell_type": "markdown",
      "metadata": {
        "id": "FMndq5ETpAxA"
      },
      "source": [
        "# Componentes Principales"
      ]
    },
    {
      "cell_type": "markdown",
      "metadata": {
        "id": "f4Jgb6NRqOd8"
      },
      "source": [
        "Debido que se tienen muchas columnas para procesar dentro de los modelos, se aplicará un Análisis de Componentes Principales o PCA para reducir la dimensionalidad de los datos sin perder la varianza explicada"
      ]
    },
    {
      "cell_type": "code",
      "execution_count": null,
      "metadata": {
        "colab": {
          "base_uri": "https://localhost:8080/"
        },
        "id": "2yQ4lRscAnLu",
        "outputId": "72dd9b09-26c3-457e-bded-645d0fd03c66"
      },
      "outputs": [
        {
          "output_type": "stream",
          "name": "stdout",
          "text": [
            "Index(['ID', 'Sobrevivio', 'Clase Ticket', 'Nombre', 'Sexo', 'Edad',\n",
            "       'Hermanos_Esposos', 'Padres_Hijos', 'Tarifa', 'Embarcacion', 'Titulo',\n",
            "       'Clasificacion_Edad', 'Familiares', 'Solo_Viaje', 'Primera Clase',\n",
            "       'Segunda Clase', 'Tercera Clase', 'S', 'Q', 'C', 'FamPequeña',\n",
            "       'FamMediana', 'FamGrande', 'Mr', 'Miss', 'Mrs', 'Master', 'Otro',\n",
            "       'Femenino', 'Masculino', 'Edad_Escalada', 'Hermanos_Esposos_Escalada',\n",
            "       'Padres_Hijos_Escalada', 'Tarifa_Escalada'],\n",
            "      dtype='object')\n"
          ]
        }
      ],
      "source": [
        "print(df_train.columns)"
      ]
    },
    {
      "cell_type": "code",
      "execution_count": null,
      "metadata": {
        "colab": {
          "base_uri": "https://localhost:8080/",
          "height": 488
        },
        "id": "mYrmPQfRknh7",
        "outputId": "f72b3908-7fec-413c-aa59-9e9e3bc091ab"
      },
      "outputs": [
        {
          "output_type": "display_data",
          "data": {
            "text/plain": [
              "<Figure size 800x500 with 1 Axes>"
            ],
            "image/png": "[encoded data removed]"
          },
          "metadata": {}
        }
      ],
      "source": [
        "from sklearn.decomposition import PCA\n",
        "\n",
        "# Seleccionar las columnas que deseas analizar\n",
        "X_scaled = df_train[['Primera Clase', 'Segunda Clase', 'Tercera Clase', 'Femenino', 'Masculino', 'Edad_Escalada', 'S', 'Q',\n",
        "                     'C', 'FamPequeña', 'FamMediana', 'FamGrande', 'Mr', 'Miss', 'Mrs', 'Master', 'Otro', 'Tarifa_Escalada']]\n",
        "\n",
        "# Aplicar PCA\n",
        "pca = PCA()\n",
        "pca.fit(X_scaled)\n",
        "\n",
        "# Calcular la varianza explicada acumulada\n",
        "explained_variance = pca.explained_variance_ratio_\n",
        "\n",
        "# Graficar la gráfica de codo\n",
        "plt.figure(figsize=(8, 5))\n",
        "plt.plot(range(1, len(explained_variance) + 1), explained_variance.cumsum(), marker='o', linestyle='--')\n",
        "plt.title('Gráfica de Codo - PCA')\n",
        "plt.xlabel('Número de Componentes')\n",
        "plt.ylabel('Varianza Explicada Acumulada')\n",
        "plt.grid()\n",
        "plt.show()\n"
      ]
    },
    {
      "cell_type": "markdown",
      "metadata": {
        "id": "w9QHgcpfqgNr"
      },
      "source": [
        "Se utilizarán 6 componentes principales ya que esto explica casi el 90% de variabilidad de los datos\n",
        "\n",
        "A continuación se crearán las columnas de PC1, PC2, PC3, PC4, PC5, PC6 a partir de las ecuaciones encontradas"
      ]
    },
    {
      "cell_type": "code",
      "execution_count": null,
      "metadata": {
        "colab": {
          "base_uri": "https://localhost:8080/"
        },
        "id": "eE7FyEZiknfZ",
        "outputId": "7c298592-4120-4afe-96c1-b8358d7adbce"
      },
      "outputs": [
        {
          "output_type": "stream",
          "name": "stdout",
          "text": [
            "PC1 = 0.087*Primera Clase + 0.051*Segunda Clase + -0.137*Tercera Clase + 0.513*Femenino + -0.513*Masculino + -0.026*Edad_Escalada + -0.091*S + 0.022*Q + 0.069*C + -0.146*FamPequeña + 0.103*FamMediana + 0.042*FamGrande + -0.510*Mr + 0.309*Miss + 0.200*Mrs + -0.002*Master + 0.003*Otro + 0.028*Tarifa_Escalada\n",
            "PC2 = 0.513*Primera Clase + 0.182*Segunda Clase + -0.695*Tercera Clase + -0.075*Femenino + 0.075*Masculino + 0.104*Edad_Escalada + -0.168*S + -0.109*Q + 0.277*C + 0.155*FamPequeña + -0.024*FamMediana + -0.131*FamGrande + 0.082*Mr + -0.142*Miss + 0.060*Mrs + -0.049*Master + 0.049*Otro + 0.068*Tarifa_Escalada\n",
            "PC3 = -0.118*Primera Clase + 0.423*Segunda Clase + -0.304*Tercera Clase + -0.014*Femenino + 0.014*Masculino + 0.007*Edad_Escalada + 0.624*S + -0.187*Q + -0.438*C + -0.204*FamPequeña + 0.167*FamMediana + 0.037*FamGrande + -0.039*Mr + -0.114*Miss + 0.101*Mrs + 0.042*Master + 0.009*Otro + -0.015*Tarifa_Escalada\n",
            "PC4 = 0.029*Primera Clase + -0.049*Segunda Clase + 0.020*Tercera Clase + -0.157*Femenino + 0.157*Masculino + -0.053*Edad_Escalada + -0.222*S + -0.017*Q + 0.239*C + -0.675*FamPequeña + 0.545*FamMediana + 0.130*FamGrande + -0.031*Mr + -0.182*Miss + 0.030*Mrs + 0.177*Master + 0.006*Otro + 0.032*Tarifa_Escalada\n",
            "PC5 = -0.575*Primera Clase + 0.654*Segunda Clase + -0.079*Tercera Clase + -0.013*Femenino + 0.013*Masculino + -0.044*Edad_Escalada + -0.362*S + 0.166*Q + 0.196*C + 0.104*FamPequeña + 0.028*FamMediana + -0.133*FamGrande + 0.025*Mr + 0.015*Miss + -0.020*Mrs + -0.012*Master + -0.009*Otro + -0.071*Tarifa_Escalada\n",
            "PC6 = -0.107*Primera Clase + -0.070*Segunda Clase + 0.177*Tercera Clase + 0.096*Femenino + -0.096*Masculino + 0.101*Edad_Escalada + -0.009*S + -0.089*Q + 0.098*C + 0.118*FamPequeña + -0.056*FamMediana + -0.062*FamGrande + -0.018*Mr + -0.614*Miss + 0.710*Mrs + -0.056*Master + -0.021*Otro + -0.027*Tarifa_Escalada\n"
          ]
        }
      ],
      "source": [
        "X = df_train[['Primera Clase', 'Segunda Clase', 'Tercera Clase', 'Femenino', 'Masculino', 'Edad_Escalada', 'S', 'Q',\n",
        "                     'C', 'FamPequeña', 'FamMediana', 'FamGrande', 'Mr', 'Miss', 'Mrs', 'Master', 'Otro', 'Tarifa_Escalada']]\n",
        "\n",
        "X_train_scaled = df_train[['Primera Clase', 'Segunda Clase', 'Tercera Clase', 'Femenino', 'Masculino', 'Edad_Escalada', 'S', 'Q',\n",
        "                     'C', 'FamPequeña', 'FamMediana', 'FamGrande', 'Mr', 'Miss', 'Mrs', 'Master', 'Otro', 'Tarifa_Escalada']]\n",
        "X_test_scaled = df_test[['Primera Clase', 'Segunda Clase', 'Tercera Clase', 'Femenino', 'Masculino', 'Edad_Escalada', 'S', 'Q',\n",
        "                     'C', 'FamPequeña', 'FamMediana', 'FamGrande', 'Mr', 'Miss', 'Mrs', 'Master', 'Otro', 'Tarifa_Escalada']]\n",
        "\n",
        "# Aplicar PCA\n",
        "pca = PCA(n_components=6)\n",
        "pca.fit(X_scaled)\n",
        "\n",
        "# Imprimir la expresión y coeficientes de los primeros 3 componentes principales\n",
        "for i in range(6):\n",
        "    coeficientes = pca.components_[i]\n",
        "    expresion = \" + \".join(f\"{coef:.3f}*{col}\" for coef, col in zip(coeficientes, X.columns))\n",
        "    print(f\"PC{i+1} = {expresion}\")\n",
        "\n",
        "# Crear las columnas PC1, PC2 y PC3 en el DataFrame\n",
        "df_train[['PC1', 'PC2', 'PC3', 'PC4', 'PC5', 'PC6']] = pca.transform(X_train_scaled)\n",
        "df_test[['PC1', 'PC2', 'PC3', 'PC4', 'PC5', 'PC6']] = pca.transform(X_test_scaled)\n"
      ]
    },
    {
      "cell_type": "code",
      "execution_count": null,
      "metadata": {
        "id": "EwW82K3Jknco"
      },
      "outputs": [],
      "source": []
    },
    {
      "cell_type": "markdown",
      "metadata": {
        "id": "RK3yLrw_FNM4"
      },
      "source": [
        "# **Entrenamiento del modelo**"
      ]
    },
    {
      "cell_type": "code",
      "execution_count": null,
      "metadata": {
        "id": "0b7foVuCaidj"
      },
      "outputs": [],
      "source": [
        "from sklearn.metrics import accuracy_score, roc_auc_score\n",
        "from sklearn.model_selection import train_test_split\n",
        "from sklearn.linear_model import LogisticRegression\n",
        "from sklearn.tree import DecisionTreeClassifier\n",
        "from sklearn.ensemble import RandomForestClassifier\n",
        "from sklearn.neighbors import KNeighborsClassifier\n",
        "from sklearn.naive_bayes import GaussianNB\n",
        "\n",
        "# Paso 1: Seleccionar las características (predictoras) y la variable objetivo para el DataFrame de entrenamiento\n",
        "predictoras = ['PC1', 'PC2', 'PC3', 'PC4', 'PC5', 'PC6']\n",
        "X_train = df_train[predictoras]\n",
        "y_train = df_train['Sobrevivio']\n",
        "\n",
        "# Si ya tienes un DataFrame de prueba separado, no necesitas dividirlo. Solo selecciona las características:\n",
        "X_test = df_test[predictoras]\n",
        "y_test = df_test['Sobrevivio']"
      ]
    },
    {
      "cell_type": "code",
      "execution_count": null,
      "metadata": {
        "id": "g7giANgzaiba"
      },
      "outputs": [],
      "source": [
        "from sklearn.metrics import accuracy_score, recall_score, precision_score, f1_score, roc_auc_score\n",
        "\n",
        "def print_scores(fitted_model):\n",
        "    res = {\n",
        "        \"Accuracy on train:\": accuracy_score(fitted_model.predict(X_train), y_train),\n",
        "        \"Recall on train:\": recall_score(fitted_model.predict(X_train), y_train),\n",
        "        \"Precision on train:\": precision_score(fitted_model.predict(X_train), y_train),\n",
        "        \"F1-Score on train:\": f1_score(fitted_model.predict(X_train), y_train),\n",
        "        \"ROC AUC on train:\": roc_auc_score(y_train, fitted_model.predict_proba(X_train)[:, 1]),\n",
        "\n",
        "        \"Accuracy on test:\": accuracy_score(fitted_model.predict(X_test), y_test),\n",
        "        \"Recall on test:\": recall_score(fitted_model.predict(X_test), y_test),\n",
        "        \"Precision on test:\": precision_score(fitted_model.predict(X_test), y_test),\n",
        "        \"F1-Score on test:\": f1_score(fitted_model.predict(X_test), y_test),\n",
        "        \"ROC AUC on test:\": roc_auc_score(y_test, fitted_model.predict_proba(X_test)[:, 1]),\n",
        "    }\n",
        "\n",
        "    # Imprimir solo las métricas de prueba (test) con un formato específico\n",
        "    for k, v in res.items():\n",
        "        #if 'on test' in k:  # Filtrar para incluir solo las claves que contienen 'on test'\n",
        "          print(k, round(v, 3))\n",
        "    print(\"-\" * 30)  # Línea separadora para claridad en la salida"
      ]
    },
    {
      "cell_type": "markdown",
      "metadata": {
        "id": "mMZ72b3RJe2V"
      },
      "source": [
        "# **Resultados preliminares**"
      ]
    },
    {
      "cell_type": "code",
      "execution_count": null,
      "metadata": {
        "colab": {
          "base_uri": "https://localhost:8080/"
        },
        "id": "ndnsbODiaiY4",
        "outputId": "f085d4e2-2955-42a7-e94b-2bd467b409d1"
      },
      "outputs": [
        {
          "output_type": "stream",
          "name": "stdout",
          "text": [
            "Regresión Logística\n",
            "Accuracy on train: 0.788\n",
            "Recall on train: 0.738\n",
            "Precision on train: 0.693\n",
            "F1-Score on train: 0.715\n",
            "ROC AUC on train: 0.851\n",
            "Accuracy on test: 0.773\n",
            "Recall on test: 0.698\n",
            "Precision on test: 0.703\n",
            "F1-Score on test: 0.7\n",
            "ROC AUC on test: 0.797\n",
            "------------------------------\n",
            "Accuracy on train: 0.788\n",
            "Recall on train: 0.728\n",
            "Precision on train: 0.713\n",
            "F1-Score on train: 0.721\n",
            "ROC AUC on train: 0.849\n",
            "Accuracy on test: 0.768\n",
            "Recall on test: 0.685\n",
            "Precision on test: 0.715\n",
            "F1-Score on test: 0.7\n",
            "ROC AUC on test: 0.798\n",
            "------------------------------\n",
            "Accuracy on train: 0.79\n",
            "Recall on train: 0.73\n",
            "Precision on train: 0.719\n",
            "F1-Score on train: 0.725\n",
            "ROC AUC on train: 0.849\n",
            "Accuracy on test: 0.768\n",
            "Recall on test: 0.685\n",
            "Precision on test: 0.715\n",
            "F1-Score on test: 0.7\n",
            "ROC AUC on test: 0.798\n",
            "------------------------------\n",
            "Accuracy on train: 0.791\n",
            "Recall on train: 0.739\n",
            "Precision on train: 0.705\n",
            "F1-Score on train: 0.722\n",
            "ROC AUC on train: 0.85\n",
            "Accuracy on test: 0.775\n",
            "Recall on test: 0.7\n",
            "Precision on test: 0.709\n",
            "F1-Score on test: 0.704\n",
            "ROC AUC on test: 0.799\n",
            "------------------------------\n",
            "Accuracy on train: 0.788\n",
            "Recall on train: 0.728\n",
            "Precision on train: 0.713\n",
            "F1-Score on train: 0.721\n",
            "ROC AUC on train: 0.849\n",
            "Accuracy on test: 0.768\n",
            "Recall on test: 0.685\n",
            "Precision on test: 0.715\n",
            "F1-Score on test: 0.7\n",
            "ROC AUC on test: 0.798\n",
            "------------------------------\n",
            "\n",
            "Árboles de decisión\n",
            "Accuracy on train: 0.985\n",
            "Recall on train: 1.0\n",
            "Precision on train: 0.962\n",
            "F1-Score on train: 0.981\n",
            "ROC AUC on train: 1.0\n",
            "Accuracy on test: 0.722\n",
            "Recall on test: 0.611\n",
            "Precision on test: 0.734\n",
            "F1-Score on test: 0.667\n",
            "ROC AUC on test: 0.729\n",
            "------------------------------\n",
            "Accuracy on train: 0.938\n",
            "Recall on train: 0.95\n",
            "Precision on train: 0.886\n",
            "F1-Score on train: 0.917\n",
            "ROC AUC on train: 0.99\n",
            "Accuracy on test: 0.72\n",
            "Recall on test: 0.605\n",
            "Precision on test: 0.747\n",
            "F1-Score on test: 0.669\n",
            "ROC AUC on test: 0.743\n",
            "------------------------------\n",
            "Accuracy on train: 0.955\n",
            "Recall on train: 0.966\n",
            "Precision on train: 0.915\n",
            "F1-Score on train: 0.94\n",
            "ROC AUC on train: 0.995\n",
            "Accuracy on test: 0.72\n",
            "Recall on test: 0.61\n",
            "Precision on test: 0.722\n",
            "F1-Score on test: 0.661\n",
            "ROC AUC on test: 0.741\n",
            "------------------------------\n",
            "\n",
            "Random Forest\n",
            "Accuracy on train: 0.984\n",
            "Recall on train: 0.994\n",
            "Precision on train: 0.965\n",
            "F1-Score on train: 0.979\n",
            "ROC AUC on train: 0.999\n",
            "Accuracy on test: 0.73\n",
            "Recall on test: 0.622\n",
            "Precision on test: 0.728\n",
            "F1-Score on test: 0.671\n",
            "ROC AUC on test: 0.78\n",
            "------------------------------\n",
            "Accuracy on train: 0.985\n",
            "Recall on train: 0.994\n",
            "Precision on train: 0.968\n",
            "F1-Score on train: 0.981\n",
            "ROC AUC on train: 0.999\n",
            "Accuracy on test: 0.73\n",
            "Recall on test: 0.62\n",
            "Precision on test: 0.734\n",
            "F1-Score on test: 0.672\n",
            "ROC AUC on test: 0.768\n",
            "------------------------------\n",
            "Accuracy on train: 0.985\n",
            "Recall on train: 0.994\n",
            "Precision on train: 0.968\n",
            "F1-Score on train: 0.981\n",
            "ROC AUC on train: 0.999\n",
            "Accuracy on test: 0.725\n",
            "Recall on test: 0.615\n",
            "Precision on test: 0.728\n",
            "F1-Score on test: 0.667\n",
            "ROC AUC on test: 0.781\n",
            "------------------------------\n",
            "Accuracy on train: 0.971\n",
            "Recall on train: 0.979\n",
            "Precision on train: 0.944\n",
            "F1-Score on train: 0.961\n",
            "ROC AUC on train: 0.997\n",
            "Accuracy on test: 0.742\n",
            "Recall on test: 0.633\n",
            "Precision on test: 0.753\n",
            "F1-Score on test: 0.688\n",
            "ROC AUC on test: 0.785\n",
            "------------------------------\n",
            "Accuracy on train: 0.93\n",
            "Recall on train: 0.929\n",
            "Precision on train: 0.886\n",
            "F1-Score on train: 0.907\n",
            "ROC AUC on train: 0.988\n",
            "Accuracy on test: 0.737\n",
            "Recall on test: 0.628\n",
            "Precision on test: 0.747\n",
            "F1-Score on test: 0.682\n",
            "ROC AUC on test: 0.791\n",
            "------------------------------\n",
            "\n",
            "KNN\n",
            "Accuracy on train: 0.879\n",
            "Recall on train: 0.868\n",
            "Precision on train: 0.807\n",
            "F1-Score on train: 0.836\n",
            "ROC AUC on train: 0.953\n",
            "Accuracy on test: 0.725\n",
            "Recall on test: 0.616\n",
            "Precision on test: 0.722\n",
            "F1-Score on test: 0.665\n",
            "ROC AUC on test: 0.747\n",
            "------------------------------\n",
            "Accuracy on train: 0.985\n",
            "Recall on train: 1.0\n",
            "Precision on train: 0.962\n",
            "F1-Score on train: 0.981\n",
            "ROC AUC on train: 1.0\n",
            "Accuracy on test: 0.732\n",
            "Recall on test: 0.62\n",
            "Precision on test: 0.753\n",
            "F1-Score on test: 0.68\n",
            "ROC AUC on test: 0.755\n",
            "------------------------------\n",
            "Accuracy on train: 0.833\n",
            "Recall on train: 0.861\n",
            "Precision on train: 0.673\n",
            "F1-Score on train: 0.755\n",
            "ROC AUC on train: 0.896\n",
            "Accuracy on test: 0.734\n",
            "Recall on test: 0.631\n",
            "Precision on test: 0.715\n",
            "F1-Score on test: 0.671\n",
            "ROC AUC on test: 0.778\n",
            "------------------------------\n",
            "\n",
            "Naive Bayes\n",
            "Accuracy on train: 0.799\n",
            "Recall on train: 0.739\n",
            "Precision on train: 0.737\n",
            "F1-Score on train: 0.738\n",
            "ROC AUC on train: 0.841\n",
            "Accuracy on test: 0.749\n",
            "Recall on test: 0.651\n",
            "Precision on test: 0.722\n",
            "F1-Score on test: 0.685\n",
            "ROC AUC on test: 0.785\n",
            "------------------------------\n",
            "Accuracy on train: 0.799\n",
            "Recall on train: 0.739\n",
            "Precision on train: 0.737\n",
            "F1-Score on train: 0.738\n",
            "ROC AUC on train: 0.841\n",
            "Accuracy on test: 0.749\n",
            "Recall on test: 0.651\n",
            "Precision on test: 0.722\n",
            "F1-Score on test: 0.685\n",
            "ROC AUC on test: 0.785\n",
            "------------------------------\n",
            "Accuracy on train: 0.799\n",
            "Recall on train: 0.739\n",
            "Precision on train: 0.737\n",
            "F1-Score on train: 0.738\n",
            "ROC AUC on train: 0.841\n",
            "Accuracy on test: 0.749\n",
            "Recall on test: 0.651\n",
            "Precision on test: 0.722\n",
            "F1-Score on test: 0.685\n",
            "ROC AUC on test: 0.785\n",
            "------------------------------\n"
          ]
        }
      ],
      "source": [
        "print('Regresión Logística')\n",
        "model_1 = LogisticRegression(C=0.01, solver='liblinear', max_iter=1000)\n",
        "model_1.fit(X_train, y_train)\n",
        "print_scores(model_1)\n",
        "\n",
        "model_2 = LogisticRegression(C=1, solver='sag', max_iter=2000)\n",
        "model_2.fit(X_train, y_train)\n",
        "print_scores(model_2)\n",
        "\n",
        "model_3 = LogisticRegression(C=10, solver='newton-cg', max_iter=3000)\n",
        "model_3.fit(X_train, y_train)\n",
        "print_scores(model_3)\n",
        "\n",
        "model_4 = LogisticRegression(C=0.05, solver='saga', max_iter=5000, penalty='l2')\n",
        "model_4.fit(X_train, y_train)\n",
        "print_scores(model_4)\n",
        "\n",
        "model_5 = LogisticRegression(C=0.5, solver='lbfgs', max_iter=1000, penalty='l2')\n",
        "model_5.fit(X_train, y_train)\n",
        "print_scores(model_5)\n",
        "\n",
        "print('')\n",
        "print('Árboles de decisión')\n",
        "tree_model_1 = DecisionTreeClassifier(max_depth=30, min_samples_split=2, criterion='gini')\n",
        "tree_model_1.fit(X_train, y_train)\n",
        "print_scores(tree_model_1)\n",
        "\n",
        "tree_model_2 = DecisionTreeClassifier(max_depth=100, min_samples_split=10, criterion='entropy')\n",
        "tree_model_2.fit(X_train, y_train)\n",
        "print_scores(tree_model_2)\n",
        "\n",
        "tree_model_3 = DecisionTreeClassifier(max_depth=150, min_samples_split=5, criterion='gini')\n",
        "tree_model_3.fit(X_train, y_train)\n",
        "print_scores(tree_model_3)\n",
        "\n",
        "print('')\n",
        "print('Random Forest')\n",
        "rf_model_1 = RandomForestClassifier(n_estimators=50, max_features='sqrt', max_depth=50)\n",
        "rf_model_1.fit(X_train, y_train)\n",
        "print_scores(rf_model_1)\n",
        "\n",
        "rf_model_2 = RandomForestClassifier(n_estimators=100, max_features='log2', max_depth=100)\n",
        "rf_model_2.fit(X_train, y_train)\n",
        "print_scores(rf_model_2)\n",
        "\n",
        "rf_model_3 = RandomForestClassifier(n_estimators=200, max_features='sqrt', max_depth=200)\n",
        "rf_model_3.fit(X_train, y_train)\n",
        "print_scores(rf_model_3)\n",
        "\n",
        "rf_model_4 = RandomForestClassifier(n_estimators=150, max_features='sqrt', max_depth=250, min_samples_split=4)\n",
        "rf_model_4.fit(X_train, y_train)\n",
        "print_scores(rf_model_4)\n",
        "\n",
        "rf_model_5 = RandomForestClassifier(n_estimators=300, max_features='log2', max_depth=300, min_samples_leaf=2)\n",
        "rf_model_5.fit(X_train, y_train)\n",
        "print_scores(rf_model_5)\n",
        "\n",
        "print('')\n",
        "print('KNN')\n",
        "knn_model_1 = KNeighborsClassifier(n_neighbors=3, weights='uniform')\n",
        "knn_model_1.fit(X_train, y_train)\n",
        "print_scores(knn_model_1)\n",
        "\n",
        "knn_model_2 = KNeighborsClassifier(n_neighbors=7, weights='distance')\n",
        "knn_model_2.fit(X_train, y_train)\n",
        "print_scores(knn_model_2)\n",
        "\n",
        "knn_model_3 = KNeighborsClassifier(n_neighbors=15, weights='uniform')\n",
        "knn_model_3.fit(X_train, y_train)\n",
        "print_scores(knn_model_3)\n",
        "\n",
        "print('')\n",
        "print('Naive Bayes')\n",
        "nb_model_1 = GaussianNB(var_smoothing=1e-9)\n",
        "nb_model_1.fit(X_train, y_train)\n",
        "print_scores(nb_model_1)\n",
        "\n",
        "nb_model_2 = GaussianNB(var_smoothing=1e-8)\n",
        "nb_model_2.fit(X_train, y_train)\n",
        "print_scores(nb_model_2)\n",
        "\n",
        "nb_model_3 = GaussianNB(var_smoothing=1e-10)\n",
        "nb_model_3.fit(X_train, y_train)\n",
        "print_scores(nb_model_3)"
      ]
    },
    {
      "cell_type": "markdown",
      "metadata": {
        "id": "OAAs7F-zunu8"
      },
      "source": [
        "**Resultados**\n",
        "\n",
        "Se puede ver que el Accuracy no pasa del 80% con los datos de prueba en ninguno de los modelos con dichos hiperparámetros pero algunos llegan a casi tener 99% de accuracy con los datos de entrenamiento. Esto sugiere sobreajuste de nuestros modelos"
      ]
    },
    {
      "cell_type": "markdown",
      "metadata": {
        "id": "d-Iz_sC_xWHB"
      },
      "source": [
        "# **Búsqueda de hiperparámetros usando GridSearchCV**"
      ]
    },
    {
      "cell_type": "code",
      "execution_count": null,
      "metadata": {
        "colab": {
          "base_uri": "https://localhost:8080/"
        },
        "id": "7xH4DYNDyFvb",
        "outputId": "b42fc164-582e-4725-a00f-7de562a40760"
      },
      "outputs": [
        {
          "output_type": "stream",
          "name": "stdout",
          "text": [
            "Buscando mejores parámetros para LogisticRegression...\n",
            "Mejor accuracy para LogisticRegression: 0.8024\n",
            "Mejores parámetros: {'C': 0.01, 'l1_ratio': 0.0, 'max_iter': 100, 'penalty': 'l1', 'solver': 'liblinear'}\n",
            "--------------------------------------------------\n",
            "Buscando mejores parámetros para DecisionTree...\n",
            "Mejor accuracy para DecisionTree: 0.8227\n",
            "Mejores parámetros: {'class_weight': None, 'criterion': 'entropy', 'max_depth': 10, 'max_features': None, 'min_samples_leaf': 1, 'min_samples_split': 5, 'splitter': 'random'}\n",
            "--------------------------------------------------\n",
            "Buscando mejores parámetros para RandomForest...\n",
            "Mejor accuracy para RandomForest: 0.8092\n",
            "Mejores parámetros: {'criterion': 'gini', 'max_depth': 10, 'min_samples_split': 10, 'n_estimators': 100}\n",
            "--------------------------------------------------\n",
            "Buscando mejores parámetros para NaiveBayes...\n",
            "Mejor accuracy para NaiveBayes: 0.7946\n",
            "Mejores parámetros: {'var_smoothing': 1e-09}\n",
            "--------------------------------------------------\n",
            "Buscando mejores parámetros para KNN...\n",
            "Mejor accuracy para KNN: 0.8070\n",
            "Mejores parámetros: {'algorithm': 'auto', 'leaf_size': 10, 'metric': 'euclidean', 'n_neighbors': 9, 'p': 1, 'weights': 'uniform'}\n",
            "--------------------------------------------------\n",
            "Accuracy en prueba para LogisticRegression: 0.7512\n",
            "Accuracy en prueba para DecisionTree: 0.7225\n",
            "Accuracy en prueba para RandomForest: 0.7512\n",
            "Accuracy en prueba para NaiveBayes: 0.7488\n",
            "Accuracy en prueba para KNN: 0.7273\n"
          ]
        }
      ],
      "source": [
        "from sklearn.model_selection import GridSearchCV\n",
        "from sklearn.metrics import accuracy_score\n",
        "import warnings\n",
        "\n",
        "# Ignorar todos los warnings\n",
        "warnings.filterwarnings('ignore')\n",
        "\n",
        "# Definir los modelos y sus respectivos hiperparámetros para la búsqueda\n",
        "models = {\n",
        "    'LogisticRegression': {\n",
        "        'model': LogisticRegression(),\n",
        "        'params': {\n",
        "            'solver': ['newton-cg', 'lbfgs', 'liblinear', 'sag', 'saga'],\n",
        "            'C': [0.001, 0.01, 0.1, 1, 10, 100],\n",
        "            'max_iter': [100, 200, 300, 400, 500],\n",
        "            'penalty': ['l2', 'l1', 'elasticnet', 'none'],\n",
        "            'l1_ratio': [0.0, 0.15, 0.5, 0.7, 1.0]  # Solo aplicable con 'elasticnet'\n",
        "        }\n",
        "    },\n",
        "    'DecisionTree': {\n",
        "        'model': DecisionTreeClassifier(),\n",
        "        'params': {\n",
        "            'criterion': ['gini', 'entropy', 'log_loss'],\n",
        "            'splitter': ['best', 'random'],\n",
        "            'max_depth': [None, 10, 20, 30, 50],\n",
        "            'min_samples_split': [2, 5, 10, 20],\n",
        "            'min_samples_leaf': [1, 2, 4, 8],\n",
        "            'max_features': [None, 'auto', 'sqrt', 'log2'],\n",
        "            'class_weight': [None, 'balanced']\n",
        "        }\n",
        "    },\n",
        "    'RandomForest': {\n",
        "        'model': RandomForestClassifier(),\n",
        "        'params': {\n",
        "            'n_estimators': [10, 50, 100],\n",
        "            'criterion': ['gini', 'entropy'],\n",
        "            'max_depth': [None, 10, 20, 30],\n",
        "            'min_samples_split': [2, 5, 10]\n",
        "        }\n",
        "    },\n",
        "    'NaiveBayes': {\n",
        "        'model': GaussianNB(),\n",
        "        'params': {\n",
        "            'var_smoothing': [1e-9, 1e-8, 1e-7, 1e-6, 1e-5]\n",
        "        }\n",
        "    },\n",
        "    'KNN': {\n",
        "        'model': KNeighborsClassifier(),\n",
        "        'params': {\n",
        "            'n_neighbors': [3, 5, 7, 9, 11, 15, 19],\n",
        "            'weights': ['uniform', 'distance'],\n",
        "            'metric': ['euclidean', 'manhattan', 'minkowski', 'chebyshev'],\n",
        "            'algorithm': ['auto', 'ball_tree', 'kd_tree', 'brute'],\n",
        "            'leaf_size': [10, 20, 30, 40, 50],\n",
        "            'p': [1, 2]\n",
        "        }\n",
        "    }\n",
        "}\n",
        "\n",
        "# Ejecutar GridSearchCV para cada modelo\n",
        "best_models = {}\n",
        "for model_name, config in models.items():\n",
        "    print(f\"Buscando mejores parámetros para {model_name}...\")\n",
        "    grid = GridSearchCV(config['model'], config['params'], cv=5, n_jobs=-1, scoring='accuracy')\n",
        "    grid.fit(X_train, y_train)\n",
        "    best_models[model_name] = grid.best_estimator_\n",
        "    print(f\"Mejor accuracy para {model_name}: {grid.best_score_:.4f}\")\n",
        "    print(f\"Mejores parámetros: {grid.best_params_}\")\n",
        "    print(\"-\" * 50)\n",
        "\n",
        "# Evaluar el mejor modelo de cada tipo en el conjunto de prueba\n",
        "for model_name, model in best_models.items():\n",
        "    y_pred = model.predict(X_test)\n",
        "    accuracy = accuracy_score(y_test, y_pred)\n",
        "    print(f\"Accuracy en prueba para {model_name}: {accuracy:.4f}\")\n"
      ]
    },
    {
      "cell_type": "code",
      "execution_count": null,
      "metadata": {
        "id": "I8vZK3D6yF--"
      },
      "outputs": [],
      "source": []
    },
    {
      "cell_type": "code",
      "execution_count": null,
      "metadata": {
        "id": "1wSWvqzpyF79"
      },
      "outputs": [],
      "source": []
    },
    {
      "cell_type": "code",
      "execution_count": null,
      "metadata": {
        "id": "LHParjDyyF0x"
      },
      "outputs": [],
      "source": []
    },
    {
      "cell_type": "code",
      "execution_count": null,
      "metadata": {
        "id": "HE6L1V8qyFyT"
      },
      "outputs": [],
      "source": []
    }
  ],
  "metadata": {
    "colab": {
      "provenance": []
    },
    "kernelspec": {
      "display_name": "Python 3",
      "name": "python3"
    },
    "language_info": {
      "name": "python"
    }
  },
  "nbformat": 4,
  "nbformat_minor": 0
}