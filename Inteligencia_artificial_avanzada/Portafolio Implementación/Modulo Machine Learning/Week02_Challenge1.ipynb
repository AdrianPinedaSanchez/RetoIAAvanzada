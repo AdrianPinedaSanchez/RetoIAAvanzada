{
  "nbformat": 4,
  "nbformat_minor": 0,
  "metadata": {
    "colab": {
      "provenance": []
    },
    "kernelspec": {
      "name": "python3",
      "display_name": "Python 3"
    },
    "language_info": {
      "name": "python"
    }
  },
  "cells": [
    {
      "cell_type": "markdown",
      "source": [
        "# **Week02_Challenge1**\n",
        "\n",
        "Catherine Johanna Rojas Mendoza\n",
        "\n",
        "A01798149\n",
        "\n",
        "19/07/24\n"
      ],
      "metadata": {
        "id": "yC2x1H9HyR_n"
      }
    },
    {
      "cell_type": "markdown",
      "source": [
        "### Librerías"
      ],
      "metadata": {
        "id": "OiAbrN190_If"
      }
    },
    {
      "cell_type": "code",
      "source": [
        "import numpy as np\n",
        "import pandas as pd\n",
        "import matplotlib.pyplot as plt"
      ],
      "metadata": {
        "id": "vg1xqJ1AvCmY"
      },
      "execution_count": 72,
      "outputs": []
    },
    {
      "cell_type": "code",
      "source": [
        "# Crear el dataframe con los datos proporcionados\n",
        "data = {\n",
        "    'Attendance': [80, 65, 95, 95, 85, 75, 90, 65],\n",
        "    'Homework': [75, 70, 85, 100, 65, 55, 90, 80],\n",
        "    'Pass': ['yes', 'no', 'yes', 'yes', 'no', 'no', 'yes', 'yes'],\n",
        "    'Reference': ['yes', 'no', 'yes', 'no', 'no', 'no', 'yes', 'no']\n",
        "}\n",
        "df = pd.DataFrame(data)\n",
        "\n",
        "# Convertir la columna 'Pass' a valores binarios (1 para 'yes' y 0 para 'no')\n",
        "df['Pass'] = df['Pass'].apply(lambda x: 1 if x == 'yes' else 0)\n",
        "\n",
        "# Convertir la columna 'Reference' a valores binarios (1 para 'yes' y 0 para 'no')\n",
        "df['Reference'] = df['Reference'].apply(lambda x: 1 if x == 'yes' else 0)\n",
        "df\n"
      ],
      "metadata": {
        "colab": {
          "base_uri": "https://localhost:8080/",
          "height": 300
        },
        "id": "PeCwo_lRQHyp",
        "outputId": "d1da36fd-1e66-4b7c-a059-81748e3fec11"
      },
      "execution_count": 73,
      "outputs": [
        {
          "output_type": "execute_result",
          "data": {
            "text/plain": [
              "   Attendance  Homework  Pass  Reference\n",
              "0          80        75     1          1\n",
              "1          65        70     0          0\n",
              "2          95        85     1          1\n",
              "3          95       100     1          0\n",
              "4          85        65     0          0\n",
              "5          75        55     0          0\n",
              "6          90        90     1          1\n",
              "7          65        80     1          0"
            ],
            "text/html": [
              "\n",
              "  <div id=\"df-83114aef-b863-4db1-9446-86be634fdf7a\" class=\"colab-df-container\">\n",
              "    <div>\n",
              "<style scoped>\n",
              "    .dataframe tbody tr th:only-of-type {\n",
              "        vertical-align: middle;\n",
              "    }\n",
              "\n",
              "    .dataframe tbody tr th {\n",
              "        vertical-align: top;\n",
              "    }\n",
              "\n",
              "    .dataframe thead th {\n",
              "        text-align: right;\n",
              "    }\n",
              "</style>\n",
              "<table border=\"1\" class=\"dataframe\">\n",
              "  <thead>\n",
              "    <tr style=\"text-align: right;\">\n",
              "      <th></th>\n",
              "      <th>Attendance</th>\n",
              "      <th>Homework</th>\n",
              "      <th>Pass</th>\n",
              "      <th>Reference</th>\n",
              "    </tr>\n",
              "  </thead>\n",
              "  <tbody>\n",
              "    <tr>\n",
              "      <th>0</th>\n",
              "      <td>80</td>\n",
              "      <td>75</td>\n",
              "      <td>1</td>\n",
              "      <td>1</td>\n",
              "    </tr>\n",
              "    <tr>\n",
              "      <th>1</th>\n",
              "      <td>65</td>\n",
              "      <td>70</td>\n",
              "      <td>0</td>\n",
              "      <td>0</td>\n",
              "    </tr>\n",
              "    <tr>\n",
              "      <th>2</th>\n",
              "      <td>95</td>\n",
              "      <td>85</td>\n",
              "      <td>1</td>\n",
              "      <td>1</td>\n",
              "    </tr>\n",
              "    <tr>\n",
              "      <th>3</th>\n",
              "      <td>95</td>\n",
              "      <td>100</td>\n",
              "      <td>1</td>\n",
              "      <td>0</td>\n",
              "    </tr>\n",
              "    <tr>\n",
              "      <th>4</th>\n",
              "      <td>85</td>\n",
              "      <td>65</td>\n",
              "      <td>0</td>\n",
              "      <td>0</td>\n",
              "    </tr>\n",
              "    <tr>\n",
              "      <th>5</th>\n",
              "      <td>75</td>\n",
              "      <td>55</td>\n",
              "      <td>0</td>\n",
              "      <td>0</td>\n",
              "    </tr>\n",
              "    <tr>\n",
              "      <th>6</th>\n",
              "      <td>90</td>\n",
              "      <td>90</td>\n",
              "      <td>1</td>\n",
              "      <td>1</td>\n",
              "    </tr>\n",
              "    <tr>\n",
              "      <th>7</th>\n",
              "      <td>65</td>\n",
              "      <td>80</td>\n",
              "      <td>1</td>\n",
              "      <td>0</td>\n",
              "    </tr>\n",
              "  </tbody>\n",
              "</table>\n",
              "</div>\n",
              "    <div class=\"colab-df-buttons\">\n",
              "\n",
              "  <div class=\"colab-df-container\">\n",
              "    <button class=\"colab-df-convert\" onclick=\"convertToInteractive('df-83114aef-b863-4db1-9446-86be634fdf7a')\"\n",
              "            title=\"Convert this dataframe to an interactive table.\"\n",
              "            style=\"display:none;\">\n",
              "\n",
              "  <svg xmlns=\"http://www.w3.org/2000/svg\" height=\"24px\" viewBox=\"0 -960 960 960\">\n",
              "    <path d=\"M120-120v-720h720v720H120Zm60-500h600v-160H180v160Zm220 220h160v-160H400v160Zm0 220h160v-160H400v160ZM180-400h160v-160H180v160Zm440 0h160v-160H620v160ZM180-180h160v-160H180v160Zm440 0h160v-160H620v160Z\"/>\n",
              "  </svg>\n",
              "    </button>\n",
              "\n",
              "  <style>\n",
              "    .colab-df-container {\n",
              "      display:flex;\n",
              "      gap: 12px;\n",
              "    }\n",
              "\n",
              "    .colab-df-convert {\n",
              "      background-color: #E8F0FE;\n",
              "      border: none;\n",
              "      border-radius: 50%;\n",
              "      cursor: pointer;\n",
              "      display: none;\n",
              "      fill: #1967D2;\n",
              "      height: 32px;\n",
              "      padding: 0 0 0 0;\n",
              "      width: 32px;\n",
              "    }\n",
              "\n",
              "    .colab-df-convert:hover {\n",
              "      background-color: #E2EBFA;\n",
              "      box-shadow: 0px 1px 2px rgba(60, 64, 67, 0.3), 0px 1px 3px 1px rgba(60, 64, 67, 0.15);\n",
              "      fill: #174EA6;\n",
              "    }\n",
              "\n",
              "    .colab-df-buttons div {\n",
              "      margin-bottom: 4px;\n",
              "    }\n",
              "\n",
              "    [theme=dark] .colab-df-convert {\n",
              "      background-color: #3B4455;\n",
              "      fill: #D2E3FC;\n",
              "    }\n",
              "\n",
              "    [theme=dark] .colab-df-convert:hover {\n",
              "      background-color: #434B5C;\n",
              "      box-shadow: 0px 1px 3px 1px rgba(0, 0, 0, 0.15);\n",
              "      filter: drop-shadow(0px 1px 2px rgba(0, 0, 0, 0.3));\n",
              "      fill: #FFFFFF;\n",
              "    }\n",
              "  </style>\n",
              "\n",
              "    <script>\n",
              "      const buttonEl =\n",
              "        document.querySelector('#df-83114aef-b863-4db1-9446-86be634fdf7a button.colab-df-convert');\n",
              "      buttonEl.style.display =\n",
              "        google.colab.kernel.accessAllowed ? 'block' : 'none';\n",
              "\n",
              "      async function convertToInteractive(key) {\n",
              "        const element = document.querySelector('#df-83114aef-b863-4db1-9446-86be634fdf7a');\n",
              "        const dataTable =\n",
              "          await google.colab.kernel.invokeFunction('convertToInteractive',\n",
              "                                                    [key], {});\n",
              "        if (!dataTable) return;\n",
              "\n",
              "        const docLinkHtml = 'Like what you see? Visit the ' +\n",
              "          '<a target=\"_blank\" href=https://colab.research.google.com/notebooks/data_table.ipynb>data table notebook</a>'\n",
              "          + ' to learn more about interactive tables.';\n",
              "        element.innerHTML = '';\n",
              "        dataTable['output_type'] = 'display_data';\n",
              "        await google.colab.output.renderOutput(dataTable, element);\n",
              "        const docLink = document.createElement('div');\n",
              "        docLink.innerHTML = docLinkHtml;\n",
              "        element.appendChild(docLink);\n",
              "      }\n",
              "    </script>\n",
              "  </div>\n",
              "\n",
              "\n",
              "<div id=\"df-9a7b90df-1eb6-4b91-b25e-4c76887abf05\">\n",
              "  <button class=\"colab-df-quickchart\" onclick=\"quickchart('df-9a7b90df-1eb6-4b91-b25e-4c76887abf05')\"\n",
              "            title=\"Suggest charts\"\n",
              "            style=\"display:none;\">\n",
              "\n",
              "<svg xmlns=\"http://www.w3.org/2000/svg\" height=\"24px\"viewBox=\"0 0 24 24\"\n",
              "     width=\"24px\">\n",
              "    <g>\n",
              "        <path d=\"M19 3H5c-1.1 0-2 .9-2 2v14c0 1.1.9 2 2 2h14c1.1 0 2-.9 2-2V5c0-1.1-.9-2-2-2zM9 17H7v-7h2v7zm4 0h-2V7h2v10zm4 0h-2v-4h2v4z\"/>\n",
              "    </g>\n",
              "</svg>\n",
              "  </button>\n",
              "\n",
              "<style>\n",
              "  .colab-df-quickchart {\n",
              "      --bg-color: #E8F0FE;\n",
              "      --fill-color: #1967D2;\n",
              "      --hover-bg-color: #E2EBFA;\n",
              "      --hover-fill-color: #174EA6;\n",
              "      --disabled-fill-color: #AAA;\n",
              "      --disabled-bg-color: #DDD;\n",
              "  }\n",
              "\n",
              "  [theme=dark] .colab-df-quickchart {\n",
              "      --bg-color: #3B4455;\n",
              "      --fill-color: #D2E3FC;\n",
              "      --hover-bg-color: #434B5C;\n",
              "      --hover-fill-color: #FFFFFF;\n",
              "      --disabled-bg-color: #3B4455;\n",
              "      --disabled-fill-color: #666;\n",
              "  }\n",
              "\n",
              "  .colab-df-quickchart {\n",
              "    background-color: var(--bg-color);\n",
              "    border: none;\n",
              "    border-radius: 50%;\n",
              "    cursor: pointer;\n",
              "    display: none;\n",
              "    fill: var(--fill-color);\n",
              "    height: 32px;\n",
              "    padding: 0;\n",
              "    width: 32px;\n",
              "  }\n",
              "\n",
              "  .colab-df-quickchart:hover {\n",
              "    background-color: var(--hover-bg-color);\n",
              "    box-shadow: 0 1px 2px rgba(60, 64, 67, 0.3), 0 1px 3px 1px rgba(60, 64, 67, 0.15);\n",
              "    fill: var(--button-hover-fill-color);\n",
              "  }\n",
              "\n",
              "  .colab-df-quickchart-complete:disabled,\n",
              "  .colab-df-quickchart-complete:disabled:hover {\n",
              "    background-color: var(--disabled-bg-color);\n",
              "    fill: var(--disabled-fill-color);\n",
              "    box-shadow: none;\n",
              "  }\n",
              "\n",
              "  .colab-df-spinner {\n",
              "    border: 2px solid var(--fill-color);\n",
              "    border-color: transparent;\n",
              "    border-bottom-color: var(--fill-color);\n",
              "    animation:\n",
              "      spin 1s steps(1) infinite;\n",
              "  }\n",
              "\n",
              "  @keyframes spin {\n",
              "    0% {\n",
              "      border-color: transparent;\n",
              "      border-bottom-color: var(--fill-color);\n",
              "      border-left-color: var(--fill-color);\n",
              "    }\n",
              "    20% {\n",
              "      border-color: transparent;\n",
              "      border-left-color: var(--fill-color);\n",
              "      border-top-color: var(--fill-color);\n",
              "    }\n",
              "    30% {\n",
              "      border-color: transparent;\n",
              "      border-left-color: var(--fill-color);\n",
              "      border-top-color: var(--fill-color);\n",
              "      border-right-color: var(--fill-color);\n",
              "    }\n",
              "    40% {\n",
              "      border-color: transparent;\n",
              "      border-right-color: var(--fill-color);\n",
              "      border-top-color: var(--fill-color);\n",
              "    }\n",
              "    60% {\n",
              "      border-color: transparent;\n",
              "      border-right-color: var(--fill-color);\n",
              "    }\n",
              "    80% {\n",
              "      border-color: transparent;\n",
              "      border-right-color: var(--fill-color);\n",
              "      border-bottom-color: var(--fill-color);\n",
              "    }\n",
              "    90% {\n",
              "      border-color: transparent;\n",
              "      border-bottom-color: var(--fill-color);\n",
              "    }\n",
              "  }\n",
              "</style>\n",
              "\n",
              "  <script>\n",
              "    async function quickchart(key) {\n",
              "      const quickchartButtonEl =\n",
              "        document.querySelector('#' + key + ' button');\n",
              "      quickchartButtonEl.disabled = true;  // To prevent multiple clicks.\n",
              "      quickchartButtonEl.classList.add('colab-df-spinner');\n",
              "      try {\n",
              "        const charts = await google.colab.kernel.invokeFunction(\n",
              "            'suggestCharts', [key], {});\n",
              "      } catch (error) {\n",
              "        console.error('Error during call to suggestCharts:', error);\n",
              "      }\n",
              "      quickchartButtonEl.classList.remove('colab-df-spinner');\n",
              "      quickchartButtonEl.classList.add('colab-df-quickchart-complete');\n",
              "    }\n",
              "    (() => {\n",
              "      let quickchartButtonEl =\n",
              "        document.querySelector('#df-9a7b90df-1eb6-4b91-b25e-4c76887abf05 button');\n",
              "      quickchartButtonEl.style.display =\n",
              "        google.colab.kernel.accessAllowed ? 'block' : 'none';\n",
              "    })();\n",
              "  </script>\n",
              "</div>\n",
              "\n",
              "  <div id=\"id_584f1d51-02ba-4b7d-9f06-9e3e8f1f1752\">\n",
              "    <style>\n",
              "      .colab-df-generate {\n",
              "        background-color: #E8F0FE;\n",
              "        border: none;\n",
              "        border-radius: 50%;\n",
              "        cursor: pointer;\n",
              "        display: none;\n",
              "        fill: #1967D2;\n",
              "        height: 32px;\n",
              "        padding: 0 0 0 0;\n",
              "        width: 32px;\n",
              "      }\n",
              "\n",
              "      .colab-df-generate:hover {\n",
              "        background-color: #E2EBFA;\n",
              "        box-shadow: 0px 1px 2px rgba(60, 64, 67, 0.3), 0px 1px 3px 1px rgba(60, 64, 67, 0.15);\n",
              "        fill: #174EA6;\n",
              "      }\n",
              "\n",
              "      [theme=dark] .colab-df-generate {\n",
              "        background-color: #3B4455;\n",
              "        fill: #D2E3FC;\n",
              "      }\n",
              "\n",
              "      [theme=dark] .colab-df-generate:hover {\n",
              "        background-color: #434B5C;\n",
              "        box-shadow: 0px 1px 3px 1px rgba(0, 0, 0, 0.15);\n",
              "        filter: drop-shadow(0px 1px 2px rgba(0, 0, 0, 0.3));\n",
              "        fill: #FFFFFF;\n",
              "      }\n",
              "    </style>\n",
              "    <button class=\"colab-df-generate\" onclick=\"generateWithVariable('df')\"\n",
              "            title=\"Generate code using this dataframe.\"\n",
              "            style=\"display:none;\">\n",
              "\n",
              "  <svg xmlns=\"http://www.w3.org/2000/svg\" height=\"24px\"viewBox=\"0 0 24 24\"\n",
              "       width=\"24px\">\n",
              "    <path d=\"M7,19H8.4L18.45,9,17,7.55,7,17.6ZM5,21V16.75L18.45,3.32a2,2,0,0,1,2.83,0l1.4,1.43a1.91,1.91,0,0,1,.58,1.4,1.91,1.91,0,0,1-.58,1.4L9.25,21ZM18.45,9,17,7.55Zm-12,3A5.31,5.31,0,0,0,4.9,8.1,5.31,5.31,0,0,0,1,6.5,5.31,5.31,0,0,0,4.9,4.9,5.31,5.31,0,0,0,6.5,1,5.31,5.31,0,0,0,8.1,4.9,5.31,5.31,0,0,0,12,6.5,5.46,5.46,0,0,0,6.5,12Z\"/>\n",
              "  </svg>\n",
              "    </button>\n",
              "    <script>\n",
              "      (() => {\n",
              "      const buttonEl =\n",
              "        document.querySelector('#id_584f1d51-02ba-4b7d-9f06-9e3e8f1f1752 button.colab-df-generate');\n",
              "      buttonEl.style.display =\n",
              "        google.colab.kernel.accessAllowed ? 'block' : 'none';\n",
              "\n",
              "      buttonEl.onclick = () => {\n",
              "        google.colab.notebook.generateWithVariable('df');\n",
              "      }\n",
              "      })();\n",
              "    </script>\n",
              "  </div>\n",
              "\n",
              "    </div>\n",
              "  </div>\n"
            ],
            "application/vnd.google.colaboratory.intrinsic+json": {
              "type": "dataframe",
              "variable_name": "df",
              "summary": "{\n  \"name\": \"df\",\n  \"rows\": 8,\n  \"fields\": [\n    {\n      \"column\": \"Attendance\",\n      \"properties\": {\n        \"dtype\": \"number\",\n        \"std\": 12,\n        \"min\": 65,\n        \"max\": 95,\n        \"num_unique_values\": 6,\n        \"samples\": [\n          80,\n          65,\n          90\n        ],\n        \"semantic_type\": \"\",\n        \"description\": \"\"\n      }\n    },\n    {\n      \"column\": \"Homework\",\n      \"properties\": {\n        \"dtype\": \"number\",\n        \"std\": 14,\n        \"min\": 55,\n        \"max\": 100,\n        \"num_unique_values\": 8,\n        \"samples\": [\n          70,\n          55,\n          75\n        ],\n        \"semantic_type\": \"\",\n        \"description\": \"\"\n      }\n    },\n    {\n      \"column\": \"Pass\",\n      \"properties\": {\n        \"dtype\": \"number\",\n        \"std\": 0,\n        \"min\": 0,\n        \"max\": 1,\n        \"num_unique_values\": 2,\n        \"samples\": [\n          0,\n          1\n        ],\n        \"semantic_type\": \"\",\n        \"description\": \"\"\n      }\n    },\n    {\n      \"column\": \"Reference\",\n      \"properties\": {\n        \"dtype\": \"number\",\n        \"std\": 0,\n        \"min\": 0,\n        \"max\": 1,\n        \"num_unique_values\": 2,\n        \"samples\": [\n          0,\n          1\n        ],\n        \"semantic_type\": \"\",\n        \"description\": \"\"\n      }\n    }\n  ]\n}"
            }
          },
          "metadata": {},
          "execution_count": 73
        }
      ]
    },
    {
      "cell_type": "markdown",
      "source": [
        "### Regresión Logística"
      ],
      "metadata": {
        "id": "Czter5iO1uUV"
      }
    },
    {
      "cell_type": "markdown",
      "source": [
        "Las interpretaciones de la regresión logística sin dividir los datos en entrenamiento y prueba se realizaron con los siguientes parámetros:\n",
        "\n",
        "- theta0_init = 0\n",
        "- theta1_init = 0\n",
        "- alpha = 0.01\n",
        "- iterations = 1000"
      ],
      "metadata": {
        "id": "8bweBogfViAS"
      }
    },
    {
      "cell_type": "code",
      "source": [
        "# Inicializar parámetros\n",
        "theta0_init = 0\n",
        "theta1_init = 0\n",
        "alpha = 0.001\n",
        "iterations = 100"
      ],
      "metadata": {
        "id": "Q_vXX_Gmlj8v"
      },
      "execution_count": 74,
      "outputs": []
    },
    {
      "cell_type": "code",
      "source": [
        "def sigmoid(z):\n",
        "    return 1 / (1 + np.exp(-z)) #h_0\n",
        "\n",
        "def logistic_regression(X, y, theta0_init, theta1_init, alpha, iterations):\n",
        "    theta0 = theta0_init\n",
        "    theta1 = theta1_init\n",
        "    n = len(y)\n",
        "\n",
        "    for i in range(iterations):\n",
        "        z = theta0 + theta1 * X\n",
        "        h = sigmoid(z)\n",
        "\n",
        "        # Calcula los gradientes\n",
        "        gradient0 = (1/n) * np.sum(h - y)\n",
        "        gradient1 = (1/n) * np.sum((h - y) * X)\n",
        "\n",
        "        # Actualiza los parámetros\n",
        "        theta0 -= alpha * gradient0\n",
        "        theta1 -= alpha * gradient1\n",
        "\n",
        "        # Calcula el costo\n",
        "        cost = -1/n * np.sum(y * np.log(h) + (1 - y) * np.log(1 - h))\n",
        "        print(f\"Iteración {i+1}: theta0 = {theta0}, theta1 = {theta1}, alpha = {alpha}, costo = {cost}\")\n",
        "\n",
        "    return theta0, theta1\n",
        "\n",
        "        #if (i+1) % 100 == 0:\n",
        "            #print(f\"Iteración {i+1}: theta0 = {theta0}, theta1 = {theta1}, alpha = {alpha}, costo = {cost}\")\n",
        "\n",
        "    #return theta0, theta1\n"
      ],
      "metadata": {
        "id": "KPrlMHyuXgup"
      },
      "execution_count": 75,
      "outputs": []
    },
    {
      "cell_type": "markdown",
      "source": [
        "### Clasificador que estime si un estudiante aprueba o no el curso"
      ],
      "metadata": {
        "id": "TpOeTem79TE8"
      }
    },
    {
      "cell_type": "markdown",
      "source": [
        "**Característica Attendance**"
      ],
      "metadata": {
        "id": "b6on0h6k15q0"
      }
    },
    {
      "cell_type": "code",
      "source": [
        "# Característica 'Attendance'\n",
        "X_attendance = df['Attendance'].values\n",
        "y = df['Pass'].values\n",
        "\n",
        "# Aplicar la regresión logística\n",
        "theta0_attendance, theta1_attendance = logistic_regression(X_attendance, y, theta0_init, theta1_init, alpha, iterations)\n",
        "\n",
        "print(f\"Parámetros finales para 'Attendance': theta0 = {theta0_attendance}, theta1 = {theta1_attendance}\")\n",
        "\n",
        "# Predicción para cada muestra en el conjunto de datos\n",
        "z_attendance = theta0_attendance + theta1_attendance * X_attendance\n",
        "\n",
        "# La función sigmoide convierte los valores en probabilidades, que estarán en el rango de 0 a 1.\n",
        "y_pred_attendance = sigmoid(z_attendance) >= 0.5\n"
      ],
      "metadata": {
        "colab": {
          "base_uri": "https://localhost:8080/"
        },
        "id": "iYTpgwbdldaf",
        "outputId": "3d5fd4e9-5eb5-4c8b-9672-2d9270df6ac0"
      },
      "execution_count": 76,
      "outputs": [
        {
          "output_type": "stream",
          "name": "stdout",
          "text": [
            "Iteración 1: theta0 = 0.000125, theta1 = 0.0125, alpha = 0.001, costo = 0.6931471805599453\n",
            "Iteración 2: theta0 = 1.6774744101258067e-05, theta1 = 0.005731771382780238, alpha = 0.001, costo = 0.6626468899832987\n",
            "Iteración 3: theta0 = 2.7517936758486686e-05, theta1 = 0.008772057291519551, alpha = 0.001, costo = 0.6488738740281816\n",
            "Iteración 4: theta0 = -1.811919945807841e-05, theta1 = 0.007155822163269516, alpha = 0.001, costo = 0.6467995990723467\n",
            "Iteración 5: theta0 = -3.429325865979461e-05, theta1 = 0.007971518988365676, alpha = 0.001, costo = 0.6461367044720583\n",
            "Iteración 6: theta0 = -6.548650301519383e-05, theta1 = 0.007547052419716091, alpha = 0.001, costo = 0.6459785607463455\n",
            "Iteración 7: theta0 = -8.88939007099455e-05, theta1 = 0.007765355888775023, alpha = 0.001, costo = 0.6459336950088266\n",
            "Iteración 8: theta0 = -0.0001163073638280061, theta1 = 0.007652889517823268, alpha = 0.001, costo = 0.6459215826568705\n",
            "Iteración 9: theta0 = -0.00014165080485685857, theta1 = 0.007711316956683345, alpha = 0.001, costo = 0.6459178159176626\n",
            "Iteración 10: theta0 = -0.00016806142291422686, theta1 = 0.007681625481971009, alpha = 0.001, costo = 0.6459163212803277\n",
            "Iteración 11: theta0 = -0.0001939210131491527, theta1 = 0.007697418480019387, alpha = 0.001, costo = 0.6459154246120901\n",
            "Iteración 12: theta0 = -0.00022006470074993617, theta1 = 0.0076897461640195895, alpha = 0.001, costo = 0.6459146881079009\n",
            "Iteración 13: theta0 = -0.0002460616079617348, theta1 = 0.007694182860554269, alpha = 0.001, costo = 0.645913994120134\n",
            "Iteración 14: theta0 = -0.00027213407405826526, theta1 = 0.007692371724135016, alpha = 0.001, costo = 0.6459133114746313\n",
            "Iteración 15: theta0 = -0.0002981673769284784, theta1 = 0.007693784484466364, alpha = 0.001, costo = 0.6459126318508952\n",
            "Iteración 16: theta0 = -0.0003242207127504387, theta1 = 0.0076935337674039535, alpha = 0.001, costo = 0.6459119530364352\n",
            "Iteración 17: theta0 = -0.00035026353712198016, theta1 = 0.0076941413900905335, alpha = 0.001, costo = 0.6459112744417974\n",
            "Iteración 18: theta0 = -0.0003763116106707815, theta1 = 0.007694306118696579, alpha = 0.001, costo = 0.6459105959100955\n",
            "Iteración 19: theta0 = -0.00040235680110797887, theta1 = 0.0076946993737810375, alpha = 0.001, costo = 0.6459099173995517\n",
            "Iteración 20: theta0 = -0.00042840330460258117, theta1 = 0.007694974710050427, alpha = 0.001, costo = 0.645909238899044\n",
            "Iteración 21: theta0 = -0.00045444895598457875, theta1 = 0.0076953108889197454, alpha = 0.001, costo = 0.645908560405611\n",
            "Iteración 22: theta0 = -0.0004804948724551772, theta1 = 0.00769561567175937, alpha = 0.001, costo = 0.6459078819184638\n",
            "Iteración 23: theta0 = -0.000506540477553966, theta1 = 0.007695936652481039, alpha = 0.001, costo = 0.645907203437393\n",
            "Iteración 24: theta0 = -0.0005325860687274376, theta1 = 0.007696249273271815, alpha = 0.001, costo = 0.6459065249623425\n",
            "Iteración 25: theta0 = -0.0005586314924980507, theta1 = 0.007696566205618732, alpha = 0.001, costo = 0.6459058464932972\n",
            "Iteración 26: theta0 = -0.0005846768280587123, theta1 = 0.007696880911217172, alpha = 0.001, costo = 0.6459051680302532\n",
            "Iteración 27: theta0 = -0.00061072203454775, theta1 = 0.007697196763735274, alpha = 0.001, costo = 0.6459044895732096\n",
            "Iteración 28: theta0 = -0.0006367671330498643, theta1 = 0.00769751202241173, alpha = 0.001, costo = 0.6459038111221658\n",
            "Iteración 29: theta0 = -0.0006628121126863762, theta1 = 0.00769782758545211, alpha = 0.001, costo = 0.6459031326771217\n",
            "Iteración 30: theta0 = -0.0006888569790712073, theta1 = 0.007698142989396806, alpha = 0.001, costo = 0.6459024542380774\n",
            "Iteración 31: theta0 = -0.0007149017293083641, theta1 = 0.007698458473383317, alpha = 0.001, costo = 0.6459017758050325\n",
            "Iteración 32: theta0 = -0.0007409463648928281, theta1 = 0.007698773914020752, alpha = 0.001, costo = 0.6459010973779874\n",
            "Iteración 33: theta0 = -0.0007669908850539123, theta1 = 0.007699089374976688, alpha = 0.001, costo = 0.6459004189569417\n",
            "Iteración 34: theta0 = -0.0007930352901899752, theta1 = 0.007699404823399781, alpha = 0.001, costo = 0.6458997405418956\n",
            "Iteración 35: theta0 = -0.0008190795800961687, theta1 = 0.007699720276240743, alpha = 0.001, costo = 0.6458990621328489\n",
            "Iteración 36: theta0 = -0.0008451237548788882, theta1 = 0.0077000357247533294, alpha = 0.001, costo = 0.6458983837298015\n",
            "Iteración 37: theta0 = -0.0008711678144839333, theta1 = 0.00770035117345044, alpha = 0.001, costo = 0.6458977053327535\n",
            "Iteración 38: theta0 = -0.000897211758939968, theta1 = 0.007700666620003511, alpha = 0.001, costo = 0.6458970269417046\n",
            "Iteración 39: theta0 = -0.0009232555882329, theta1 = 0.007700982065614048, alpha = 0.001, costo = 0.6458963485566549\n",
            "Iteración 40: theta0 = -0.0009492993023706982, theta1 = 0.007701297509662108, alpha = 0.001, costo = 0.6458956701776047\n",
            "Iteración 41: theta0 = -0.0009753429013499484, theta1 = 0.007701612952467566, alpha = 0.001, costo = 0.6458949918045535\n",
            "Iteración 42: theta0 = -0.00100138638517311, theta1 = 0.0077019283938653945, alpha = 0.001, costo = 0.6458943134375013\n",
            "Iteración 43: theta0 = -0.0010274297538396115, theta1 = 0.007702243833940742, alpha = 0.001, costo = 0.6458936350764481\n",
            "Iteración 44: theta0 = -0.0010534730073504454, theta1 = 0.007702559272649677, alpha = 0.001, costo = 0.6458929567213938\n",
            "Iteración 45: theta0 = -0.0010795161457057975, theta1 = 0.007702874710014889, alpha = 0.001, costo = 0.6458922783723386\n",
            "Iteración 46: theta0 = -0.0011055591689062693, theta1 = 0.007703190146024672, alpha = 0.001, costo = 0.6458916000292821\n",
            "Iteración 47: theta0 = -0.0011316020769522482, theta1 = 0.007703505580685066, alpha = 0.001, costo = 0.6458909216922246\n",
            "Iteración 48: theta0 = -0.001157644869844232, theta1 = 0.007703821013992969, alpha = 0.001, costo = 0.6458902433611657\n",
            "Iteración 49: theta0 = -0.0011836875475826614, theta1 = 0.007704136445949989, alpha = 0.001, costo = 0.6458895650361057\n",
            "Iteración 50: theta0 = -0.0012097301101680067, theta1 = 0.007704451876555301, alpha = 0.001, costo = 0.6458888867170441\n",
            "Iteración 51: theta0 = -0.0012357725576007228, theta1 = 0.0077047673058093374, alpha = 0.001, costo = 0.6458882084039814\n",
            "Iteración 52: theta0 = -0.0012618148898812724, theta1 = 0.007705082733711893, alpha = 0.001, costo = 0.6458875300969171\n",
            "Iteración 53: theta0 = -0.0012878571070101149, theta1 = 0.007705398160263064, alpha = 0.001, costo = 0.6458868517958514\n",
            "Iteración 54: theta0 = -0.0013138992089877107, theta1 = 0.007705713585462818, alpha = 0.001, costo = 0.6458861735007841\n",
            "Iteración 55: theta0 = -0.0013399411958145196, theta1 = 0.007706029009311182, alpha = 0.001, costo = 0.6458854952117152\n",
            "Iteración 56: theta0 = -0.0013659830674910022, theta1 = 0.007706344431808147, alpha = 0.001, costo = 0.6458848169286446\n",
            "Iteración 57: theta0 = -0.0013920248240176186, theta1 = 0.0077066598529537235, alpha = 0.001, costo = 0.6458841386515725\n",
            "Iteración 58: theta0 = -0.001418066465394829, theta1 = 0.007706975272747911, alpha = 0.001, costo = 0.6458834603804986\n",
            "Iteración 59: theta0 = -0.0014441079916230933, theta1 = 0.007707290691190722, alpha = 0.001, costo = 0.6458827821154228\n",
            "Iteración 60: theta0 = -0.0014701494027028722, theta1 = 0.0077076061082821615, alpha = 0.001, costo = 0.6458821038563453\n",
            "Iteración 61: theta0 = -0.0014961906986346255, theta1 = 0.00770792152402222, alpha = 0.001, costo = 0.6458814256032658\n",
            "Iteración 62: theta0 = -0.0015222318794188136, theta1 = 0.007708236938410924, alpha = 0.001, costo = 0.6458807473561845\n",
            "Iteración 63: theta0 = -0.0015482729450558964, theta1 = 0.00770855235144826, alpha = 0.001, costo = 0.645880069115101\n",
            "Iteración 64: theta0 = -0.0015743138955463345, theta1 = 0.007708867763134246, alpha = 0.001, costo = 0.6458793908800156\n",
            "Iteración 65: theta0 = -0.0016003547308905879, theta1 = 0.007709183173468874, alpha = 0.001, costo = 0.645878712650928\n",
            "Iteración 66: theta0 = -0.0016263954510891165, theta1 = 0.007709498582452167, alpha = 0.001, costo = 0.6458780344278385\n",
            "Iteración 67: theta0 = -0.001652436056142381, theta1 = 0.007709813990084104, alpha = 0.001, costo = 0.6458773562107466\n",
            "Iteración 68: theta0 = -0.0016784765460508412, theta1 = 0.00771012939636472, alpha = 0.001, costo = 0.6458766779996526\n",
            "Iteración 69: theta0 = -0.0017045169208149576, theta1 = 0.0077104448012939985, alpha = 0.001, costo = 0.6458759997945562\n",
            "Iteración 70: theta0 = -0.00173055718043519, theta1 = 0.0077107602048719515, alpha = 0.001, costo = 0.6458753215954576\n",
            "Iteración 71: theta0 = -0.001756597324911999, theta1 = 0.007711075607098588, alpha = 0.001, costo = 0.6458746434023563\n",
            "Iteración 72: theta0 = -0.0017826373542458446, theta1 = 0.007711391007973896, alpha = 0.001, costo = 0.6458739652152528\n",
            "Iteración 73: theta0 = -0.0018086772684371868, theta1 = 0.007711706407497907, alpha = 0.001, costo = 0.6458732870341466\n",
            "Iteración 74: theta0 = -0.0018347170674864863, theta1 = 0.007712021805670598, alpha = 0.001, costo = 0.6458726088590382\n",
            "Iteración 75: theta0 = -0.0018607567513942026, theta1 = 0.0077123372024920055, alpha = 0.001, costo = 0.645871930689927\n",
            "Iteración 76: theta0 = -0.0018867963201607966, theta1 = 0.007712652597962095, alpha = 0.001, costo = 0.6458712525268132\n",
            "Iteración 77: theta0 = -0.001912835773786728, theta1 = 0.0077129679920809125, alpha = 0.001, costo = 0.6458705743696966\n",
            "Iteración 78: theta0 = -0.001938875112272457, theta1 = 0.007713283384848431, alpha = 0.001, costo = 0.6458698962185773\n",
            "Iteración 79: theta0 = -0.001964914335618444, theta1 = 0.0077135987762646735, alpha = 0.001, costo = 0.6458692180734553\n",
            "Iteración 80: theta0 = -0.001990953443825149, theta1 = 0.0077139141663296355, alpha = 0.001, costo = 0.6458685399343302\n",
            "Iteración 81: theta0 = -0.0020169924368930326, theta1 = 0.007714229555043332, alpha = 0.001, costo = 0.6458678618012025\n",
            "Iteración 82: theta0 = -0.0020430313148225546, theta1 = 0.007714544942405754, alpha = 0.001, costo = 0.6458671836740717\n",
            "Iteración 83: theta0 = -0.002069070077614175, theta1 = 0.007714860328416919, alpha = 0.001, costo = 0.6458665055529379\n",
            "Iteración 84: theta0 = -0.002095108725268355, theta1 = 0.007715175713076822, alpha = 0.001, costo = 0.6458658274378011\n",
            "Iteración 85: theta0 = -0.0021211472577855536, theta1 = 0.007715491096385478, alpha = 0.001, costo = 0.6458651493286611\n",
            "Iteración 86: theta0 = -0.0021471856751662313, theta1 = 0.007715806478342888, alpha = 0.001, costo = 0.6458644712255182\n",
            "Iteración 87: theta0 = -0.0021732239774108486, theta1 = 0.007716121858949052, alpha = 0.001, costo = 0.6458637931283719\n",
            "Iteración 88: theta0 = -0.0021992621645198656, theta1 = 0.007716437238203979, alpha = 0.001, costo = 0.6458631150372223\n",
            "Iteración 89: theta0 = -0.0022253002364937425, theta1 = 0.00771675261610767, alpha = 0.001, costo = 0.6458624369520695\n",
            "Iteración 90: theta0 = -0.0022513381933329394, theta1 = 0.0077170679926601435, alpha = 0.001, costo = 0.6458617588729133\n",
            "Iteración 91: theta0 = -0.0022773760350379164, theta1 = 0.007717383367861385, alpha = 0.001, costo = 0.6458610807997537\n",
            "Iteración 92: theta0 = -0.0023034137616091336, theta1 = 0.007717698741711418, alpha = 0.001, costo = 0.6458604027325907\n",
            "Iteración 93: theta0 = -0.0023294513730470518, theta1 = 0.0077180141142102286, alpha = 0.001, costo = 0.6458597246714242\n",
            "Iteración 94: theta0 = -0.0023554888693521304, theta1 = 0.007718329485357839, alpha = 0.001, costo = 0.6458590466162539\n",
            "Iteración 95: theta0 = -0.00238152625052483, theta1 = 0.0077186448551542376, alpha = 0.001, costo = 0.6458583685670803\n",
            "Iteración 96: theta0 = -0.002407563516565611, theta1 = 0.007718960223599447, alpha = 0.001, costo = 0.645857690523903\n",
            "Iteración 97: theta0 = -0.0024336006674749336, theta1 = 0.007719275590693456, alpha = 0.001, costo = 0.6458570124867219\n",
            "Iteración 98: theta0 = -0.0024596377032532575, theta1 = 0.0077195909564362845, alpha = 0.001, costo = 0.645856334455537\n",
            "Iteración 99: theta0 = -0.002485674623901043, theta1 = 0.007719906320827926, alpha = 0.001, costo = 0.6458556564303485\n",
            "Iteración 100: theta0 = -0.0025117114294187504, theta1 = 0.0077202216838683875, alpha = 0.001, costo = 0.645854978411156\n",
            "Parámetros finales para 'Attendance': theta0 = -0.0025117114294187504, theta1 = 0.0077202216838683875\n"
          ]
        }
      ]
    },
    {
      "cell_type": "markdown",
      "source": [
        "- El parámetro theta1 es positivo (0.037), lo que indica que, a medida que aumenta la asistencia (Attendance), la probabilidad de que el estudiante apruebe también aumenta. Sin embargo, el valor de theta1 es bastante pequeño, lo que sugiere que el impacto de la asistencia en la probabilidad de aprobación es bajo.\n",
        "\n",
        "\n",
        "- El valor de theta0 es negativo (-0.279), lo que implica que, cuando Attendance es 0, la función sigmoide arrojaría una probabilidad menor que 0.5, indicando una tendencia a no aprobar.\n"
      ],
      "metadata": {
        "id": "xmGzBi6oM4VV"
      }
    },
    {
      "cell_type": "markdown",
      "source": [
        "**Caracacterística Homework**"
      ],
      "metadata": {
        "id": "iExGZSTM198f"
      }
    },
    {
      "cell_type": "code",
      "source": [
        "# Característica 'Homework'\n",
        "X_homework = df['Homework'].values\n",
        "\n",
        "# Aplicar la regresión logística\n",
        "theta0_homework, theta1_homework = logistic_regression(X_homework, y, theta0_init, theta1_init, alpha, iterations)\n",
        "\n",
        "print(f\"Parámetros finales para 'Homework': theta0 = {theta0_homework}, theta1 = {theta1_homework}\")\n",
        "\n",
        "# Predicción\n",
        "z_homework = theta0_homework + theta1_homework * X_homework\n",
        "y_pred_homework = sigmoid(z_homework) >= 0.5\n"
      ],
      "metadata": {
        "colab": {
          "base_uri": "https://localhost:8080/"
        },
        "id": "9jMp-_pKlrP6",
        "outputId": "3b9de84e-ba75-4f02-f615-12510c15e4e5"
      },
      "execution_count": 77,
      "outputs": [
        {
          "output_type": "stream",
          "name": "stdout",
          "text": [
            "Iteración 1: theta0 = 0.000125, theta1 = 0.015, alpha = 0.001, costo = 0.6931471805599453\n",
            "Iteración 2: theta0 = -9.888626090384368e-06, theta1 = 0.009365959780589291, alpha = 0.001, costo = 0.6320533494123544\n",
            "Iteración 3: theta0 = -5.817822262977785e-05, theta1 = 0.010563634054966617, alpha = 0.001, costo = 0.6188651974291306\n",
            "Iteración 4: theta0 = -0.00012629384015839902, theta1 = 0.010191339646144555, alpha = 0.001, costo = 0.618374102959544\n",
            "Iteración 5: theta0 = -0.00018830626366062763, theta1 = 0.01030198210747851, alpha = 0.001, costo = 0.6183207801479456\n",
            "Iteración 6: theta0 = -0.00025212240598776817, theta1 = 0.010269827529988906, alpha = 0.001, costo = 0.6183125413350568\n",
            "Iteración 7: theta0 = -0.000315397505991416, theta1 = 0.010280462277617532, alpha = 0.001, costo = 0.6183081399915199\n",
            "Iteración 8: theta0 = -0.00037883358586768967, theta1 = 0.010278324177518708, alpha = 0.001, costo = 0.6183040859837956\n",
            "Iteración 9: theta0 = -0.00044222103536468733, theta1 = 0.010280003225604722, alpha = 0.001, costo = 0.6183000628991894\n",
            "Iteración 10: theta0 = -0.000505622491563601, theta1 = 0.01028054191562476, alpha = 0.001, costo = 0.6182960426246693\n",
            "Iteración 11: theta0 = -0.0005690192415714695, theta1 = 0.010281421308680464, alpha = 0.001, costo = 0.6182920226472572\n",
            "Iteración 12: theta0 = -0.0006324168762693125, theta1 = 0.010282198906463756, alpha = 0.001, costo = 0.6182880027427294\n",
            "Iteración 13: theta0 = -0.0006958137253107289, theta1 = 0.010283006911104894, alpha = 0.001, costo = 0.618283982891068\n",
            "Iteración 14: theta0 = -0.0007592102877372595, theta1 = 0.010283805825463035, alpha = 0.001, costo = 0.6182799630904858\n",
            "Iteración 15: theta0 = -0.000822606414457681, theta1 = 0.01028460744974439, alpha = 0.001, costo = 0.6182759433408229\n",
            "Iteración 16: theta0 = -0.0008860021500174818, theta1 = 0.01028540825852503, alpha = 0.001, costo = 0.6182719236420641\n",
            "Iteración 17: theta0 = -0.0009493974811113776, theta1 = 0.010286209305052857, alpha = 0.001, costo = 0.6182679039942077\n",
            "Iteración 18: theta0 = -0.0010127924117174427, theta1 = 0.010287010274663623, alpha = 0.001, costo = 0.618263884397253\n",
            "Iteración 19: theta0 = -0.001076186940650245, theta1 = 0.010287811261364702, alpha = 0.001, costo = 0.6182598648511992\n",
            "Iteración 20: theta0 = -0.0011395810682669726, theta1 = 0.01028861223707115, alpha = 0.001, costo = 0.6182558453560462\n",
            "Iteración 21: theta0 = -0.0012029747944639515, theta1 = 0.0102894132101734, alpha = 0.001, costo = 0.6182518259117926\n",
            "Iteración 22: theta0 = -0.0012663681192751908, theta1 = 0.010290214178164843, alpha = 0.001, costo = 0.6182478065184382\n",
            "Iteración 23: theta0 = -0.0013297610426935668, theta1 = 0.010291015141794344, alpha = 0.001, costo = 0.6182437871759825\n",
            "Iteración 24: theta0 = -0.0013931535647242444, theta1 = 0.010291816100838205, alpha = 0.001, costo = 0.6182397678844246\n",
            "Iteración 25: theta0 = -0.0014565456853687171, theta1 = 0.010292617055363287, alpha = 0.001, costo = 0.6182357486437642\n",
            "Iteración 26: theta0 = -0.0015199374046295758, theta1 = 0.01029341800534963, alpha = 0.001, costo = 0.6182317294540003\n",
            "Iteración 27: theta0 = -0.001583328722509083, theta1 = 0.010294218950803225, alpha = 0.001, costo = 0.6182277103151324\n",
            "Iteración 28: theta0 = -0.0016467196390095994, theta1 = 0.010295019891722313, alpha = 0.001, costo = 0.61822369122716\n",
            "Iteración 29: theta0 = -0.001710110154133457, theta1 = 0.010295820828107436, alpha = 0.001, costo = 0.6182196721900826\n",
            "Iteración 30: theta0 = -0.0017735002678829959, theta1 = 0.010296621759958456, alpha = 0.001, costo = 0.6182156532038994\n",
            "Iteración 31: theta0 = -0.001836889980260554, theta1 = 0.01029742268727545, alpha = 0.001, costo = 0.6182116342686095\n",
            "Iteración 32: theta0 = -0.0019002792912684698, theta1 = 0.010298223610058402, alpha = 0.001, costo = 0.6182076153842129\n",
            "Iteración 33: theta0 = -0.001963668200909082, theta1 = 0.010299024528307357, alpha = 0.001, costo = 0.6182035965507087\n",
            "Iteración 34: theta0 = -0.002027056709184729, theta1 = 0.010299825442022315, alpha = 0.001, costo = 0.6181995777680959\n",
            "Iteración 35: theta0 = -0.002090444816097749, theta1 = 0.010300626351203308, alpha = 0.001, costo = 0.6181955590363745\n",
            "Iteración 36: theta0 = -0.002153832521650481, theta1 = 0.010301427255850348, alpha = 0.001, costo = 0.6181915403555435\n",
            "Iteración 37: theta0 = -0.0022172198258452636, theta1 = 0.010302228155963452, alpha = 0.001, costo = 0.6181875217256023\n",
            "Iteración 38: theta0 = -0.0022806067286844354, theta1 = 0.010303029051542647, alpha = 0.001, costo = 0.6181835031465505\n",
            "Iteración 39: theta0 = -0.002343993230170335, theta1 = 0.010303829942587942, alpha = 0.001, costo = 0.6181794846183872\n",
            "Iteración 40: theta0 = -0.0024073793303053016, theta1 = 0.010304630829099364, alpha = 0.001, costo = 0.6181754661411122\n",
            "Iteración 41: theta0 = -0.0024707650290916737, theta1 = 0.010305431711076927, alpha = 0.001, costo = 0.6181714477147244\n",
            "Iteración 42: theta0 = -0.00253415032653179, theta1 = 0.010306232588520653, alpha = 0.001, costo = 0.6181674293392234\n",
            "Iteración 43: theta0 = -0.0025975352226279896, theta1 = 0.010307033461430562, alpha = 0.001, costo = 0.6181634110146086\n",
            "Iteración 44: theta0 = -0.002660919717382611, theta1 = 0.01030783432980666, alpha = 0.001, costo = 0.6181593927408795\n",
            "Iteración 45: theta0 = -0.002724303810797994, theta1 = 0.010308635193648987, alpha = 0.001, costo = 0.618155374518035\n",
            "Iteración 46: theta0 = -0.0027876875028764766, theta1 = 0.010309436052957546, alpha = 0.001, costo = 0.6181513563460752\n",
            "Iteración 47: theta0 = -0.0028510707936203984, theta1 = 0.01031023690773236, alpha = 0.001, costo = 0.6181473382249989\n",
            "Iteración 48: theta0 = -0.0029144536830320983, theta1 = 0.01031103775797345, alpha = 0.001, costo = 0.6181433201548057\n",
            "Iteración 49: theta0 = -0.0029778361711139158, theta1 = 0.01031183860368083, alpha = 0.001, costo = 0.6181393021354948\n",
            "Iteración 50: theta0 = -0.0030412182578681895, theta1 = 0.010312639444854523, alpha = 0.001, costo = 0.6181352841670661\n",
            "Iteración 51: theta0 = -0.003104599943297259, theta1 = 0.010313440281494552, alpha = 0.001, costo = 0.6181312662495184\n",
            "Iteración 52: theta0 = -0.0031679812274034635, theta1 = 0.010314241113600927, alpha = 0.001, costo = 0.6181272483828513\n",
            "Iteración 53: theta0 = -0.0032313621101891423, theta1 = 0.010315041941173666, alpha = 0.001, costo = 0.6181232305670641\n",
            "Iteración 54: theta0 = -0.0032947425916566345, theta1 = 0.0103158427642128, alpha = 0.001, costo = 0.6181192128021564\n",
            "Iteración 55: theta0 = -0.0033581226718082794, theta1 = 0.01031664358271833, alpha = 0.001, costo = 0.6181151950881274\n",
            "Iteración 56: theta0 = -0.0034215023506464167, theta1 = 0.010317444396690294, alpha = 0.001, costo = 0.6181111774249766\n",
            "Iteración 57: theta0 = -0.0034848816281733857, theta1 = 0.010318245206128703, alpha = 0.001, costo = 0.6181071598127033\n",
            "Iteración 58: theta0 = -0.003548260504391526, theta1 = 0.010319046011033567, alpha = 0.001, costo = 0.6181031422513068\n",
            "Iteración 59: theta0 = -0.0036116389793031767, theta1 = 0.010319846811404918, alpha = 0.001, costo = 0.6180991247407867\n",
            "Iteración 60: theta0 = -0.0036750170529106776, theta1 = 0.010320647607242767, alpha = 0.001, costo = 0.6180951072811421\n",
            "Iteración 61: theta0 = -0.0037383947252163686, theta1 = 0.010321448398547138, alpha = 0.001, costo = 0.6180910898723726\n",
            "Iteración 62: theta0 = -0.003801771996222589, theta1 = 0.010322249185318044, alpha = 0.001, costo = 0.6180870725144776\n",
            "Iteración 63: theta0 = -0.0038651488659316785, theta1 = 0.010323049967555507, alpha = 0.001, costo = 0.6180830552074563\n",
            "Iteración 64: theta0 = -0.003928525334345977, theta1 = 0.010323850745259544, alpha = 0.001, costo = 0.6180790379513081\n",
            "Iteración 65: theta0 = -0.003991901401467823, theta1 = 0.01032465151843018, alpha = 0.001, costo = 0.6180750207460327\n",
            "Iteración 66: theta0 = -0.004055277067299559, theta1 = 0.010325452287067428, alpha = 0.001, costo = 0.618071003591629\n",
            "Iteración 67: theta0 = -0.004118652331843522, theta1 = 0.010326253051171306, alpha = 0.001, costo = 0.6180669864880968\n",
            "Iteración 68: theta0 = -0.004182027195102053, theta1 = 0.010327053810741834, alpha = 0.001, costo = 0.6180629694354351\n",
            "Iteración 69: theta0 = -0.0042454016570774925, theta1 = 0.010327854565779037, alpha = 0.001, costo = 0.6180589524336437\n",
            "Iteración 70: theta0 = -0.00430877571777218, theta1 = 0.010328655316282926, alpha = 0.001, costo = 0.6180549354827216\n",
            "Iteración 71: theta0 = -0.0043721493771884555, theta1 = 0.010329456062253523, alpha = 0.001, costo = 0.6180509185826686\n",
            "Iteración 72: theta0 = -0.0044355226353286585, theta1 = 0.010330256803690844, alpha = 0.001, costo = 0.6180469017334835\n",
            "Iteración 73: theta0 = -0.00449889549219513, theta1 = 0.010331057540594914, alpha = 0.001, costo = 0.6180428849351662\n",
            "Iteración 74: theta0 = -0.00456226794779021, theta1 = 0.010331858272965747, alpha = 0.001, costo = 0.6180388681877159\n",
            "Iteración 75: theta0 = -0.004625640002116238, theta1 = 0.01033265900080336, alpha = 0.001, costo = 0.618034851491132\n",
            "Iteración 76: theta0 = -0.004689011655175554, theta1 = 0.010333459724107777, alpha = 0.001, costo = 0.6180308348454138\n",
            "Iteración 77: theta0 = -0.004752382906970499, theta1 = 0.010334260442879018, alpha = 0.001, costo = 0.6180268182505606\n",
            "Iteración 78: theta0 = -0.004815753757503413, theta1 = 0.010335061157117093, alpha = 0.001, costo = 0.6180228017065722\n",
            "Iteración 79: theta0 = -0.004879124206776637, theta1 = 0.010335861866822027, alpha = 0.001, costo = 0.6180187852134474\n",
            "Iteración 80: theta0 = -0.00494249425479251, theta1 = 0.010336662571993841, alpha = 0.001, costo = 0.6180147687711861\n",
            "Iteración 81: theta0 = -0.005005863901553374, theta1 = 0.010337463272632547, alpha = 0.001, costo = 0.6180107523797873\n",
            "Iteración 82: theta0 = -0.005069233147061567, theta1 = 0.010338263968738172, alpha = 0.001, costo = 0.6180067360392507\n",
            "Iteración 83: theta0 = -0.005132601991319432, theta1 = 0.01033906466031073, alpha = 0.001, costo = 0.6180027197495755\n",
            "Iteración 84: theta0 = -0.005195970434329307, theta1 = 0.01033986534735024, alpha = 0.001, costo = 0.617998703510761\n",
            "Iteración 85: theta0 = -0.005259338476093535, theta1 = 0.01034066602985672, alpha = 0.001, costo = 0.6179946873228067\n",
            "Iteración 86: theta0 = -0.005322706116614455, theta1 = 0.010341466707830187, alpha = 0.001, costo = 0.617990671185712\n",
            "Iteración 87: theta0 = -0.0053860733558944085, theta1 = 0.010342267381270673, alpha = 0.001, costo = 0.6179866550994764\n",
            "Iteración 88: theta0 = -0.005449440193935736, theta1 = 0.01034306805017818, alpha = 0.001, costo = 0.6179826390640989\n",
            "Iteración 89: theta0 = -0.0055128066307407785, theta1 = 0.010343868714552736, alpha = 0.001, costo = 0.6179786230795792\n",
            "Iteración 90: theta0 = -0.005576172666311876, theta1 = 0.010344669374394357, alpha = 0.001, costo = 0.6179746071459167\n",
            "Iteración 91: theta0 = -0.00563953830065137, theta1 = 0.010345470029703062, alpha = 0.001, costo = 0.6179705912631104\n",
            "Iteración 92: theta0 = -0.0057029035337616005, theta1 = 0.010346270680478865, alpha = 0.001, costo = 0.6179665754311601\n",
            "Iteración 93: theta0 = -0.005766268365644909, theta1 = 0.010347071326721802, alpha = 0.001, costo = 0.6179625596500651\n",
            "Iteración 94: theta0 = -0.005829632796303636, theta1 = 0.010347871968431874, alpha = 0.001, costo = 0.6179585439198247\n",
            "Iteración 95: theta0 = -0.005892996825740123, theta1 = 0.010348672605609104, alpha = 0.001, costo = 0.6179545282404383\n",
            "Iteración 96: theta0 = -0.005956360453956711, theta1 = 0.010349473238253516, alpha = 0.001, costo = 0.6179505126119053\n",
            "Iteración 97: theta0 = -0.006019723680955739, theta1 = 0.010350273866365124, alpha = 0.001, costo = 0.6179464970342248\n",
            "Iteración 98: theta0 = -0.00608308650673955, theta1 = 0.010351074489943948, alpha = 0.001, costo = 0.6179424815073968\n",
            "Iteración 99: theta0 = -0.006146448931310486, theta1 = 0.01035187510899001, alpha = 0.001, costo = 0.6179384660314201\n",
            "Iteración 100: theta0 = -0.006209810954670886, theta1 = 0.010352675723503325, alpha = 0.001, costo = 0.6179344506062945\n",
            "Parámetros finales para 'Homework': theta0 = -0.006209810954670886, theta1 = 0.010352675723503325\n"
          ]
        }
      ]
    },
    {
      "cell_type": "markdown",
      "source": [
        "- El parámetro theta1 es positivo (0.196), lo que indica que a medida que el puntaje de tareas (Homework) aumenta, también lo hace la probabilidad de que el estudiante apruebe. Comparado con Attendance, el valor de theta1 para Homework es más grande, lo que sugiere que esta variable podría tener un mayor impacto en la probabilidad de aprobar.\n",
        "\n",
        "- El valor de theta0 es negativo (-0.689), lo que nuevamente indica que, con un puntaje de tarea de 0, la probabilidad de aprobar sería baja.\n"
      ],
      "metadata": {
        "id": "mpUy_D07NkU5"
      }
    },
    {
      "cell_type": "markdown",
      "source": [
        "### Métricas de desempeño"
      ],
      "metadata": {
        "id": "MqgdFfuYY1hh"
      }
    },
    {
      "cell_type": "markdown",
      "source": [
        "- Verdaderos Positivos (TP): Estudiantes que aprueban y el modelo predice correctamente que aprueban.\n",
        "\n",
        "- Verdaderos Negativos (TN): Estudiantes que no aprueban y el modelo predice correctamente que no aprueban.\n",
        "\n",
        "- Falsos Positivos (FP): Estudiantes que no aprueban pero el modelo predice incorrectamente que aprueban.\n",
        "\n",
        "- Falsos Negativos (FN): Estudiantes que aprueban pero el modelo predice incorrectamente que no aprueban."
      ],
      "metadata": {
        "id": "fmbCXQhoPATH"
      }
    },
    {
      "cell_type": "code",
      "source": [
        "# Crear la matriz de confusión y calcular las métricas\n",
        "def confusion_matrix_metrics(y_true, y_pred):\n",
        "    TP = np.sum((y_true == 1) & (y_pred == 1))\n",
        "    TN = np.sum((y_true == 0) & (y_pred == 0))\n",
        "    FP = np.sum((y_true == 0) & (y_pred == 1))\n",
        "    FN = np.sum((y_true == 1) & (y_pred == 0))\n",
        "\n",
        "    accuracy = (TP + TN) / (TP + TN + FP + FN)\n",
        "    precision = TP / (TP + FP) if (TP + FP) > 0 else 0\n",
        "    recall = TP / (TP + FN) if (TP + FN) > 0 else 0\n",
        "    f1 = 2 * (precision * recall) / (precision + recall) if (precision + recall) > 0 else 0\n",
        "\n",
        "    return accuracy, precision, recall, f1\n"
      ],
      "metadata": {
        "id": "RIJfT3y-Y1hh"
      },
      "execution_count": 78,
      "outputs": []
    },
    {
      "cell_type": "code",
      "source": [
        "# Métricas para 'Attendance'\n",
        "accuracy_attendance, precision_attendance, recall_attendance, f1_attendance = confusion_matrix_metrics(y, y_pred_attendance)\n",
        "\n",
        "print(f\"Métricas para 'Attendance':\")\n",
        "print(f\"Accuracy: {accuracy_attendance}\")\n",
        "print(f\"Precision: {precision_attendance}\")\n",
        "print(f\"Recall: {recall_attendance}\")\n",
        "print(f\"F1 Score: {f1_attendance}\")\n"
      ],
      "metadata": {
        "colab": {
          "base_uri": "https://localhost:8080/"
        },
        "outputId": "fdee0c6f-e6ad-4065-8e5f-30d62976884a",
        "id": "u1m_U2F2Y1hi"
      },
      "execution_count": 79,
      "outputs": [
        {
          "output_type": "stream",
          "name": "stdout",
          "text": [
            "Métricas para 'Attendance':\n",
            "Accuracy: 0.625\n",
            "Precision: 0.625\n",
            "Recall: 1.0\n",
            "F1 Score: 0.7692307692307693\n"
          ]
        }
      ]
    },
    {
      "cell_type": "code",
      "source": [
        "# Métricas para 'Homework'\n",
        "accuracy_homework, precision_homework, recall_homework, f1_homework = confusion_matrix_metrics(y, y_pred_homework)\n",
        "\n",
        "print(f\"Métricas para 'Homework':\")\n",
        "print(f\"Accuracy: {accuracy_homework}\")\n",
        "print(f\"Precision: {precision_homework}\")\n",
        "print(f\"Recall: {recall_homework}\")\n",
        "print(f\"F1 Score: {f1_homework}\")"
      ],
      "metadata": {
        "colab": {
          "base_uri": "https://localhost:8080/"
        },
        "outputId": "db12adae-4c88-438a-845c-72ecc9bdf1a4",
        "id": "gzTZaluCY1hi"
      },
      "execution_count": 80,
      "outputs": [
        {
          "output_type": "stream",
          "name": "stdout",
          "text": [
            "Métricas para 'Homework':\n",
            "Accuracy: 0.625\n",
            "Precision: 0.625\n",
            "Recall: 1.0\n",
            "F1 Score: 0.7692307692307693\n"
          ]
        }
      ]
    },
    {
      "cell_type": "markdown",
      "source": [
        "Los resultados y las predicciones son similares en Attendance y Homework, por lo que las métricas son las mismas."
      ],
      "metadata": {
        "id": "UFFbs3mcPcIQ"
      }
    },
    {
      "cell_type": "code",
      "source": [
        "# Métricas para Reference\n",
        "accuracy_reference, precision_reference, recall_reference, f1_reference = confusion_matrix_metrics(df['Reference'], y)\n",
        "\n",
        "print(f\"Métricas para la referencia:\")\n",
        "print(f\"Accuracy: {accuracy_reference}\")\n",
        "print(f\"Precision: {precision_reference}\")\n",
        "print(f\"Recall: {recall_reference}\")\n",
        "print(f\"F1 Score: {f1_reference}\")"
      ],
      "metadata": {
        "colab": {
          "base_uri": "https://localhost:8080/"
        },
        "outputId": "59235bf7-b012-4890-871b-d28bf5db6d72",
        "id": "MALjeK0hY1hi"
      },
      "execution_count": 81,
      "outputs": [
        {
          "output_type": "stream",
          "name": "stdout",
          "text": [
            "Métricas para la referencia:\n",
            "Accuracy: 0.75\n",
            "Precision: 0.6\n",
            "Recall: 1.0\n",
            "F1 Score: 0.7499999999999999\n"
          ]
        }
      ]
    },
    {
      "cell_type": "markdown",
      "source": [
        "**¿Cuál es mejor? ¿Le ganan a la referencia?**\n",
        "\n",
        "- La métrica de Acurracy es mayor en el modelo de Reference (0.75) en comparación con Attendance y Homework. Esto suguiere que Reference predice correctamente si un estudiante aprueba o no en un porcentaje mayor de los casos.\n",
        "\n",
        "- Precision es ligeramente más alta en Attendance y Homework (0.625) que en Reference (0.6). Esto indica que cuando Attendance y Homework predicen que un estudiante aprobará, estan en lo correcto un 62.5% de las veces comparado con el 60% de Reference.\n",
        "\n",
        "- El Recall es de 1.0 para los tres modelos. Esto indica que todos los modelos identifican correctamente todos los casos en los que un estudiante aprueba. Sin embargo, un alto Recall acompañado de un menor Precision podría indicar que el modelo esta realizando muchas predicciones positivas, incluso algunas incorrectas.\n",
        "\n",
        "- El F1 Score balancea Precision y Recall, este es más alto en Attendence y Homework (0.769) en comparación con Reference (0.75). Esto significa que, aunque Reference tiene un mejor Accuracy, los modelos basados en Attendance y Homework tienen un mejor equilibrio entre precisión y sensibilidad.\n",
        "\n",
        "Si se prioriza el Accuracy y el objetivo es maximizar la cantidad de predicciones correctas en general, el modelo basado en Reference es el mejor. En cambio, si se valora un equilibrio entre Precision y Recall, los modelos basados en Attendance o Homework podrían ser mejores opciones, ya que tienen un F1 Score ligeramente más alto.\n",
        "\n",
        "\n"
      ],
      "metadata": {
        "id": "-sMYaDQfQjZh"
      }
    },
    {
      "cell_type": "markdown",
      "source": [
        "### Modelo"
      ],
      "metadata": {
        "id": "_4NCVq8K3AvL"
      }
    },
    {
      "cell_type": "markdown",
      "source": [
        "Para trabajar os modelos al dividir el conjunto de datos, se optó por manejar los siguientes parámetros:\n",
        "\n",
        "- theta0_init = 0\n",
        "- theta1_init = 0\n",
        "- alpha = 0.001\n",
        "- iterations = 100\n",
        "\n",
        "Se decidió obtener el valor de la función de costo de cada iteeración para observar el continuo comportamiento al probar con diferentes parámetros.\n",
        "\n",
        "La func ión de costo devuelve un valor no negativo, que cuanto menor sea, mejor será el ajuste del modelo a los datos. Si el costo es cercano a 0, significa que el modelo está prediciendo muy bien los resultados. Por el contrario, si el costo es alto, indica que el modelo ésta haciendo muchas predicciones incorrectas y que no se ajusta bien a los datos.\n",
        "\n",
        "Al probar con una tasa más pequeña pero manteniendo el resto de los parámetros como se menciona, existe una gran cantidad de valoes nan en el valor de la función de costo. Cuando se probo con una tasa mas grande como 0.1, 0.05 y 0.5, el valor del costo era muy lejano a 0.\n",
        "\n",
        "Cuando se tanteo con las iteraciones mayores a 100, el valor de la función de costo reducia, y volvía a crecer, o en otros casos, se obtenian valores muy altos.\n",
        "\n",
        "Los parámetros seleccionados, no muestran valores nan y todos son muy cercanos a 0 y van disminuyendo gradualmente, sin emabargo dejan de disminuir significativamente en las primeras iteraciones, lo que puede indicar que el modelo a alcanzado un mínimo local o ha convergido. En este caso, continuar con el entrenamiento quozá no mejore el modelo.\n",
        "\n"
      ],
      "metadata": {
        "id": "wFVCXQsie125"
      }
    },
    {
      "cell_type": "code",
      "source": [
        "# Dividir el conjunto de datos en entrenamiento\n",
        "def train_test_split(df, test_size=0.25):\n",
        "    np.random.seed(42)\n",
        "    shuffled_indices = np.random.permutation(len(df))\n",
        "    test_set_size = int(len(df) * test_size)\n",
        "    test_indices = shuffled_indices[:test_set_size]\n",
        "    train_indices = shuffled_indices[test_set_size:]\n",
        "    return df.iloc[train_indices], df.iloc[test_indices]\n",
        "\n",
        "# Dividir el conjunto de datos\n",
        "train_df, test_df = train_test_split(df, test_size=0.25)\n"
      ],
      "metadata": {
        "id": "zwl_w7IZ3C2D"
      },
      "execution_count": 82,
      "outputs": []
    },
    {
      "cell_type": "code",
      "source": [
        "# Característica 'Attendance' para el conjunto de entrenamiento\n",
        "X_attendance_train = train_df['Attendance'].values\n",
        "y_train_values = train_df['Pass'].values\n",
        "\n",
        "# Aplicar la regresión logística en el conjunto de entrenamiento\n",
        "theta0_attendance, theta1_attendance = logistic_regression(X_attendance_train, y_train_values, theta0_init, theta1_init, alpha, iterations)\n",
        "print(f\"Parámetros finales para 'Attendance': theta0 = {theta0_attendance}, theta1 = {theta1_attendance}\")\n",
        "\n",
        "# Evaluar el modelo en el conjunto de prueba para 'Attendance'\n",
        "X_attendance_test = test_df['Attendance'].values\n",
        "y_test_values = test_df['Pass'].values\n",
        "z_attendance_test = theta0_attendance + theta1_attendance * X_attendance_test\n",
        "y_pred_attendance_test = sigmoid(z_attendance_test) >= 0.5\n",
        "\n",
        "\n"
      ],
      "metadata": {
        "colab": {
          "base_uri": "https://localhost:8080/"
        },
        "id": "75Ljiw8y-3_r",
        "outputId": "7cfa6073-4d86-4ef0-b8a0-90d319368b02"
      },
      "execution_count": 83,
      "outputs": [
        {
          "output_type": "stream",
          "name": "stdout",
          "text": [
            "Iteración 1: theta0 = 0.0003333333333333333, theta1 = 0.028333333333333332, alpha = 0.001, costo = 0.6931471805599452\n",
            "Iteración 2: theta0 = 0.00025208675024002153, theta1 = 0.021164906717516856, alpha = 0.001, costo = 0.4911277667283197\n",
            "Iteración 3: theta0 = 0.00022951608454240585, theta1 = 0.018946256483969165, alpha = 0.001, costo = 0.45605994643487024\n",
            "Iteración 4: theta0 = 0.00023116114839000581, theta1 = 0.018784031746452528, alpha = 0.001, costo = 0.4533676013222499\n",
            "Iteración 5: theta0 = 0.00023470221207197705, theta1 = 0.018783078766200112, alpha = 0.001, costo = 0.4533543407298557\n",
            "Iteración 6: theta0 = 0.00023825396961689075, theta1 = 0.018783036201710568, alpha = 0.001, costo = 0.4533543276974191\n",
            "Iteración 7: theta0 = 0.00024180572835025722, theta1 = 0.018782994449018636, alpha = 0.001, costo = 0.4533543150806408\n",
            "Iteración 8: theta0 = 0.00024535747873859735, theta1 = 0.018782952697128368, alpha = 0.001, costo = 0.4533543024639223\n",
            "Iteración 9: theta0 = 0.000248909220773686, theta1 = 0.018782910945338217, alpha = 0.001, costo = 0.453354289847263\n",
            "Iteración 10: theta0 = 0.0002524609544555379, theta1 = 0.018782869193647588, alpha = 0.001, costo = 0.4533542772306632\n",
            "Iteración 11: theta0 = 0.0002560126797841746, theta1 = 0.01878282744205647, alpha = 0.001, costo = 0.45335426461412265\n",
            "Iteración 12: theta0 = 0.0002595643967596179, theta1 = 0.01878278569056487, alpha = 0.001, costo = 0.45335425199764157\n",
            "Iteración 13: theta0 = 0.00026311610538188945, theta1 = 0.018782743939172782, alpha = 0.001, costo = 0.45335423938121966\n",
            "Iteración 14: theta0 = 0.000266667805651011, theta1 = 0.018782702187880217, alpha = 0.001, costo = 0.4533542267648572\n",
            "Iteración 15: theta0 = 0.0002702194975670042, theta1 = 0.01878266043668716, alpha = 0.001, costo = 0.45335421414855415\n",
            "Iteración 16: theta0 = 0.0002737711811298908, theta1 = 0.018782618685593618, alpha = 0.001, costo = 0.45335420153231026\n",
            "Iteración 17: theta0 = 0.0002773228563396925, theta1 = 0.01878257693459959, alpha = 0.001, costo = 0.45335418891612594\n",
            "Iteración 18: theta0 = 0.000280874523196431, theta1 = 0.018782535183705075, alpha = 0.001, costo = 0.45335417630000074\n",
            "Iteración 19: theta0 = 0.00028442618170012815, theta1 = 0.018782493432910084, alpha = 0.001, costo = 0.453354163683935\n",
            "Iteración 20: theta0 = 0.0002879778318508054, theta1 = 0.0187824516822146, alpha = 0.001, costo = 0.4533541510679285\n",
            "Iteración 21: theta0 = 0.00029152947364848454, theta1 = 0.018782409931618622, alpha = 0.001, costo = 0.45335413845198147\n",
            "Iteración 22: theta0 = 0.0002950811070931874, theta1 = 0.018782368181122163, alpha = 0.001, costo = 0.4533541258360939\n",
            "Iteración 23: theta0 = 0.0002986327321849356, theta1 = 0.01878232643072522, alpha = 0.001, costo = 0.4533541132202653\n",
            "Iteración 24: theta0 = 0.0003021843489237507, theta1 = 0.018782284680427783, alpha = 0.001, costo = 0.4533541006044964\n",
            "Iteración 25: theta0 = 0.0003057359573096547, theta1 = 0.018782242930229866, alpha = 0.001, costo = 0.4533540879887866\n",
            "Iteración 26: theta0 = 0.00030928755734266903, theta1 = 0.01878220118013145, alpha = 0.001, costo = 0.4533540753731361\n",
            "Iteración 27: theta0 = 0.0003128391490228156, theta1 = 0.01878215943013255, alpha = 0.001, costo = 0.45335406275754525\n",
            "Iteración 28: theta0 = 0.0003163907323501161, theta1 = 0.01878211768023317, alpha = 0.001, costo = 0.45335405014201346\n",
            "Iteración 29: theta0 = 0.00031994230732459213, theta1 = 0.018782075930433295, alpha = 0.001, costo = 0.4533540375265411\n",
            "Iteración 30: theta0 = 0.0003234938739462654, theta1 = 0.018782034180732928, alpha = 0.001, costo = 0.4533540249111282\n",
            "Iteración 31: theta0 = 0.0003270454322151577, theta1 = 0.01878199243113208, alpha = 0.001, costo = 0.4533540122957745\n",
            "Iteración 32: theta0 = 0.00033059698213129063, theta1 = 0.018781950681630733, alpha = 0.001, costo = 0.4533539996804801\n",
            "Iteración 33: theta0 = 0.0003341485236946859, theta1 = 0.018781908932228895, alpha = 0.001, costo = 0.45335398706524527\n",
            "Iteración 34: theta0 = 0.00033770005690536537, theta1 = 0.018781867182926574, alpha = 0.001, costo = 0.45335397445006953\n",
            "Iteración 35: theta0 = 0.0003412515817633506, theta1 = 0.018781825433723757, alpha = 0.001, costo = 0.453353961834953\n",
            "Iteración 36: theta0 = 0.00034480309826866336, theta1 = 0.01878178368462045, alpha = 0.001, costo = 0.4533539492198962\n",
            "Iteración 37: theta0 = 0.00034835460642132537, theta1 = 0.018781741935616655, alpha = 0.001, costo = 0.45335393660489853\n",
            "Iteración 38: theta0 = 0.00035190610622135834, theta1 = 0.01878170018671237, alpha = 0.001, costo = 0.4533539239899603\n",
            "Iteración 39: theta0 = 0.00035545759766878387, theta1 = 0.018781658437907592, alpha = 0.001, costo = 0.4533539113750815\n",
            "Iteración 40: theta0 = 0.00035900908076362374, theta1 = 0.018781616689202318, alpha = 0.001, costo = 0.45335389876026166\n",
            "Iteración 41: theta0 = 0.00036256055550589963, theta1 = 0.018781574940596554, alpha = 0.001, costo = 0.45335388614550143\n",
            "Iteración 42: theta0 = 0.00036611202189563324, theta1 = 0.018781533192090298, alpha = 0.001, costo = 0.4533538735308005\n",
            "Iteración 43: theta0 = 0.0003696634799328463, theta1 = 0.018781491443683546, alpha = 0.001, costo = 0.4533538609161587\n",
            "Iteración 44: theta0 = 0.0003732149296175606, theta1 = 0.018781449695376304, alpha = 0.001, costo = 0.4533538483015765\n",
            "Iteración 45: theta0 = 0.00037676637094979774, theta1 = 0.018781407947168576, alpha = 0.001, costo = 0.4533538356870537\n",
            "Iteración 46: theta0 = 0.00038031780392957945, theta1 = 0.01878136619906035, alpha = 0.001, costo = 0.45335382307259\n",
            "Iteración 47: theta0 = 0.0003838692285569274, theta1 = 0.01878132445105163, alpha = 0.001, costo = 0.4533538104581856\n",
            "Iteración 48: theta0 = 0.0003874206448318633, theta1 = 0.018781282703142412, alpha = 0.001, costo = 0.4533537978438407\n",
            "Iteración 49: theta0 = 0.0003909720527544089, theta1 = 0.018781240955332706, alpha = 0.001, costo = 0.4533537852295551\n",
            "Iteración 50: theta0 = 0.00039452345232458586, theta1 = 0.0187811992076225, alpha = 0.001, costo = 0.45335377261532894\n",
            "Iteración 51: theta0 = 0.0003980748435424159, theta1 = 0.0187811574600118, alpha = 0.001, costo = 0.4533537600011619\n",
            "Iteración 52: theta0 = 0.0004016262264079207, theta1 = 0.018781115712500608, alpha = 0.001, costo = 0.45335374738705436\n",
            "Iteración 53: theta0 = 0.00040517760092112205, theta1 = 0.018781073965088917, alpha = 0.001, costo = 0.453353734773006\n",
            "Iteración 54: theta0 = 0.00040872896708204164, theta1 = 0.018781032217776737, alpha = 0.001, costo = 0.453353722159017\n",
            "Iteración 55: theta0 = 0.00041228032489070104, theta1 = 0.018780990470564054, alpha = 0.001, costo = 0.45335370954508747\n",
            "Iteración 56: theta0 = 0.0004158316743471221, theta1 = 0.01878094872345088, alpha = 0.001, costo = 0.45335369693121713\n",
            "Iteración 57: theta0 = 0.0004193830154513264, theta1 = 0.018780906976437205, alpha = 0.001, costo = 0.4533536843174062\n",
            "Iteración 58: theta0 = 0.0004229343482033359, theta1 = 0.018780865229523044, alpha = 0.001, costo = 0.45335367170365465\n",
            "Iteración 59: theta0 = 0.00042648567260317183, theta1 = 0.01878082348270837, alpha = 0.001, costo = 0.45335365908996217\n",
            "Iteración 60: theta0 = 0.00043003698865085635, theta1 = 0.018780781735993207, alpha = 0.001, costo = 0.4533536464763295\n",
            "Iteración 61: theta0 = 0.000433588296346411, theta1 = 0.018780739989377546, alpha = 0.001, costo = 0.4533536338627556\n",
            "Iteración 62: theta0 = 0.0004371395956898576, theta1 = 0.018780698242861396, alpha = 0.001, costo = 0.45335362124924133\n",
            "Iteración 63: theta0 = 0.00044069088668121753, theta1 = 0.018780656496444736, alpha = 0.001, costo = 0.4533536086357864\n",
            "Iteración 64: theta0 = 0.0004442421693205127, theta1 = 0.01878061475012758, alpha = 0.001, costo = 0.45335359602239095\n",
            "Iteración 65: theta0 = 0.0004477934436077649, theta1 = 0.018780573003909926, alpha = 0.001, costo = 0.4533535834090546\n",
            "Iteración 66: theta0 = 0.00045134470954299576, theta1 = 0.01878053125779178, alpha = 0.001, costo = 0.45335357079577765\n",
            "Iteración 67: theta0 = 0.00045489596712622695, theta1 = 0.01878048951177313, alpha = 0.001, costo = 0.45335355818255996\n",
            "Iteración 68: theta0 = 0.0004584472163574802, theta1 = 0.018780447765853983, alpha = 0.001, costo = 0.45335354556940166\n",
            "Iteración 69: theta0 = 0.00046199845723677706, theta1 = 0.01878040602003433, alpha = 0.001, costo = 0.45335353295630243\n",
            "Iteración 70: theta0 = 0.0004655496897641395, theta1 = 0.018780364274314187, alpha = 0.001, costo = 0.45335352034326293\n",
            "Iteración 71: theta0 = 0.0004691009139395891, theta1 = 0.018780322528693542, alpha = 0.001, costo = 0.4533535077302825\n",
            "Iteración 72: theta0 = 0.00047265212976314755, theta1 = 0.01878028078317239, alpha = 0.001, costo = 0.4533534951173615\n",
            "Iteración 73: theta0 = 0.00047620333723483654, theta1 = 0.018780239037750737, alpha = 0.001, costo = 0.4533534825044998\n",
            "Iteración 74: theta0 = 0.00047975453635467784, theta1 = 0.018780197292428587, alpha = 0.001, costo = 0.4533534698916975\n",
            "Iteración 75: theta0 = 0.0004833057271226931, theta1 = 0.01878015554720594, alpha = 0.001, costo = 0.45335345727895443\n",
            "Iteración 76: theta0 = 0.000486856909538904, theta1 = 0.018780113802082787, alpha = 0.001, costo = 0.45335344466627087\n",
            "Iteración 77: theta0 = 0.0004904080836033323, theta1 = 0.018780072057059134, alpha = 0.001, costo = 0.45335343205364653\n",
            "Iteración 78: theta0 = 0.0004939592493159997, theta1 = 0.01878003031213498, alpha = 0.001, costo = 0.45335341944108143\n",
            "Iteración 79: theta0 = 0.0004975104066769278, theta1 = 0.01877998856731032, alpha = 0.001, costo = 0.4533534068285756\n",
            "Iteración 80: theta0 = 0.0005010615556861384, theta1 = 0.01877994682258516, alpha = 0.001, costo = 0.4533533942161292\n",
            "Iteración 81: theta0 = 0.0005046126963436532, theta1 = 0.018779905077959493, alpha = 0.001, costo = 0.45335338160374217\n",
            "Iteración 82: theta0 = 0.0005081638286494939, theta1 = 0.018779863333433327, alpha = 0.001, costo = 0.4533533689914145\n",
            "Iteración 83: theta0 = 0.0005117149526036823, theta1 = 0.01877982158900666, alpha = 0.001, costo = 0.453353356379146\n",
            "Iteración 84: theta0 = 0.0005152660682062399, theta1 = 0.01877977984467949, alpha = 0.001, costo = 0.4533533437669368\n",
            "Iteración 85: theta0 = 0.0005188171754571885, theta1 = 0.018779738100451807, alpha = 0.001, costo = 0.4533533311547871\n",
            "Iteración 86: theta0 = 0.0005223682743565498, theta1 = 0.018779696356323636, alpha = 0.001, costo = 0.45335331854269667\n",
            "Iteración 87: theta0 = 0.0005259193649043454, theta1 = 0.018779654612294947, alpha = 0.001, costo = 0.4533533059306655\n",
            "Iteración 88: theta0 = 0.0005294704471005972, theta1 = 0.018779612868365762, alpha = 0.001, costo = 0.4533532933186939\n",
            "Iteración 89: theta0 = 0.0005330215209453268, theta1 = 0.018779571124536064, alpha = 0.001, costo = 0.4533532807067811\n",
            "Iteración 90: theta0 = 0.0005365725864385558, theta1 = 0.018779529380805866, alpha = 0.001, costo = 0.45335326809492815\n",
            "Iteración 91: theta0 = 0.0005401236435803061, theta1 = 0.01877948763717516, alpha = 0.001, costo = 0.45335325548313415\n",
            "Iteración 92: theta0 = 0.0005436746923705994, theta1 = 0.018779445893643953, alpha = 0.001, costo = 0.4533532428713996\n",
            "Iteración 93: theta0 = 0.0005472257328094572, theta1 = 0.018779404150212238, alpha = 0.001, costo = 0.4533532302597244\n",
            "Iteración 94: theta0 = 0.0005507767648969015, theta1 = 0.01877936240688002, alpha = 0.001, costo = 0.45335321764810854\n",
            "Iteración 95: theta0 = 0.0005543277886329535, theta1 = 0.01877932066364729, alpha = 0.001, costo = 0.4533532050365519\n",
            "Iteración 96: theta0 = 0.0005578788040176354, theta1 = 0.018779278920514054, alpha = 0.001, costo = 0.4533531924250548\n",
            "Iteración 97: theta0 = 0.0005614298110509687, theta1 = 0.018779237177480312, alpha = 0.001, costo = 0.4533531798136169\n",
            "Iteración 98: theta0 = 0.0005649808097329751, theta1 = 0.018779195434546064, alpha = 0.001, costo = 0.4533531672022382\n",
            "Iteración 99: theta0 = 0.0005685318000636763, theta1 = 0.018779153691711306, alpha = 0.001, costo = 0.4533531545909189\n",
            "Iteración 100: theta0 = 0.000572082782043094, theta1 = 0.01877911194897604, alpha = 0.001, costo = 0.4533531419796591\n",
            "Parámetros finales para 'Attendance': theta0 = 0.000572082782043094, theta1 = 0.01877911194897604\n"
          ]
        }
      ]
    },
    {
      "cell_type": "code",
      "source": [
        "# Característica 'Homework' para el conjunto de entrenamiento\n",
        "X_homework_train = train_df['Homework'].values\n",
        "\n",
        "# Aplicar la regresión logística en el conjunto de entrenamiento\n",
        "theta0_homework, theta1_homework = logistic_regression(X_homework_train, y_train_values, theta0_init, theta1_init, alpha, iterations)\n",
        "print(f\"Parámetros finales para 'Homework': theta0 = {theta0_homework}, theta1 = {theta1_homework}\")\n",
        "\n",
        "# Evaluar el modelo en el conjunto de prueba para 'Homework'\n",
        "X_homework_test = test_df['Homework'].values\n",
        "z_homework_test = theta0_homework + theta1_homework * X_homework_test\n",
        "y_pred_homework_test = sigmoid(z_homework_test) >= 0.5\n"
      ],
      "metadata": {
        "colab": {
          "base_uri": "https://localhost:8080/"
        },
        "id": "EbGFie_hAcaA",
        "outputId": "dd3f6c88-98e3-47e0-9dab-aecfbb980f8e"
      },
      "execution_count": 84,
      "outputs": [
        {
          "output_type": "stream",
          "name": "stdout",
          "text": [
            "Iteración 1: theta0 = 0.0003333333333333333, theta1 = 0.030416666666666665, alpha = 0.001, costo = 0.6931471805599452\n",
            "Iteración 2: theta0 = 0.0002452163682669277, theta1 = 0.02579766724899144, alpha = 0.001, costo = 0.411725718035884\n",
            "Iteración 3: theta0 = 0.000187955971738443, theta1 = 0.02368526602628352, alpha = 0.001, costo = 0.3958708796005844\n",
            "Iteración 4: theta0 = 0.00014818963579660917, theta1 = 0.02300211406629224, alpha = 0.001, costo = 0.39288117797952016\n",
            "Iteración 5: theta0 = 0.00011459171663526482, theta1 = 0.022824109717528754, alpha = 0.001, costo = 0.3925843355386902\n",
            "Iteración 6: theta0 = 8.264627128332796e-05, theta1 = 0.022781525830082944, alpha = 0.001, costo = 0.3925635793349409\n",
            "Iteración 7: theta0 = 5.110156420009472e-05, theta1 = 0.02277178454373626, alpha = 0.001, costo = 0.3925614508067139\n",
            "Iteración 8: theta0 = 1.965148713780879e-05, theta1 = 0.022769794870605937, alpha = 0.001, costo = 0.3925604000892998\n",
            "Iteración 9: theta0 = -1.1776351544951803e-05, theta1 = 0.022769622705635352, alpha = 0.001, costo = 0.39255940918092413\n",
            "Iteración 10: theta0 = -4.319893328848943e-05, theta1 = 0.022769876024418025, alpha = 0.001, costo = 0.3925584215614722\n",
            "Iteración 11: theta0 = -7.462023393206303e-05, theta1 = 0.022770228913497163, alpha = 0.001, costo = 0.3925574341261746\n",
            "Iteración 12: theta0 = -0.00010604118391663829, theta1 = 0.022770605101354962, alpha = 0.001, costo = 0.3925564467049079\n",
            "Iteración 13: theta0 = -0.000137462000965157, theta1 = 0.022770986740488396, alpha = 0.001, costo = 0.39255545928835583\n",
            "Iteración 14: theta0 = -0.0001688827360236577, theta1 = 0.022771369654683776, alpha = 0.001, costo = 0.39255447187600817\n",
            "Iteración 15: theta0 = -0.00020030340101327931, theta1 = 0.022771752866734545, alpha = 0.001, costo = 0.392553484467837\n",
            "Iteración 16: theta0 = -0.0002317239987235893, theta1 = 0.022772136147980605, alpha = 0.001, costo = 0.3925524970638408\n",
            "Iteración 17: theta0 = -0.000263144529807426, theta1 = 0.02277251944491686, alpha = 0.001, costo = 0.3925515096640196\n",
            "Iteración 18: theta0 = -0.00029456499441764597, theta1 = 0.02277290274502341, alpha = 0.001, costo = 0.3925505222683732\n",
            "Iteración 19: theta0 = -0.0003259853925901128, theta1 = 0.02277328604537067, alpha = 0.001, costo = 0.3925495348769016\n",
            "Iteración 20: theta0 = -0.00035740572433331445, theta1 = 0.022773669345273116, alpha = 0.001, costo = 0.39254854748960477\n",
            "Iteración 21: theta0 = -0.00038882598964933295, theta1 = 0.022774052644570348, alpha = 0.001, costo = 0.39254756010648284\n",
            "Iteración 22: theta0 = -0.0004202461885387514, theta1 = 0.022774435943224834, alpha = 0.001, costo = 0.39254657272753574\n",
            "Iteración 23: theta0 = -0.0004516663210018022, theta1 = 0.022774819241227786, alpha = 0.001, costo = 0.3925455853527633\n",
            "Iteración 24: theta0 = -0.0004830863870386356, theta1 = 0.02277520253857716, alpha = 0.001, costo = 0.3925445979821656\n",
            "Iteración 25: theta0 = -0.0005145063866493828, theta1 = 0.022775585835272463, alpha = 0.001, costo = 0.3925436106157427\n",
            "Iteración 26: theta0 = -0.0005459263198341704, theta1 = 0.022775969131313592, alpha = 0.001, costo = 0.39254262325349454\n",
            "Iteración 27: theta0 = -0.0005773461865931239, theta1 = 0.02277635242670052, alpha = 0.001, costo = 0.3925416358954209\n",
            "Iteración 28: theta0 = -0.0006087659869263688, theta1 = 0.022776735721433232, alpha = 0.001, costo = 0.3925406485415222\n",
            "Iteración 29: theta0 = -0.0006401857208340302, theta1 = 0.02277711901551174, alpha = 0.001, costo = 0.392539661191798\n",
            "Iteración 30: theta0 = -0.0006716053883162335, theta1 = 0.022777502308936038, alpha = 0.001, costo = 0.3925386738462484\n",
            "Iteración 31: theta0 = -0.0007030249893731037, theta1 = 0.022777885601706127, alpha = 0.001, costo = 0.3925376865048736\n",
            "Iteración 32: theta0 = -0.0007344445240047663, theta1 = 0.02277826889382201, alpha = 0.001, costo = 0.39253669916767336\n",
            "Iteración 33: theta0 = -0.0007658639922113466, theta1 = 0.02277865218528368, alpha = 0.001, costo = 0.39253571183464764\n",
            "Iteración 34: theta0 = -0.0007972833939929696, theta1 = 0.02277903547609115, alpha = 0.001, costo = 0.3925347245057965\n",
            "Iteración 35: theta0 = -0.0008287027293497608, theta1 = 0.022779418766244407, alpha = 0.001, costo = 0.39253373718112006\n",
            "Iteración 36: theta0 = -0.0008601219982818452, theta1 = 0.02277980205574346, alpha = 0.001, costo = 0.39253274986061804\n",
            "Iteración 37: theta0 = -0.0008915412007893483, theta1 = 0.022780185344588307, alpha = 0.001, costo = 0.3925317625442907\n",
            "Iteración 38: theta0 = -0.0009229603368723951, theta1 = 0.022780568632778955, alpha = 0.001, costo = 0.3925307752321377\n",
            "Iteración 39: theta0 = -0.0009543794065311112, theta1 = 0.022780951920315387, alpha = 0.001, costo = 0.39252978792415927\n",
            "Iteración 40: theta0 = -0.0009857984097656216, theta1 = 0.022781335207197627, alpha = 0.001, costo = 0.39252880062035533\n",
            "Iteración 41: theta0 = -0.0010172173465760517, theta1 = 0.022781718493425654, alpha = 0.001, costo = 0.3925278133207257\n",
            "Iteración 42: theta0 = -0.0010486362169625264, theta1 = 0.022782101778999492, alpha = 0.001, costo = 0.39252682602527084\n",
            "Iteración 43: theta0 = -0.0010800550209251714, theta1 = 0.022782485063919118, alpha = 0.001, costo = 0.39252583873399033\n",
            "Iteración 44: theta0 = -0.001111473758464112, theta1 = 0.02278286834818455, alpha = 0.001, costo = 0.39252485144688404\n",
            "Iteración 45: theta0 = -0.0011428924295794733, theta1 = 0.022783251631795776, alpha = 0.001, costo = 0.3925238641639524\n",
            "Iteración 46: theta0 = -0.0011743110342713804, theta1 = 0.022783634914752805, alpha = 0.001, costo = 0.392522876885195\n",
            "Iteración 47: theta0 = -0.0012057295725399588, theta1 = 0.022784018197055632, alpha = 0.001, costo = 0.39252188961061185\n",
            "Iteración 48: theta0 = -0.0012371480443853337, theta1 = 0.02278440147870426, alpha = 0.001, costo = 0.3925209023402032\n",
            "Iteración 49: theta0 = -0.0012685664498076304, theta1 = 0.02278478475969869, alpha = 0.001, costo = 0.3925199150739689\n",
            "Iteración 50: theta0 = -0.001299984788806974, theta1 = 0.02278516804003892, alpha = 0.001, costo = 0.39251892781190884\n",
            "Iteración 51: theta0 = -0.00133140306138349, theta1 = 0.02278555131972496, alpha = 0.001, costo = 0.392517940554023\n",
            "Iteración 52: theta0 = -0.0013628212675373035, theta1 = 0.0227859345987568, alpha = 0.001, costo = 0.39251695330031167\n",
            "Iteración 53: theta0 = -0.0013942394072685399, theta1 = 0.022786317877134445, alpha = 0.001, costo = 0.39251596605077455\n",
            "Iteración 54: theta0 = -0.0014256574805773243, theta1 = 0.022786701154857886, alpha = 0.001, costo = 0.3925149788054115\n",
            "Iteración 55: theta0 = -0.0014570754874637822, theta1 = 0.02278708443192714, alpha = 0.001, costo = 0.39251399156422295\n",
            "Iteración 56: theta0 = -0.0014884934279280387, theta1 = 0.022787467708342203, alpha = 0.001, costo = 0.39251300432720837\n",
            "Iteración 57: theta0 = -0.0015199113019702193, theta1 = 0.022787850984103065, alpha = 0.001, costo = 0.3925120170943681\n",
            "Iteración 58: theta0 = -0.001551329109590449, theta1 = 0.022788234259209738, alpha = 0.001, costo = 0.3925110298657021\n",
            "Iteración 59: theta0 = -0.0015827468507888533, theta1 = 0.02278861753366222, alpha = 0.001, costo = 0.39251004264121014\n",
            "Iteración 60: theta0 = -0.0016141645255655572, theta1 = 0.022789000807460512, alpha = 0.001, costo = 0.3925090554208924\n",
            "Iteración 61: theta0 = -0.0016455821339206862, theta1 = 0.02278938408060461, alpha = 0.001, costo = 0.39250806820474865\n",
            "Iteración 62: theta0 = -0.0016769996758543655, theta1 = 0.022789767353094514, alpha = 0.001, costo = 0.3925070809927792\n",
            "Iteración 63: theta0 = -0.0017084171513667206, theta1 = 0.022790150624930228, alpha = 0.001, costo = 0.3925060937849837\n",
            "Iteración 64: theta0 = -0.0017398345604578765, theta1 = 0.02279053389611176, alpha = 0.001, costo = 0.39250510658136234\n",
            "Iteración 65: theta0 = -0.0017712519031279586, theta1 = 0.022790917166639092, alpha = 0.001, costo = 0.39250411938191504\n",
            "Iteración 66: theta0 = -0.0018026691793770922, theta1 = 0.022791300436512243, alpha = 0.001, costo = 0.3925031321866418\n",
            "Iteración 67: theta0 = -0.0018340863892054025, theta1 = 0.022791683705731206, alpha = 0.001, costo = 0.39250214499554265\n",
            "Iteración 68: theta0 = -0.0018655035326130148, theta1 = 0.02279206697429598, alpha = 0.001, costo = 0.3925011578086174\n",
            "Iteración 69: theta0 = -0.0018969206096000545, theta1 = 0.022792450242206573, alpha = 0.001, costo = 0.3925001706258663\n",
            "Iteración 70: theta0 = -0.0019283376201666468, theta1 = 0.022792833509462974, alpha = 0.001, costo = 0.3924991834472892\n",
            "Iteración 71: theta0 = -0.001959754564312917, theta1 = 0.02279321677606519, alpha = 0.001, costo = 0.39249819627288585\n",
            "Iteración 72: theta0 = -0.0019911714420389904, theta1 = 0.022793600042013223, alpha = 0.001, costo = 0.3924972091026565\n",
            "Iteración 73: theta0 = -0.002022588253344992, theta1 = 0.022793983307307072, alpha = 0.001, costo = 0.39249622193660116\n",
            "Iteración 74: theta0 = -0.002054004998231048, theta1 = 0.022794366571946733, alpha = 0.001, costo = 0.39249523477471976\n",
            "Iteración 75: theta0 = -0.002085421676697283, theta1 = 0.022794749835932212, alpha = 0.001, costo = 0.3924942476170121\n",
            "Iteración 76: theta0 = -0.002116838288743822, theta1 = 0.02279513309926351, alpha = 0.001, costo = 0.3924932604634786\n",
            "Iteración 77: theta0 = -0.002148254834370791, theta1 = 0.02279551636194063, alpha = 0.001, costo = 0.3924922733141188\n",
            "Iteración 78: theta0 = -0.0021796713135783146, theta1 = 0.022795899623963566, alpha = 0.001, costo = 0.3924912861689328\n",
            "Iteración 79: theta0 = -0.0022110877263665186, theta1 = 0.022796282885332315, alpha = 0.001, costo = 0.39249029902792065\n",
            "Iteración 80: theta0 = -0.0022425040727355283, theta1 = 0.022796666146046897, alpha = 0.001, costo = 0.3924893118910822\n",
            "Iteración 81: theta0 = -0.002273920352685469, theta1 = 0.022797049406107293, alpha = 0.001, costo = 0.3924883247584179\n",
            "Iteración 82: theta0 = -0.0023053365662164655, theta1 = 0.022797432665513505, alpha = 0.001, costo = 0.39248733762992716\n",
            "Iteración 83: theta0 = -0.0023367527133286436, theta1 = 0.022797815924265545, alpha = 0.001, costo = 0.3924863505056102\n",
            "Iteración 84: theta0 = -0.0023681687940221284, theta1 = 0.022798199182363404, alpha = 0.001, costo = 0.39248536338546686\n",
            "Iteración 85: theta0 = -0.0023995848082970454, theta1 = 0.022798582439807088, alpha = 0.001, costo = 0.39248437626949745\n",
            "Iteración 86: theta0 = -0.0024310007561535196, theta1 = 0.022798965696596594, alpha = 0.001, costo = 0.39248338915770165\n",
            "Iteración 87: theta0 = -0.0024624166375916763, theta1 = 0.022799348952731925, alpha = 0.001, costo = 0.3924824020500797\n",
            "Iteración 88: theta0 = -0.0024938324526116414, theta1 = 0.02279973220821308, alpha = 0.001, costo = 0.39248141494663125\n",
            "Iteración 89: theta0 = -0.0025252482012135397, theta1 = 0.022800115463040057, alpha = 0.001, costo = 0.3924804278473566\n",
            "Iteración 90: theta0 = -0.0025566638833974965, theta1 = 0.02280049871721287, alpha = 0.001, costo = 0.3924794407522556\n",
            "Iteración 91: theta0 = -0.002588079499163637, theta1 = 0.0228008819707315, alpha = 0.001, costo = 0.39247845366132783\n",
            "Iteración 92: theta0 = -0.002619495048512087, theta1 = 0.02280126522359596, alpha = 0.001, costo = 0.3924774665745743\n",
            "Iteración 93: theta0 = -0.0026509105314429715, theta1 = 0.022801648475806246, alpha = 0.001, costo = 0.3924764794919938\n",
            "Iteración 94: theta0 = -0.0026823259479564158, theta1 = 0.022802031727362358, alpha = 0.001, costo = 0.39247549241358737\n",
            "Iteración 95: theta0 = -0.0027137412980525453, theta1 = 0.022802414978264303, alpha = 0.001, costo = 0.39247450533935435\n",
            "Iteración 96: theta0 = -0.0027451565817314854, theta1 = 0.022802798228512076, alpha = 0.001, costo = 0.3924735182692947\n",
            "Iteración 97: theta0 = -0.002776571798993361, theta1 = 0.02280318147810568, alpha = 0.001, costo = 0.39247253120340864\n",
            "Iteración 98: theta0 = -0.0028079869498382976, theta1 = 0.022803564727045107, alpha = 0.001, costo = 0.39247154414169616\n",
            "Iteración 99: theta0 = -0.002839402034266421, theta1 = 0.022803947975330374, alpha = 0.001, costo = 0.39247055708415723\n",
            "Iteración 100: theta0 = -0.0028708170522778556, theta1 = 0.022804331222961466, alpha = 0.001, costo = 0.3924695700307917\n",
            "Parámetros finales para 'Homework': theta0 = -0.0028708170522778556, theta1 = 0.022804331222961466\n"
          ]
        }
      ]
    },
    {
      "cell_type": "markdown",
      "source": [
        "### Prueba de Implementación"
      ],
      "metadata": {
        "id": "Fcbu_7Oo3DcV"
      }
    },
    {
      "cell_type": "markdown",
      "source": [
        "Utiliza el modelo entrenado para hacer predecir las salidas del subconjunto de prueba, y compara contra los datos reales en una gráfica.\n"
      ],
      "metadata": {
        "id": "VQF3Cra7TjbZ"
      }
    },
    {
      "cell_type": "code",
      "source": [
        "# Predecir las salidas del subconjunto de prueba para 'Attendance'\n",
        "y_pred_attendance_test = sigmoid(theta0_attendance + theta1_attendance * X_attendance_test) >= 0.5\n",
        "\n",
        "# Predecir las salidas del subconjunto de prueba para 'Homework'\n",
        "y_pred_homework_test = sigmoid(theta0_homework + theta1_homework * X_homework_test) >= 0.5\n"
      ],
      "metadata": {
        "id": "-1X4PyiNTn-L"
      },
      "execution_count": 85,
      "outputs": []
    },
    {
      "cell_type": "code",
      "source": [
        "# Graficar los resultados para 'Attendance'\n",
        "plt.figure(figsize=(8, 6))\n",
        "plt.scatter(X_attendance_test, y_test_values, color='blue', label='Valores Reales')\n",
        "plt.scatter(X_attendance_test, y_pred_attendance_test, color='red', marker='x', label='Predicciones del Modelo')\n",
        "plt.xlabel('Attendance')\n",
        "plt.ylabel('Pass (1 = Yes, 0 = No)')\n",
        "plt.title('Predicciones vs Valores Reales para Attendance')\n",
        "plt.legend()\n",
        "plt.show()\n",
        "\n",
        "# Graficar los resultados para 'Homework'\n",
        "plt.figure(figsize=(8, 6))\n",
        "plt.scatter(X_homework_test, y_test_values, color='blue', label='Valores Reales')\n",
        "plt.scatter(X_homework_test, y_pred_homework_test, color='red', marker='x', label='Predicciones del Modelo')\n",
        "plt.xlabel('Homework')\n",
        "plt.ylabel('Pass (1 = Yes, 0 = No)')\n",
        "plt.title('Predicciones vs Valores Reales para Homework')\n",
        "plt.legend()\n",
        "plt.show()"
      ],
      "metadata": {
        "colab": {
          "base_uri": "https://localhost:8080/",
          "height": 1000
        },
        "id": "DnEMmmlakM-v",
        "outputId": "f99cdecf-bf53-40a0-bb26-f86ff7e2de1b"
      },
      "execution_count": 86,
      "outputs": [
        {
          "output_type": "display_data",
          "data": {
            "text/plain": [
              "<Figure size 800x600 with 1 Axes>"
            ],
            "image/png": "[encoded data removed]"
          },
          "metadata": {}
        },
        {
          "output_type": "display_data",
          "data": {
            "text/plain": [
              "<Figure size 800x600 with 1 Axes>"
            ],
            "image/png": "[encoded data removed]"
          },
          "metadata": {}
        }
      ]
    },
    {
      "cell_type": "markdown",
      "source": [
        "En el caso de Attendance, parece que las observaciones con asistencia baja (cerca de 65) no pasan (clase 0), mientras que las observaciones con asistencia mayor (cerca de 75) pasan (clase 1). En este caso, el modelo predice correctamente las observaciones, ya que las cruces rojas se superponen a los puntos azules correspondientes.\n",
        "\n",
        "Para la variable Homework, las observaciones más bajas (cerca de 55) no pasan (clase 0) y las observaciones con puntajes más altos (cerca de 70) pasan (clase 1). Similar a Attendance, el modelo predice correctamente las observaciones en este caso, con las cruces rojas superpuestas a los puntos azules."
      ],
      "metadata": {
        "id": "3pYAvq3YmTO2"
      }
    },
    {
      "cell_type": "markdown",
      "source": [
        "###  Valor de la función de costo para el subconjunto de entrenamiento, y para el subconjunto de prueba."
      ],
      "metadata": {
        "id": "bgdB6gdX3K-s"
      }
    },
    {
      "cell_type": "code",
      "source": [
        "# Función de costo\n",
        "def compute_cost(X, y, theta0, theta1):\n",
        "    n = len(y)\n",
        "    z = theta0 + theta1 * X\n",
        "    h = sigmoid(z)\n",
        "    cost = -1/n * np.sum(y * np.log(h) + (1 - y) * np.log(1 - h))\n",
        "    return cost"
      ],
      "metadata": {
        "id": "SKyXDMeHZbFV"
      },
      "execution_count": 87,
      "outputs": []
    },
    {
      "cell_type": "code",
      "source": [
        "# Calcular la función de costo para el conjunto de entrenamiento y prueba para 'Attendance'\n",
        "train_cost_attendance = compute_cost(X_attendance_train, y_train_values, theta0_attendance, theta1_attendance)\n",
        "test_cost_attendance = compute_cost(X_attendance_test, y_test_values, theta0_attendance, theta1_attendance)\n",
        "print(f\"Función de costo para 'Attendance' - Entrenamiento: {train_cost_attendance}, Prueba: {test_cost_attendance}\")\n"
      ],
      "metadata": {
        "colab": {
          "base_uri": "https://localhost:8080/"
        },
        "id": "GXpQ5zkKZBzj",
        "outputId": "09db215d-f9e5-4d65-c888-9f061c0306bb"
      },
      "execution_count": 88,
      "outputs": [
        {
          "output_type": "stream",
          "name": "stdout",
          "text": [
            "Función de costo para 'Attendance' - Entrenamiento: 0.45335312936845834, Prueba: 1.5536369948909567\n"
          ]
        }
      ]
    },
    {
      "cell_type": "code",
      "source": [
        "# Calcular la función de costo para el conjunto de entrenamiento y prueba para 'Homework'\n",
        "train_cost_homework = compute_cost(X_homework_train, y_train_values, theta0_homework, theta1_homework)\n",
        "test_cost_homework = compute_cost(X_homework_test, y_test_values, theta0_homework, theta1_homework)\n",
        "print(f\"Función de costo para 'Homework' - Entrenamiento: {train_cost_homework}, Prueba: {test_cost_homework}\")"
      ],
      "metadata": {
        "colab": {
          "base_uri": "https://localhost:8080/"
        },
        "id": "ArWQVibiZiFY",
        "outputId": "2ec5ae23-d73e-40c2-fcf1-963907453613"
      },
      "execution_count": 89,
      "outputs": [
        {
          "output_type": "stream",
          "name": "stdout",
          "text": [
            "Función de costo para 'Homework' - Entrenamiento: 0.3924685829815997, Prueba: 1.6407157462830257\n"
          ]
        }
      ]
    },
    {
      "cell_type": "markdown",
      "source": [
        "Tanto en Attendance y Homework, la función del costo en el conjunto de prueba es significativamente mayor que en el conjunto de entrenamiento. Esto sugiere  que el modelo puede estar sobreajustado (overfitting) a los datos de entrenamiento. En otras palabras, el modelo ha aprendido a predecir muy bien los ejemplos en el conjunto de entrenamiento, pero no generaliza bien a ejemplos nuevos que no ha visto antes, como los del conjunto de prueba."
      ],
      "metadata": {
        "id": "lEliafevoXvw"
      }
    },
    {
      "cell_type": "markdown",
      "source": [
        "### Métricas de desempeño"
      ],
      "metadata": {
        "id": "wu2A9tdZ5T9Y"
      }
    },
    {
      "cell_type": "code",
      "source": [
        "# Métricas para 'Attendance'\n",
        "attendance_accuracy, attendance_precision, attendance_recall, attendance_f1 = confusion_matrix_metrics(y_test_values, y_pred_attendance_test)\n",
        "\n",
        "print(f\"Métricas para 'Attendance':\")\n",
        "print(f\"Accuracy: {attendance_accuracy}\")\n",
        "print(f\"Precision: {attendance_precision}\")\n",
        "print(f\"Recall: {attendance_recall}\")\n",
        "print(f\"F1 Score: {attendance_f1}\")\n"
      ],
      "metadata": {
        "colab": {
          "base_uri": "https://localhost:8080/"
        },
        "id": "OIa3GSarqmD9",
        "outputId": "15ec4988-320e-45d0-f3dc-ade5ceee52ff"
      },
      "execution_count": 90,
      "outputs": [
        {
          "output_type": "stream",
          "name": "stdout",
          "text": [
            "Métricas para 'Attendance':\n",
            "Accuracy: 0.0\n",
            "Precision: 0.0\n",
            "Recall: 0\n",
            "F1 Score: 0\n"
          ]
        }
      ]
    },
    {
      "cell_type": "code",
      "source": [
        "# Métricas para 'Homework'\n",
        "homework_accuracy, homework_precision, homework_recall, homework_f1 = confusion_matrix_metrics(y_test_values, y_pred_homework_test)\n",
        "\n",
        "print(f\"Métricas para 'Homework':\")\n",
        "print(f\"Accuracy: {homework_accuracy}\")\n",
        "print(f\"Precision: {homework_precision}\")\n",
        "print(f\"Recall: {homework_recall}\")\n",
        "print(f\"F1 Score: {homework_f1}\")\n"
      ],
      "metadata": {
        "colab": {
          "base_uri": "https://localhost:8080/"
        },
        "id": "hf0BGQVOqwJ9",
        "outputId": "463654b2-2b30-44b3-9af8-b70718afa48b"
      },
      "execution_count": 91,
      "outputs": [
        {
          "output_type": "stream",
          "name": "stdout",
          "text": [
            "Métricas para 'Homework':\n",
            "Accuracy: 0.0\n",
            "Precision: 0.0\n",
            "Recall: 0\n",
            "F1 Score: 0\n"
          ]
        }
      ]
    },
    {
      "cell_type": "code",
      "source": [
        "# Métricas para Reference\n",
        "accuracy_reference, precision_reference, recall_reference, f1_reference = confusion_matrix_metrics(df['Reference'], y)\n",
        "\n",
        "print(f\"Métricas para la referencia:\")\n",
        "print(f\"Accuracy: {accuracy_reference}\")\n",
        "print(f\"Precision: {precision_reference}\")\n",
        "print(f\"Recall: {recall_reference}\")\n",
        "print(f\"F1 Score: {f1_reference}\")"
      ],
      "metadata": {
        "colab": {
          "base_uri": "https://localhost:8080/"
        },
        "id": "n55AycQtMLcU",
        "outputId": "e72d6124-d6b2-435f-c041-a8d311b9fdef"
      },
      "execution_count": 92,
      "outputs": [
        {
          "output_type": "stream",
          "name": "stdout",
          "text": [
            "Métricas para la referencia:\n",
            "Accuracy: 0.75\n",
            "Precision: 0.6\n",
            "Recall: 1.0\n",
            "F1 Score: 0.7499999999999999\n"
          ]
        }
      ]
    },
    {
      "cell_type": "markdown",
      "source": [
        "**¿Cuál es mejor? ¿Le ganan a la referencia?**"
      ],
      "metadata": {
        "id": "HyJlLHhBb9zq"
      }
    },
    {
      "cell_type": "markdown",
      "source": [
        "Los clasificadores basados en Attendance y Homework son claramente inferiores al clasificador de referencia. Ninguna de las métricas para Attendance o Homework es positiva, lo que indica que estos modelos no pueden hacer predicciones útiles.\n",
        "El clasificador basado en la referencia es significativamente mejor que los otros dos modelos en términos de todas las métricas importantes.\n",
        "\n"
      ],
      "metadata": {
        "id": "abLB_XbdN0Rf"
      }
    },
    {
      "cell_type": "markdown",
      "source": [
        "# Exportar a PDF"
      ],
      "metadata": {
        "id": "Jp_mr-67q7ZM"
      }
    },
    {
      "cell_type": "code",
      "source": [
        "!jupyter nbconvert --to html \"/content/drive/MyDrive/ColabNotebooks/Week02_Challenge1.ipynb\"\n"
      ],
      "metadata": {
        "colab": {
          "base_uri": "https://localhost:8080/"
        },
        "id": "b4EEx5mjqM2e",
        "outputId": "d980b4ff-9345-4c97-e35c-c5a715ffe58c"
      },
      "execution_count": 94,
      "outputs": [
        {
          "output_type": "stream",
          "name": "stdout",
          "text": [
            "[NbConvertApp] Converting notebook /content/drive/MyDrive/ColabNotebooks/Week02_Challenge1.ipynb to html\n",
            "[NbConvertApp] Writing 780591 bytes to /content/drive/MyDrive/ColabNotebooks/Week02_Challenge1.html\n"
          ]
        }
      ]
    }
  ]
}